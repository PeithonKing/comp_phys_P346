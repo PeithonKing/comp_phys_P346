{
 "cells": [
  {
   "cell_type": "code",
   "execution_count": 1,
   "metadata": {},
   "outputs": [],
   "source": [
    "from library.matrix import Matrix, randmat"
   ]
  },
  {
   "cell_type": "code",
   "execution_count": 2,
   "metadata": {},
   "outputs": [
    {
     "name": "stdout",
     "output_type": "stream",
     "text": [
      "5.1248648162686194\n",
      "e-vector.1.2313399353773103e-07 = |0.224   \b\b\b|\n",
      "                                  |-0.928  \b\b|\n",
      "                                  |0.296   \b\b\b|\n",
      "\n"
     ]
    }
   ],
   "source": [
    "A = Matrix(\n",
    "    [\n",
    "        [1, -1, 0],\n",
    "        [-2, 4, -2],\n",
    "        [0, -1, 2],\n",
    "    ], \"A\", 3\n",
    ")\n",
    "\n",
    "\n",
    "def get_eigen(A, e):\n",
    "    x0 = randmat((3, 1), name=\"x0\", precision=3)\n",
    "    # x0 = Matrix([[1], [2], [3]], \"x0\", 3)\n",
    "    \n",
    "    i = 2\n",
    "    y = x0\n",
    "    z = A@y\n",
    "    k0 = ((z.T()@x0)/(x0.T()@x0)).mat[0][0]\n",
    "    y=z\n",
    "    z = A@y\n",
    "    k1 = ((z.T()@x0)/(y.T()@x0)).mat[0][0]\n",
    "    \n",
    "    while abs(k1-k0)>e:\n",
    "        i += 1\n",
    "        k0 = k1\n",
    "        y = z\n",
    "        z = A@y\n",
    "        k1 = ((z.T()@x0)/(y.T()@x0)).mat[0][0]\n",
    "    \n",
    "    y.name = \"e-vector\"    \n",
    "    return k1, y.normalise()\n",
    "\n",
    "k1, y = get_eigen(A, 0.0001)\n",
    "print(k1)\n",
    "print(y)"
   ]
  }
 ],
 "metadata": {
  "kernelspec": {
   "display_name": "Python 3 (ipykernel)",
   "language": "python",
   "name": "python3"
  },
  "language_info": {
   "codemirror_mode": {
    "name": "ipython",
    "version": 3
   },
   "file_extension": ".py",
   "mimetype": "text/x-python",
   "name": "python",
   "nbconvert_exporter": "python",
   "pygments_lexer": "ipython3",
   "version": "3.9.13"
  },
  "vscode": {
   "interpreter": {
    "hash": "95b59b4b0e72d3e94105c3ab4f1a1e6e746e4c2a7c235241251baf92fb36381f"
   }
  }
 },
 "nbformat": 4,
 "nbformat_minor": 2
}
