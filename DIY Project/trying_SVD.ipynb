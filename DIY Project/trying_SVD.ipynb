{
 "cells": [
  {
   "cell_type": "code",
   "execution_count": 1,
   "metadata": {},
   "outputs": [],
   "source": [
    "import numpy as np\n",
    "from numpy import linalg as LA"
   ]
  },
  {
   "cell_type": "code",
   "execution_count": 2,
   "metadata": {},
   "outputs": [],
   "source": [
    "def SVD(A):\n",
    "    e_val, e_vec = LA.eig(A.T@A)\n",
    "    V = e_vec\n",
    "    print(f\"{V.T = }\")\n",
    "    S = np.sqrt(e_val)\n",
    "    print(f\"{S = }\")\n",
    "    U = A@(e_vec/S)\n",
    "    return U, S, V.T"
   ]
  },
  {
   "cell_type": "code",
   "execution_count": 3,
   "metadata": {},
   "outputs": [
    {
     "name": "stdout",
     "output_type": "stream",
     "text": [
      "V.T = array([[-7.07106781e-01, -7.07106781e-01, -4.55680392e-17],\n",
      "       [-6.66666667e-01,  6.66666667e-01,  3.33333333e-01],\n",
      "       [ 2.35702260e-01, -2.35702260e-01,  9.42809042e-01]])\n",
      "S = array([5.0000000e+00, 7.0939642e-08, 3.0000000e+00])\n"
     ]
    }
   ],
   "source": [
    "# A = np.array(\n",
    "#     [\n",
    "#         [1, 1],\n",
    "#         [0, -1.01],\n",
    "#         [-1, 1]\n",
    "#     ]\n",
    "# )\n",
    "\n",
    "A = np.array(\n",
    "    [\n",
    "        [3, 2, 2],\n",
    "        [2, 3, -2]\n",
    "    ]\n",
    ")\n",
    "\n",
    "U, S, V = SVD(A)\n",
    "S = np.diag(S)"
   ]
  },
  {
   "cell_type": "code",
   "execution_count": 4,
   "metadata": {},
   "outputs": [
    {
     "name": "stdout",
     "output_type": "stream",
     "text": [
      "U = \n",
      "[[-7.07106781e-01  0.00000000e+00  7.07106781e-01]\n",
      " [-7.07106781e-01 -1.11758709e-08 -7.07106781e-01]]\n",
      "\n",
      "S = \n",
      "[[5.0000000e+00 0.0000000e+00 0.0000000e+00]\n",
      " [0.0000000e+00 7.0939642e-08 0.0000000e+00]\n",
      " [0.0000000e+00 0.0000000e+00 3.0000000e+00]]\n",
      "\n",
      "V = \n",
      "[[-7.07106781e-01 -7.07106781e-01 -4.55680392e-17]\n",
      " [-6.66666667e-01  6.66666667e-01  3.33333333e-01]\n",
      " [ 2.35702260e-01 -2.35702260e-01  9.42809042e-01]]\n",
      "\n"
     ]
    }
   ],
   "source": [
    "print(f\"U = \\n{U}\\n\")\n",
    "print(f\"S = \\n{S}\\n\")\n",
    "print(f\"V = \\n{V}\\n\")"
   ]
  },
  {
   "cell_type": "code",
   "execution_count": 5,
   "metadata": {},
   "outputs": [
    {
     "data": {
      "text/plain": [
       "array([[False,  True,  True],\n",
       "       [False, False, False]])"
      ]
     },
     "execution_count": 5,
     "metadata": {},
     "output_type": "execute_result"
    }
   ],
   "source": [
    "# checking if actually A = U*S*V\n",
    "A == U @ S @ V"
   ]
  }
 ],
 "metadata": {
  "kernelspec": {
   "display_name": "Python 3.9.13 64-bit (microsoft store)",
   "language": "python",
   "name": "python3"
  },
  "language_info": {
   "codemirror_mode": {
    "name": "ipython",
    "version": 3
   },
   "file_extension": ".py",
   "mimetype": "text/x-python",
   "name": "python",
   "nbconvert_exporter": "python",
   "pygments_lexer": "ipython3",
   "version": "3.9.13"
  },
  "orig_nbformat": 4,
  "vscode": {
   "interpreter": {
    "hash": "95b59b4b0e72d3e94105c3ab4f1a1e6e746e4c2a7c235241251baf92fb36381f"
   }
  }
 },
 "nbformat": 4,
 "nbformat_minor": 2
}
