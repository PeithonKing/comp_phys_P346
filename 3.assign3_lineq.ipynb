{
 "cells": [
  {
   "cell_type": "code",
   "execution_count": 1,
   "metadata": {},
   "outputs": [],
   "source": [
    "# Importing the Matrix class from the basic_arithmetic&module\n",
    "from library.matrix import Matrix"
   ]
  },
  {
   "cell_type": "markdown",
   "metadata": {},
   "source": [
    "Relevant Library parts:\n",
    " - [class ```Matrix()```](library/matrix.py)"
   ]
  },
  {
   "cell_type": "markdown",
   "metadata": {},
   "source": [
    "# Q1: Use Gauss-Jordon and LU decomposition to solve this set of linear equations\n",
    "\n",
    "\n",
    "$19 = a_1-a_2+4a_3+2a_5+9a_6$\n",
    "\n",
    "$2 = 5a_2-2a_3+7a_4+8a_5+4a_6$\n",
    "\n",
    "$13 = a_1+5a_3+7a_4+3a_5-2a_6$\n",
    "\n",
    "$-7 = 6a_1-a_2+2a_3+3a_4+8a_6$\n",
    "\n",
    "$-9 = -4a_1+2a_2+5a_4-5a_5+3a_6$\n",
    "\n",
    "$2 = 7a_2-a_3+5a_4+4a_5-2a_6$"
   ]
  },
  {
   "cell_type": "markdown",
   "metadata": {},
   "source": [
    "## Solution using Gauss-Jordan method"
   ]
  },
  {
   "cell_type": "code",
   "execution_count": 2,
   "metadata": {},
   "outputs": [],
   "source": [
    "# defining the number of places to show after the decimal point\n",
    "precision = 3\n",
    "\n",
    "# Defining the Given Matrices\n",
    "A = Matrix(\n",
    "    [\n",
    "        [1, -1, 4, 0, 2, 9],\n",
    "        [0, 5, -2, 7, 8, 4],\n",
    "        [1, 0, 5, 7, 3, -2],\n",
    "        [6, -1, 2, 3, 0, 8],\n",
    "        [-4, 2, 0, 5, -5, 3],\n",
    "        [0, 7, -1, 5, 4, -2],\n",
    "    ], \"A\", precision\n",
    ")\n",
    "\n",
    "B = Matrix(\n",
    "    [\n",
    "        [19],\n",
    "        [2],\n",
    "        [13],\n",
    "        [-7],\n",
    "\t\t[-9],\n",
    "\t\t[2]\n",
    "    ], \"B\", precision\n",
    ")"
   ]
  },
  {
   "cell_type": "code",
   "execution_count": 3,
   "metadata": {},
   "outputs": [],
   "source": [
    "# Importing libraries\n",
    "from library.linear_equations import gauss_jordan"
   ]
  },
  {
   "cell_type": "markdown",
   "metadata": {},
   "source": [
    "Relevant library parts:\n",
    " - [```gauss_jordan(A, B, verbose = False)```](library/linear_equations.py#L10-L38)"
   ]
  },
  {
   "cell_type": "code",
   "execution_count": 4,
   "metadata": {},
   "outputs": [
    {
     "name": "stdout",
     "output_type": "stream",
     "text": [
      "x = |-1.762 |\n",
      "    |0.896  |\n",
      "    |4.052  |\n",
      "    |-1.617 |\n",
      "    |2.042  |\n",
      "    |0.152  |\n",
      "\n"
     ]
    }
   ],
   "source": [
    "x = gauss_jordan(A, B)\n",
    "print(x)"
   ]
  },
  {
   "cell_type": "markdown",
   "metadata": {},
   "source": [
    "## L-U Decomposition"
   ]
  },
  {
   "cell_type": "code",
   "execution_count": 5,
   "metadata": {},
   "outputs": [],
   "source": [
    "# defining the number of places to show after the decimal point\n",
    "precision = 3\n",
    "\n",
    "# Defining the Given Matrices again because gauss jordan did inplace operations and changed the matrices\n",
    "A = Matrix(\n",
    "    [\n",
    "        [1, -1, 4, 0, 2, 9],\n",
    "        [0, 5, -2, 7, 8, 4],\n",
    "        [1, 0, 5, 7, 3, -2],\n",
    "        [6, -1, 2, 3, 0, 8],\n",
    "        [-4, 2, 0, 5, -5, 3],\n",
    "        [0, 7, -1, 5, 4, -2],\n",
    "    ], \"A\", precision\n",
    ")\n",
    "\n",
    "B = Matrix(\n",
    "    [\n",
    "        [19],\n",
    "\t\t[2],\n",
    "\t\t[13],\n",
    "\t\t[-7],\n",
    "\t\t[-9],\n",
    "\t\t[2]\n",
    "    ], \"B\", precision\n",
    ")"
   ]
  },
  {
   "cell_type": "code",
   "execution_count": 6,
   "metadata": {},
   "outputs": [],
   "source": [
    "from library.linear_equations import LU_Decomposition, forward_propagation, backward_propagation"
   ]
  },
  {
   "cell_type": "markdown",
   "metadata": {},
   "source": [
    "Relevant library parts:\n",
    " - [```lu_decomposition(A)```](library/linear_equations.py#L73-L101)\n",
    " - [```forward_propagation(L, B)```](library/linear_equations.py#L41-L54)\n",
    " - [```backward_propagation(U, y)```](library/linear_equations.py#L57-L70)\n",
    "\n",
    "#### I have implemented the algorithms in a vectorised manner. I have writen all the code myself. Though it wasn't an easy task, I would be greatful if you have a glance at my functions in the library file (link above 👆)."
   ]
  },
  {
   "cell_type": "code",
   "execution_count": 7,
   "metadata": {},
   "outputs": [
    {
     "name": "stdout",
     "output_type": "stream",
     "text": [
      "x = |-1.762 |\n",
      "    |0.896  |\n",
      "    |4.052  |\n",
      "    |-1.617 |\n",
      "    |2.042  |\n",
      "    |0.152  |\n",
      "\n"
     ]
    }
   ],
   "source": [
    "L, U = LU_Decomposition(A)\n",
    "y = forward_propagation(L, B)\n",
    "x = backward_propagation(U, y)\n",
    "print(x)"
   ]
  },
  {
   "cell_type": "markdown",
   "metadata": {},
   "source": [
    "# Q2: Solve the following linear equation by Cholesky decomposition (check for symmetric matrix) and Gauss-Seidel to a precision of $10^{-6}$.\n",
    "\n",
    "$$\n",
    "\\begin{pmatrix}\n",
    "4 & -1 & 0 & -1 & 0 & 0\\\\\n",
    "-1 & 4 & -1 & 0 & -1 & 0\\\\\n",
    "0 & -1 & 4 & 0 & 0 & -1\\\\\n",
    "-1 & 0 & 0 & 4 & -1 & 0\\\\\n",
    "0 & -1 & 0 & -1 & 4 & -1\\\\\n",
    "0 & 0 & -1 & 0 & -1 & 4\n",
    "\\end{pmatrix}\n",
    "\n",
    "\\times\n",
    "\n",
    "\\begin{pmatrix}\n",
    "x_1\\\\\n",
    "x_2\\\\\n",
    "x_3\\\\\n",
    "x_4\\\\\n",
    "x_5\\\\\n",
    "x_6\n",
    "\\end{pmatrix}\n",
    "\n",
    "=\n",
    "\n",
    "\\begin{pmatrix}\n",
    "2\\\\\n",
    "1\\\\\n",
    "2\\\\\n",
    "2\\\\\n",
    "1\\\\\n",
    "2\n",
    "\\end{pmatrix}$$"
   ]
  },
  {
   "cell_type": "markdown",
   "metadata": {},
   "source": [
    "## Cholesky Decomposition"
   ]
  },
  {
   "cell_type": "code",
   "execution_count": 8,
   "metadata": {},
   "outputs": [],
   "source": [
    "precision = 3\n",
    "\n",
    "A = Matrix(\n",
    "    [\n",
    "        [4, -1, 0, -1, 0, 0],\n",
    "        [-1, 4, -1, 0, -1, 0],\n",
    "        [0, -1, 4, 0, 0, -1],\n",
    "        [-1, 0, 0, 4, -1, 0],\n",
    "        [0, -1, 0, -1, 4, -1],\n",
    "        [0, 0, -1, 0, -1, 4],\n",
    "    ], \"A\", precision\n",
    ")\n",
    "\n",
    "B = Matrix(\n",
    "    [\n",
    "        [2],\n",
    "        [1],\n",
    "        [2],\n",
    "        [2],\n",
    "        [1],\n",
    "        [2]\n",
    "\t], \"B\", precision\n",
    ")"
   ]
  },
  {
   "cell_type": "code",
   "execution_count": 9,
   "metadata": {},
   "outputs": [],
   "source": [
    "from library.linear_equations import gauss_seidel, Cholesky_Decomposition"
   ]
  },
  {
   "cell_type": "markdown",
   "metadata": {},
   "source": [
    "Relevant library parts:\n",
    " - [```gauss_siedel(A, B, tol=1e-6, guess=None, seed=0.1, max_iter=100)```](library/linear_equations.py#L104-L136)\n",
    " - [```Cholesky_Decomposition(A)```](library/linear_equations.py#L178-L196)\n",
    "\n",
    "We had imported the forward and backward propagation functions while doinf the LU decomposition. The same functions will also work for the Cholesky decomposition."
   ]
  },
  {
   "cell_type": "code",
   "execution_count": 10,
   "metadata": {},
   "outputs": [
    {
     "name": "stdout",
     "output_type": "stream",
     "text": [
      "x = |1.0    |\n",
      "    |1.0    |\n",
      "    |1      |\n",
      "    |1      |\n",
      "    |1      |\n",
      "    |1.0    |\n",
      "\n"
     ]
    }
   ],
   "source": [
    "L = Cholesky_Decomposition(A)\n",
    "y = forward_propagation(L, B)\n",
    "x = backward_propagation(L.T(), y)\n",
    "print(x)"
   ]
  },
  {
   "cell_type": "markdown",
   "metadata": {},
   "source": [
    "## Gauss-Seidel"
   ]
  },
  {
   "cell_type": "code",
   "execution_count": 11,
   "metadata": {},
   "outputs": [],
   "source": [
    "precision = 3\n",
    "\n",
    "A = Matrix(\n",
    "    [\n",
    "        [4, -1, 0, -1, 0, 0],\n",
    "        [-1, 4, -1, 0, -1, 0],\n",
    "        [0, -1, 4, 0, 0, -1],\n",
    "        [-1, 0, 0, 4, -1, 0],\n",
    "        [0, -1, 0, -1, 4, -1],\n",
    "        [0, 0, -1, 0, -1, 4],\n",
    "    ], \"A\", precision\n",
    ")\n",
    "\n",
    "B = Matrix(\n",
    "    [\n",
    "        [2],\n",
    "        [1],\n",
    "        [2],\n",
    "        [2],\n",
    "        [1],\n",
    "        [2]\n",
    "\t], \"B\", precision\n",
    ")"
   ]
  },
  {
   "cell_type": "code",
   "execution_count": 12,
   "metadata": {},
   "outputs": [
    {
     "name": "stdout",
     "output_type": "stream",
     "text": [
      "x = |1.0    |\n",
      "    |1.0    |\n",
      "    |1.0    |\n",
      "    |1.0    |\n",
      "    |1.0    |\n",
      "    |1.0    |\n",
      "\n",
      "number of iterations for the required precision: 6\n"
     ]
    }
   ],
   "source": [
    "x, i = gauss_seidel(A, B, tol = 1e-6, seed=0.1, max_iter = 100)\n",
    "print(x)\n",
    "print(\"number of iterations for the required precision:\", i)"
   ]
  },
  {
   "cell_type": "code",
   "execution_count": 13,
   "metadata": {},
   "outputs": [
    {
     "name": "stdout",
     "output_type": "stream",
     "text": [
      "True\n"
     ]
    }
   ],
   "source": [
    "# just checking\n",
    "print(A@x==B)"
   ]
  },
  {
   "cell_type": "markdown",
   "metadata": {},
   "source": [
    "# Q3: Solve the following linear equation by LU decomposition (without rearranging) and Jacobi & Gauss-Seidel (with rearranging to make diagonally dominant using code) to a precision of $10^{-6}$\n",
    "\n",
    "$$\n",
    "\\begin{pmatrix}\n",
    "4&0&4&10&1\\\\\n",
    "0&4&2&0&1\\\\\n",
    "2&5&1&3&13\\\\\n",
    "11&3&0&1&2\\\\\n",
    "3&2&7&1&0\\\\\n",
    "\\end{pmatrix}\n",
    "\n",
    "\\times\n",
    "\n",
    "\\begin{pmatrix}\n",
    "x_1\\\\x_2\\\\x_3\\\\x_4\\\\x_5\n",
    "\\end{pmatrix}\n",
    "\n",
    "=\n",
    "\n",
    "\\begin{pmatrix}\n",
    "20\\\\15\\\\92\\\\51\\\\15\n",
    "\\end{pmatrix}\n",
    "$$"
   ]
  },
  {
   "cell_type": "markdown",
   "metadata": {},
   "source": [
    "## LU Decomposition without rearranging"
   ]
  },
  {
   "cell_type": "code",
   "execution_count": 14,
   "metadata": {
    "tags": []
   },
   "outputs": [],
   "source": [
    "precision = 3\n",
    "\n",
    "A = Matrix(\n",
    "    [\n",
    "        [4, 0, 4, 10, 1],\n",
    "        [0, 4, 2, 0, 1],\n",
    "        [2, 5, 1, 3, 13],\n",
    "        [11, 3, 0, 1, 2],\n",
    "        [3, 2, 7, 1, 0],\n",
    "    ], \"A\", precision\n",
    ")\n",
    "\n",
    "B = Matrix([[20], [15], [92], [51], [15]], \"B\", precision)"
   ]
  },
  {
   "cell_type": "code",
   "execution_count": 15,
   "metadata": {},
   "outputs": [
    {
     "name": "stdout",
     "output_type": "stream",
     "text": [
      "x = |2.979  |\n",
      "    |2.216  |\n",
      "    |0.211  |\n",
      "    |0.152  |\n",
      "    |5.715  |\n",
      "\n"
     ]
    }
   ],
   "source": [
    "L, U = LU_Decomposition(A)\n",
    "y = forward_propagation(L, B)\n",
    "x = backward_propagation(U, y)\n",
    "print(x)"
   ]
  },
  {
   "cell_type": "markdown",
   "metadata": {},
   "source": [
    "## Gauss-Seidel with rearranging"
   ]
  },
  {
   "cell_type": "code",
   "execution_count": 16,
   "metadata": {},
   "outputs": [],
   "source": [
    "from library.linear_equations import make_diag_dominant\n",
    "from library.linear_equations import jacobi"
   ]
  },
  {
   "cell_type": "markdown",
   "metadata": {},
   "source": [
    "Relevant library parts:\n",
    " - [```make_diag_dominant(A, B)```](library/linear_equations.py#L199-L215)\n",
    " - [```jacobi(A, B, x0, tol = 1e-6, max_iter = 1000)```](library/linear_equations.py#L139-L175)"
   ]
  },
  {
   "cell_type": "code",
   "execution_count": 17,
   "metadata": {},
   "outputs": [],
   "source": [
    "precision = 3\n",
    "\n",
    "A = Matrix(\n",
    "    [\n",
    "        [4, 0, 4, 10, 1],\n",
    "        [0, 4, 2, 0, 1],\n",
    "        [2, 5, 1, 3, 13],\n",
    "        [11, 3, 0, 1, 2],\n",
    "        [3, 2, 7, 1, 0],\n",
    "    ], \"A\", precision\n",
    ")\n",
    "\n",
    "B = Matrix([[20], [15], [92], [51], [15]], \"B\", precision)\n",
    "\n",
    "A, B = make_diag_dominant(A, B)"
   ]
  },
  {
   "cell_type": "code",
   "execution_count": 18,
   "metadata": {},
   "outputs": [
    {
     "name": "stdout",
     "output_type": "stream",
     "text": [
      "x = |2.979  |\n",
      "    |2.216  |\n",
      "    |0.211  |\n",
      "    |0.152  |\n",
      "    |5.715  |\n",
      "\n",
      "number of iterations for the required precision: 5\n"
     ]
    }
   ],
   "source": [
    "x, i = gauss_seidel(A, B, tol = 1e-6, seed=0.2, max_iter = 100)\n",
    "print(x)\n",
    "print(\"number of iterations for the required precision:\", i)"
   ]
  },
  {
   "cell_type": "code",
   "execution_count": 19,
   "metadata": {},
   "outputs": [
    {
     "name": "stdout",
     "output_type": "stream",
     "text": [
      "True\n"
     ]
    }
   ],
   "source": [
    "# just checking\n",
    "print(A@x==B)"
   ]
  },
  {
   "cell_type": "markdown",
   "metadata": {},
   "source": [
    "## Jacobi with rearranging"
   ]
  },
  {
   "cell_type": "code",
   "execution_count": 20,
   "metadata": {},
   "outputs": [
    {
     "name": "stdout",
     "output_type": "stream",
     "text": [
      "x = |2.979  |\n",
      "    |2.216  |\n",
      "    |0.211  |\n",
      "    |0.152  |\n",
      "    |5.715  |\n",
      "\n",
      "number of iterations for the required precision: 62\n"
     ]
    }
   ],
   "source": [
    "# didn't need to redefine matrices because gauss seidel is not inplace operation\n",
    "x, i = jacobi(A, B, tol = 1e-6, seed=0.2, max_iter = 100)\n",
    "print(x)\n",
    "print(\"number of iterations for the required precision:\", i)"
   ]
  }
 ],
 "metadata": {
  "kernelspec": {
   "display_name": "Python 3 (ipykernel)",
   "language": "python",
   "name": "python3"
  },
  "language_info": {
   "codemirror_mode": {
    "name": "ipython",
    "version": 3
   },
   "file_extension": ".py",
   "mimetype": "text/x-python",
   "name": "python",
   "nbconvert_exporter": "python",
   "pygments_lexer": "ipython3",
   "version": "3.9.13"
  },
  "vscode": {
   "interpreter": {
    "hash": "95b59b4b0e72d3e94105c3ab4f1a1e6e746e4c2a7c235241251baf92fb36381f"
   }
  }
 },
 "nbformat": 4,
 "nbformat_minor": 2
}
