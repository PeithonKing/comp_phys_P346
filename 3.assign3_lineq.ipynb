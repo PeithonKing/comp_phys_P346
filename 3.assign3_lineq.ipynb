{
 "cells": [
  {
   "cell_type": "code",
   "execution_count": 1,
   "metadata": {},
   "outputs": [],
   "source": [
    "# Importing the Matrix class from the basic_arithmetic module\n",
    "from library.matrix import Matrix"
   ]
  },
  {
   "cell_type": "markdown",
   "metadata": {},
   "source": [
    "# Q1: Use Gauss-Jordon and LU decomposition to solve this set of linear equations\n",
    "\n",
    "$$\n",
    "19 = a_1-a_2+4a_3+2a_5+9a_6\\\\\n",
    "2 = 5a_2-2a_3+7a_4+8a_5+4a_6\\\\\n",
    "13 = a_1+5a_3+7a_4+3a_5-2a_6\\\\\n",
    "-7 = 6a_1-a_2+2a_3+3a_4+8a_6\\\\\n",
    "-9 = -4a_1+2a_2+5a_4-5a_5+3a_6\\\\\n",
    "2 = 7a_2-a_3+5a_4+4a_5-2a_6\n",
    "$$\n"
   ]
  },
  {
   "cell_type": "markdown",
   "metadata": {},
   "source": [
    "## Solution using Gauss-Jordan method"
   ]
  },
  {
   "cell_type": "code",
   "execution_count": 2,
   "metadata": {},
   "outputs": [],
   "source": [
    "# defining the number of places to show after the decimal point\n",
    "precision = 3\n",
    "\n",
    "# Defining the Given Matrices\n",
    "A = Matrix(\n",
    "    [\n",
    "        [1, -1, 4, 0, 2, 9],\n",
    "        [0, 5, -2, 7, 8, 4],\n",
    "        [1, 0, 5, 7, 3, -2],\n",
    "        [6, -1, 2, 3, 0, 8],\n",
    "        [-4, 2, 0, 5, -5, 3],\n",
    "        [0, 7, -1, 5, 4, -2],\n",
    "    ], \"A\", precision\n",
    ")\n",
    "\n",
    "B = Matrix(\n",
    "    [\n",
    "        [19],\n",
    "\t\t[2],\n",
    "\t\t[13],\n",
    "\t\t[-7],\n",
    "\t\t[-9],\n",
    "\t\t[2]\n",
    "    ], \"B\", precision\n",
    ")"
   ]
  },
  {
   "cell_type": "code",
   "execution_count": 3,
   "metadata": {},
   "outputs": [],
   "source": [
    "# Importing libraries\n",
    "from library.linear_equations import gauss_jordan"
   ]
  },
  {
   "cell_type": "markdown",
   "metadata": {},
   "source": [
    "Relevant library parts:\n",
    " - [```gauss_jordan(A, B, verbose = False)```](library/linear_equations.py#L7-L38)"
   ]
  },
  {
   "cell_type": "code",
   "execution_count": 4,
   "metadata": {},
   "outputs": [
    {
     "name": "stdout",
     "output_type": "stream",
     "text": [
      "Sol = |-1.762 |\n",
      "      |0.896  |\n",
      "      |4.052  |\n",
      "      |-1.617 |\n",
      "      |2.042  |\n",
      "      |0.152  |\n",
      "\n"
     ]
    }
   ],
   "source": [
    "print(gauss_jordan(A, B))"
   ]
  },
  {
   "cell_type": "markdown",
   "metadata": {},
   "source": [
    "## L-U Decomposition"
   ]
  },
  {
   "cell_type": "code",
   "execution_count": 5,
   "metadata": {},
   "outputs": [],
   "source": [
    "# defining the number of places to show after the decimal point\n",
    "precision = 3\n",
    "\n",
    "# Defining the Given Matrices again because gauss jordan did inplace operations and changed the matrices\n",
    "A = Matrix(\n",
    "    [\n",
    "        [1, -1, 4, 0, 2, 9],\n",
    "        [0, 5, -2, 7, 8, 4],\n",
    "        [1, 0, 5, 7, 3, -2],\n",
    "        [6, -1, 2, 3, 0, 8],\n",
    "        [-4, 2, 0, 5, -5, 3],\n",
    "        [0, 7, -1, 5, 4, -2],\n",
    "    ], \"A\", precision\n",
    ")\n",
    "\n",
    "B = Matrix(\n",
    "    [\n",
    "        [19],\n",
    "\t\t[2],\n",
    "\t\t[13],\n",
    "\t\t[-7],\n",
    "\t\t[-9],\n",
    "\t\t[2]\n",
    "    ], \"B\", precision\n",
    ")"
   ]
  },
  {
   "cell_type": "code",
   "execution_count": 6,
   "metadata": {},
   "outputs": [],
   "source": [
    "from library.linear_equations import LU_Decomposition, forward_propagation, backward_propagation"
   ]
  },
  {
   "cell_type": "markdown",
   "metadata": {},
   "source": [
    "Relevant library parts:\n",
    " - [```lu_decomposition(A)```](library/linear_equations.py#80-L108)\n",
    " - [```forward_propagation(L, B)```](library/linear_equations.py#L41-L57)\n",
    " - [```backward_propagation(U, y)```](library/linear_equations.py#60-77)"
   ]
  },
  {
   "cell_type": "code",
   "execution_count": 7,
   "metadata": {},
   "outputs": [
    {
     "name": "stdout",
     "output_type": "stream",
     "text": [
      "x = |-1.762 |\n",
      "    |0.896  |\n",
      "    |4.052  |\n",
      "    |-1.617 |\n",
      "    |2.042  |\n",
      "    |0.152  |\n",
      "\n"
     ]
    }
   ],
   "source": [
    "L, U = LU_Decomposition(A)\n",
    "print(L)\n",
    "print(U)\n",
    "y = forward_propagation(L, B)\n",
    "x = backward_propagation(U, y)\n",
    "print(x)"
   ]
  },
  {
   "cell_type": "markdown",
   "metadata": {},
   "source": [
    "# Q2: Solve the following linear equation by Cholesky decomposition (check for symmetric matrix) and Gauss-Seidel to a precision of $10^{-6}$.\n",
    "\n",
    "$$\n",
    "\\begin{pmatrix}\n",
    "4 & -1 & 0 & -1 & 0 & 0\\\\\n",
    "-1 & 4 & -1 & 0 & -1 & 0\\\\\n",
    "0 & -1 & 4 & 0 & 0 & -1\\\\\n",
    "-1 & 0 & 0 & 4 & -1 & 0\\\\\n",
    "0 & -1 & 0 & -1 & 4 & -1\\\\\n",
    "0 & 0 & -1 & 0 & -1 & 4\n",
    "\\end{pmatrix}\n",
    "\n",
    "\\begin{pmatrix}\n",
    "x_1\\\\\n",
    "x_2\\\\\n",
    "x_3\\\\\n",
    "x_4\\\\\n",
    "x_5\\\\\n",
    "x_6\n",
    "\\end{pmatrix}\n",
    "\n",
    "=\n",
    "\n",
    "\\begin{pmatrix}\n",
    "2\\\\\n",
    "1\\\\\n",
    "2\\\\\n",
    "2\\\\\n",
    "1\\\\\n",
    "2\n",
    "\\end{pmatrix}$$"
   ]
  },
  {
   "cell_type": "markdown",
   "metadata": {},
   "source": [
    "## Gauss-Seidel"
   ]
  },
  {
   "cell_type": "code",
   "execution_count": 8,
   "metadata": {},
   "outputs": [],
   "source": [
    "precision = 10\n",
    "\n",
    "A = Matrix(\n",
    "    [\n",
    "        [4, -1, 0, -1, 0, 0],\n",
    "        [-1, 4, -1, 0, -1, 0],\n",
    "        [0, -1, 4, 0, 0, -1],\n",
    "        [-1, 0, 0, 4, -1, 0],\n",
    "        [0, -1, 0, -1, 4, -1],\n",
    "        [0, 0, -1, 0, -1, 4],\n",
    "    ], \"A\", precision\n",
    ")\n",
    "\n",
    "B = Matrix(\n",
    "    [\n",
    "        [2],\n",
    "        [1],\n",
    "        [2],\n",
    "        [2],\n",
    "        [1],\n",
    "        [2]\n",
    "\t], \"B\", precision\n",
    ")"
   ]
  },
  {
   "cell_type": "code",
   "execution_count": 9,
   "metadata": {},
   "outputs": [],
   "source": [
    "from library.linear_equations import gauss_siedel, Cholesky_Decomposition"
   ]
  },
  {
   "cell_type": "markdown",
   "metadata": {},
   "source": [
    "Relevant library parts:\n",
    " - [```gauss_siedel()```](library/linear_equations.py#111-L132)\n",
    " - [```Cholesky_Decomposition(A)```](library/linear_equations.py#134-L171)"
   ]
  },
  {
   "cell_type": "code",
   "execution_count": 10,
   "metadata": {},
   "outputs": [
    {
     "name": "stdout",
     "output_type": "stream",
     "text": [
      "x = |1.0    |\n",
      "    |1.0    |\n",
      "    |1.0    |\n",
      "    |1.0    |\n",
      "    |1.0    |\n",
      "    |1.0    |\n",
      "\n",
      "number of iterations:  30\n"
     ]
    }
   ],
   "source": [
    "x, i = gauss_siedel(A, B, tol = 1e-6, seed=0.1, max_iter = 100)\n",
    "print(x)\n",
    "print(\"number of iterations:\", i)"
   ]
  },
  {
   "cell_type": "markdown",
   "metadata": {},
   "source": [
    "## Cholesky Decomposition"
   ]
  },
  {
   "cell_type": "code",
   "execution_count": 11,
   "metadata": {},
   "outputs": [],
   "source": [
    "precision = 10\n",
    "\n",
    "A = Matrix(\n",
    "    [\n",
    "        [4, -1, 0, -1, 0, 0],\n",
    "        [-1, 4, -1, 0, -1, 0],\n",
    "        [0, -1, 4, 0, 0, -1],\n",
    "        [-1, 0, 0, 4, -1, 0],\n",
    "        [0, -1, 0, -1, 4, -1],\n",
    "        [0, 0, -1, 0, -1, 4],\n",
    "    ], \"A\", precision\n",
    ")\n",
    "\n",
    "B = Matrix(\n",
    "    [\n",
    "        [2],\n",
    "        [1],\n",
    "        [2],\n",
    "        [2],\n",
    "        [1],\n",
    "        [2]\n",
    "\t], \"B\", precision\n",
    ")"
   ]
  },
  {
   "cell_type": "code",
   "execution_count": 12,
   "metadata": {},
   "outputs": [
    {
     "name": "stdout",
     "output_type": "stream",
     "text": [
      "x = |2.395  |\n",
      "    |2.852  |\n",
      "    |2.75   |\n",
      "    |2.729  |\n",
      "    |3.388  |\n",
      "    |3.322  |\n",
      "\n"
     ]
    }
   ],
   "source": [
    "L, U = Cholesky_Decomposition(A)\n",
    "y = forward_propagation(L, B)\n",
    "x = backward_propagation(U, y)\n",
    "print(x)"
   ]
  },
  {
   "cell_type": "code",
   "execution_count": 13,
   "metadata": {},
   "outputs": [],
   "source": [
    "# print(L)"
   ]
  }
 ],
 "metadata": {
  "kernelspec": {
   "display_name": "Python 3.9.13 64-bit (microsoft store)",
   "language": "python",
   "name": "python3"
  },
  "language_info": {
   "codemirror_mode": {
    "name": "ipython",
    "version": 3
   },
   "file_extension": ".py",
   "mimetype": "text/x-python",
   "name": "python",
   "nbconvert_exporter": "python",
   "pygments_lexer": "ipython3",
   "version": "3.9.13"
  },
  "orig_nbformat": 4,
  "vscode": {
   "interpreter": {
    "hash": "95b59b4b0e72d3e94105c3ab4f1a1e6e746e4c2a7c235241251baf92fb36381f"
   }
  }
 },
 "nbformat": 4,
 "nbformat_minor": 2
}
