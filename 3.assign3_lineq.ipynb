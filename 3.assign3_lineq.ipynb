{
 "cells": [
  {
   "cell_type": "code",
   "execution_count": 1,
   "metadata": {},
   "outputs": [],
   "source": [
    "# Importing the Matrix class from the basic_arithmetic module\n",
    "from library.basic_arithmatic import Matrix"
   ]
  },
  {
   "cell_type": "markdown",
   "metadata": {},
   "source": [
    "# Q1: Use Gauss-Jordon and LU decomposition to solve this set of linear equations\n",
    "\n",
    "$$\n",
    "19 = a_1-a_2+4a_3+2a_5+9a_6\\\\\n",
    "2 = 5a_2-2a_3+7a_4+8a_5+4a_6\\\\\n",
    "13 = a_1+5a_3+7a_4+3a_5-2a_6\\\\\n",
    "-7 = 6a_1-a_2+2a_3+3a_4+8a_6\\\\\n",
    "-9 = -4a_1+2a_2+5a_4-5a_5+3a_6\\\\\n",
    "2 = 7a_2-a_3+5a_4+4a_5-2a_6\n",
    "$$\n"
   ]
  },
  {
   "cell_type": "code",
   "execution_count": 2,
   "metadata": {},
   "outputs": [],
   "source": [
    "# defining the number of places to show after the decimal point\n",
    "precision = 3\n",
    "\n",
    "# Defining the Given Matrices\n",
    "A = Matrix(\n",
    "    [\n",
    "        [1, -1, 4, 0, 2, 9],\n",
    "        [0, 5, -2, 7, 8, 4],\n",
    "        [1, 0, 5, 7, 3, -2],\n",
    "        [6, -1, 2, 3, 0, 8],\n",
    "        [-4, 2, 0, 5, -5, 3],\n",
    "        [0, 7, -1, 5, 4, -2],\n",
    "    ], \"A\", precision\n",
    ")\n",
    "\n",
    "B = Matrix(\n",
    "    [\n",
    "        [19],\n",
    "\t\t[2],\n",
    "\t\t[13],\n",
    "\t\t[-7],\n",
    "\t\t[-9],\n",
    "\t\t[2]\n",
    "    ], \"B\", precision\n",
    ")"
   ]
  },
  {
   "cell_type": "markdown",
   "metadata": {},
   "source": [
    "## Solution using Gauss-Jordan method"
   ]
  },
  {
   "cell_type": "code",
   "execution_count": 3,
   "metadata": {},
   "outputs": [],
   "source": [
    "# Importing libraries\n",
    "from library.linear_equations import gauss_jordan"
   ]
  },
  {
   "cell_type": "markdown",
   "metadata": {},
   "source": [
    "Library file for `gauss_jordan(A, B, verbose = False)` function can be found here: [linear_equations.py](library/linear_equations.py#L1-L30)"
   ]
  },
  {
   "cell_type": "code",
   "execution_count": 4,
   "metadata": {},
   "outputs": [
    {
     "name": "stdout",
     "output_type": "stream",
     "text": [
      "Sol = |-1.762 |\n",
      "      |0.896  |\n",
      "      |4.052  |\n",
      "      |-1.617 |\n",
      "      |2.042  |\n",
      "      |0.152  |\n",
      "\n"
     ]
    }
   ],
   "source": [
    "print(gauss_jordan(A, B))"
   ]
  },
  {
   "cell_type": "markdown",
   "metadata": {},
   "source": [
    "## L-U Decomposition"
   ]
  },
  {
   "cell_type": "code",
   "execution_count": 5,
   "metadata": {},
   "outputs": [],
   "source": [
    "from library.linear_equations import L_U_Decomposition, forward_propagation, backward_propagation"
   ]
  },
  {
   "cell_type": "markdown",
   "metadata": {},
   "source": [
    "Library parts:\n",
    " - [lu_decomposition(A)](library/linear_equations.py#69-L100)\n",
    " - [forward_substitution(L, B)](library/linear_equations.py#L34-L49)\n",
    " - [backward_substitution(U, y)](library/linear_equations.py#51-67)"
   ]
  },
  {
   "cell_type": "code",
   "execution_count": 6,
   "metadata": {},
   "outputs": [],
   "source": [
    "# defining the number of places to show after the decimal point\n",
    "precision = 3\n",
    "\n",
    "# Defining the Given Matrices\n",
    "A = Matrix(\n",
    "    [\n",
    "        [1, -1, 4, 0, 2, 9],\n",
    "        [0, 5, -2, 7, 8, 4],\n",
    "        [1, 0, 5, 7, 3, -2],\n",
    "        [6, -1, 2, 3, 0, 8],\n",
    "        [-4, 2, 0, 5, -5, 3],\n",
    "        [0, 7, -1, 5, 4, -2],\n",
    "    ], \"A\", precision\n",
    ")\n",
    "\n",
    "B = Matrix(\n",
    "    [\n",
    "        [19],\n",
    "\t\t[2],\n",
    "\t\t[13],\n",
    "\t\t[-7],\n",
    "\t\t[-9],\n",
    "\t\t[2]\n",
    "    ], \"B\", precision\n",
    ")"
   ]
  },
  {
   "cell_type": "code",
   "execution_count": 7,
   "metadata": {},
   "outputs": [],
   "source": [
    "L, U = L_U_Decomposition(A)\n",
    "y = forward_propagation(L, B)\n",
    "x = backward_propagation(U, y)"
   ]
  },
  {
   "cell_type": "code",
   "execution_count": 8,
   "metadata": {},
   "outputs": [
    {
     "name": "stdout",
     "output_type": "stream",
     "text": [
      "x = |-1.762 |\n",
      "    |0.896  |\n",
      "    |4.052  |\n",
      "    |-1.617 |\n",
      "    |2.042  |\n",
      "    |0.152  |\n",
      "\n"
     ]
    }
   ],
   "source": [
    "print(x)"
   ]
  },
  {
   "cell_type": "markdown",
   "metadata": {},
   "source": []
  }
 ],
 "metadata": {
  "kernelspec": {
   "display_name": "Python 3.9.13 64-bit (microsoft store)",
   "language": "python",
   "name": "python3"
  },
  "language_info": {
   "codemirror_mode": {
    "name": "ipython",
    "version": 3
   },
   "file_extension": ".py",
   "mimetype": "text/x-python",
   "name": "python",
   "nbconvert_exporter": "python",
   "pygments_lexer": "ipython3",
   "version": "3.9.13"
  },
  "orig_nbformat": 4,
  "vscode": {
   "interpreter": {
    "hash": "95b59b4b0e72d3e94105c3ab4f1a1e6e746e4c2a7c235241251baf92fb36381f"
   }
  }
 },
 "nbformat": 4,
 "nbformat_minor": 2
}
