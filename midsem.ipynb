{
 "cells": [
  {
   "cell_type": "markdown",
   "metadata": {},
   "source": [
    "# Q1: Area of an Ellipse\n",
    "\n",
    "$\\frac{x}{4}^2 + y^2 = 1$"
   ]
  },
  {
   "cell_type": "code",
   "execution_count": 1,
   "metadata": {},
   "outputs": [],
   "source": [
    "from math import pi\n",
    "from library.myrandom import Random\n",
    "import library.matrix as m\n",
    "from library.matrix import Matrix"
   ]
  },
  {
   "cell_type": "code",
   "execution_count": 14,
   "metadata": {},
   "outputs": [
    {
     "name": "stdout",
     "output_type": "stream",
     "text": [
      "ans = 6.610932475884244\n",
      "error = 4.957%\n"
     ]
    }
   ],
   "source": [
    "# problems to solve when you complete other questions...\n",
    "#  1. generate the random points on the go -- Done\n",
    "#  2. print till 5% calculate and see how many places -- ambiguous\n",
    "\n",
    "n = 1244\n",
    "points = (m.randmat((n, 2), seed = 0.5,  precision=5)*2).mat  # gives me a list of n points on the 2D plane\n",
    "\n",
    "r = Random(0.5)\n",
    "\n",
    "inside_count = 0 # total count of points inside the quarter ellipse\n",
    "for i in range(n):\n",
    "    x, y = r.LCG()*2, r.LCG()*2\n",
    "    if (x/1)**2 + (y/1)**2 <= 1:\n",
    "        inside_count += 4\n",
    "\n",
    "ans = 8*inside_count/n\n",
    "print(f\"ans = {ans}\")\n",
    "\n",
    "error = abs(2*pi - ans)*100/ans\n",
    "print(f\"error = {m.truncate_p(error, 3)}%\")"
   ]
  },
  {
   "cell_type": "markdown",
   "metadata": {},
   "source": [
    "# Q2: Find Wien's Displacement Constant using Newton-Raphson method"
   ]
  },
  {
   "cell_type": "code",
   "execution_count": 3,
   "metadata": {},
   "outputs": [],
   "source": [
    "from library.nonlinear_equations import solve_newton_raphson"
   ]
  },
  {
   "cell_type": "code",
   "execution_count": 4,
   "metadata": {},
   "outputs": [],
   "source": [
    "# defining constants and functions\n",
    "e = 2.7182818284\n",
    "h = 6.626e-34\n",
    "k = 1.381e-23\n",
    "c = 3e8\n",
    "\n",
    "def func(x):\n",
    "    x1 = h*c/(k*x)\n",
    "    return (x1-5)*(e**x1) + 5\n",
    "\n",
    "def dfunc(x):\n",
    "    const = h*c/k\n",
    "    return (const*(4*x-const)*e**(const/x))/x**3"
   ]
  },
  {
   "cell_type": "code",
   "execution_count": 5,
   "metadata": {},
   "outputs": [
    {
     "name": "stdout",
     "output_type": "stream",
     "text": [
      "b = 0.0028\n"
     ]
    }
   ],
   "source": [
    "b = solve_newton_raphson(\n",
    "\tfunc,\n",
    "\tdfunc,\n",
    "\tepsilon=1e-1,\n",
    "\tguess = 0.0028,  # this is reduntant, takes random value if not given\n",
    ")\n",
    "\n",
    "print(\"b =\", m.truncate_p(b, 4))"
   ]
  },
  {
   "cell_type": "markdown",
   "metadata": {},
   "source": [
    "# Q3: Solve Linear System of equations"
   ]
  },
  {
   "cell_type": "code",
   "execution_count": 6,
   "metadata": {},
   "outputs": [],
   "source": [
    "from library.linear_equations import gauss_seidel"
   ]
  },
  {
   "cell_type": "code",
   "execution_count": 7,
   "metadata": {},
   "outputs": [],
   "source": [
    "filename = \"data/msem_gs.txt\"\n",
    "with open(filename) as f:\n",
    "    data = f.readlines()\n",
    "\n",
    "# extracting A\n",
    "A = []\n",
    "Al = data[1:7]\n",
    "for row in Al:\n",
    "    A.append([float(i.strip()) for i in row.split(\" \") if i.strip()])\n",
    "\n",
    "# extracting B\n",
    "B = []\n",
    "Bl = data[9:15]\n",
    "for row in Bl:\n",
    "    B.append([float(i.strip()) for i in row.split(\" \") if i.strip()])\n",
    "del data\n",
    "\n",
    "A = Matrix(A, \"A\", 6)\n",
    "B = Matrix(B, \"B\", 6)\n"
   ]
  },
  {
   "cell_type": "code",
   "execution_count": 8,
   "metadata": {},
   "outputs": [
    {
     "name": "stdout",
     "output_type": "stream",
     "text": [
      "x = |1.4999992  |\n",
      "    |-0.5000000|\n",
      "    |2.0000000  |\n",
      "    |-2.4999996|\n",
      "    |0.9999999  |\n",
      "    |-0.9999999|\n",
      "\n",
      "6 iterations used\n"
     ]
    }
   ],
   "source": [
    "x, i = gauss_seidel(A, B, 1e-6)\n",
    "\n",
    "x.precision = 7  # forcing printing precision to be 6\n",
    "print(x)\n",
    "print(f\"{i} iterations used\")"
   ]
  },
  {
   "cell_type": "markdown",
   "metadata": {},
   "source": [
    "# Q4: Data Fitting"
   ]
  },
  {
   "cell_type": "code",
   "execution_count": 9,
   "metadata": {},
   "outputs": [],
   "source": [
    "from library.fitting import linear_fit\n",
    "from math import log\n",
    "\n",
    "def model_1(x, b, a):\n",
    "    return a*x**b\n",
    "\n",
    "def model_2(x, b, a):\n",
    "    e = 2.7182818284\n",
    "    return a*e**(-b*x)\n",
    "\n",
    "# loading the data\n",
    "filename = \"data/msem_fit.txt\"\n",
    "with open(filename) as f:\n",
    "    x_original, y_original, x1, x2, y1, y2 = [], [], [], [], [], []\n",
    "    points = f.readlines()\n",
    "    for point in points:\n",
    "        xs, ys = map(float, point.split())\n",
    "        x_original.append(xs)\n",
    "        y_original.append(ys)\n",
    "        x1.append([log(xs)])\n",
    "        x2.append([xs])\n",
    "        y1.append([log(ys)])\n",
    "        y2.append([log(ys)])\n",
    "    x1 = Matrix(x1, \"x1\")\n",
    "    x2 = Matrix(x2, \"x2\")\n",
    "    y1 = Matrix(y1, \"y1\")\n",
    "    y2 = Matrix(y2, \"y2\")"
   ]
  },
  {
   "cell_type": "code",
   "execution_count": 10,
   "metadata": {},
   "outputs": [
    {
     "name": "stdout",
     "output_type": "stream",
     "text": [
      "a = 21.046352158157163, b = -0.53740930145056\n"
     ]
    },
    {
     "data": {
      "text/plain": [
       "0.7750435352872259"
      ]
     },
     "execution_count": 10,
     "metadata": {},
     "output_type": "execute_result"
    }
   ],
   "source": [
    "coeff1, error_1, r2_1 = linear_fit(x1, y1)\n",
    "coeff1[1] = e**(coeff1[1])\n",
    "a, b = coeff1[::-1]\n",
    "print(f\"a = {a}, b = {b}\")\n",
    "r2_1"
   ]
  },
  {
   "cell_type": "code",
   "execution_count": 11,
   "metadata": {},
   "outputs": [
    {
     "name": "stdout",
     "output_type": "stream",
     "text": [
      "a = 12.212992823904393, b = -0.05845553447818332\n"
     ]
    },
    {
     "data": {
      "text/plain": [
       "0.5762426888065756"
      ]
     },
     "execution_count": 11,
     "metadata": {},
     "output_type": "execute_result"
    }
   ],
   "source": [
    "coeff2, error_2, r2_2 = linear_fit(x2, y2)\n",
    "coeff2[1] = e**(coeff2[1])\n",
    "a, b = coeff2[::-1]\n",
    "print(f\"a = {a}, b = {b}\")\n",
    "r2_2"
   ]
  },
  {
   "cell_type": "code",
   "execution_count": 12,
   "metadata": {},
   "outputs": [
    {
     "name": "stdout",
     "output_type": "stream",
     "text": [
      "best model is a*x**b.\n"
     ]
    }
   ],
   "source": [
    "print(f\"best model is {['a*x**b', 'a*e**(-b*x)'][r2_1<r2_2]}.\")"
   ]
  }
 ],
 "metadata": {
  "kernelspec": {
   "display_name": "Python 3.9.13 64-bit (microsoft store)",
   "language": "python",
   "name": "python3"
  },
  "language_info": {
   "codemirror_mode": {
    "name": "ipython",
    "version": 3
   },
   "file_extension": ".py",
   "mimetype": "text/x-python",
   "name": "python",
   "nbconvert_exporter": "python",
   "pygments_lexer": "ipython3",
   "version": "3.9.13"
  },
  "orig_nbformat": 4,
  "vscode": {
   "interpreter": {
    "hash": "95b59b4b0e72d3e94105c3ab4f1a1e6e746e4c2a7c235241251baf92fb36381f"
   }
  }
 },
 "nbformat": 4,
 "nbformat_minor": 2
}
