{
 "cells": [
  {
   "cell_type": "code",
   "execution_count": 1,
   "metadata": {},
   "outputs": [],
   "source": [
    "from library.basic_arithmatic import Matrix"
   ]
  },
  {
   "cell_type": "code",
   "execution_count": 2,
   "metadata": {},
   "outputs": [],
   "source": [
    "# x - y + 2z = 6\n",
    "# -x + 2y - z = -5\n",
    "# 2x - y + 3y = 9"
   ]
  },
  {
   "cell_type": "code",
   "execution_count": 3,
   "metadata": {},
   "outputs": [],
   "source": [
    "# A = Matrix(\n",
    "#     [[4, 12, -16],\n",
    "#      [12, 37, -43],\n",
    "#      [-16, -43, 98]], \"A\"\n",
    "#     )\n",
    "\n",
    "A = Matrix(\n",
    "    [[3, -1, 2],\n",
    "     [-1, 2, -1],\n",
    "     [2, -1, 4]], \"A\", 3\n",
    ")\n",
    "\n",
    "B = Matrix(\n",
    "    [\n",
    "        [8],\n",
    "        [-5],\n",
    "        [11]\n",
    "    ], \"B\", 3\n",
    ")\n",
    "\n",
    "I = Matrix(\n",
    "    [[1, 0, 0],\n",
    "     [0, 1, 0],\n",
    "     [0, 0, 1]], \"I\"\n",
    "    )"
   ]
  },
  {
   "cell_type": "code",
   "execution_count": 4,
   "metadata": {},
   "outputs": [],
   "source": [
    "def forward_propagation(L, B):\n",
    "    L = L.mat\n",
    "    B = B.mat\n",
    "    y = []\n",
    "    for n in range(len(L)):\n",
    "        y.append([B[n][0]-sum([L[n][i]*y[i][0] for i in range(n)])])\n",
    "    return Matrix(y, \"y\")"
   ]
  },
  {
   "cell_type": "code",
   "execution_count": 5,
   "metadata": {},
   "outputs": [],
   "source": [
    "def backward_propagation(U, y):\n",
    "    U = U.mat\n",
    "    y = y.mat\n",
    "    x = []\n",
    "    for n in range(len(L)):\n",
    "        y.append([B[n][0]-sum([L[n][i]*x[i][0] for i in range(n)])])"
   ]
  },
  {
   "cell_type": "code",
   "execution_count": 6,
   "metadata": {},
   "outputs": [
    {
     "name": "stdout",
     "output_type": "stream",
     "text": [
      "L = |1       0       0      |\n",
      "    |-0.577  1       0      |\n",
      "    |1.155   -0.258  1      |\n",
      "\n",
      "U = |1.732   -0.577  1.155  |\n",
      "    |0       1.291   -0.258 |\n",
      "    |0       0       1.612  |\n",
      "\n"
     ]
    }
   ],
   "source": [
    "L, U = A.Cholesky_Decomposition()\n",
    "# y = forward_propagation(L, B)\n",
    "# x = backward_propagation(U, y)\n",
    "# # print(ans[0].__str__(3), \"\\n\", ans[1].__str__(3))\n",
    "print(L)\n",
    "print(U)"
   ]
  },
  {
   "cell_type": "code",
   "execution_count": null,
   "metadata": {},
   "outputs": [],
   "source": [
    "print(A)\n",
    "print(I)"
   ]
  },
  {
   "cell_type": "code",
   "execution_count": null,
   "metadata": {},
   "outputs": [],
   "source": [
    "MAX = 100\n",
    "\n",
    "\n",
    "def luDecomposition(mat, n):\n",
    "\n",
    "    lower = [[0 for x in range(n)]\n",
    "            for y in range(n)]\n",
    "    upper = [[0 for x in range(n)]\n",
    "            for y in range(n)]\n",
    "\n",
    "    # Decomposing matrix into Upper\n",
    "    # and Lower triangular matrix\n",
    "    for i in range(n):\n",
    "\n",
    "        # Upper Triangular\n",
    "        for k in range(i, n):\n",
    "\n",
    "            # Summation of L(i, j) * U(j, k)\n",
    "            sum = 0\n",
    "            for j in range(i):\n",
    "                sum += (lower[i][j] * upper[j][k])\n",
    "\n",
    "            # Evaluating U(i, k)\n",
    "            upper[i][k] = mat[i][k] - sum\n",
    "\n",
    "        # Lower Triangular\n",
    "        for k in range(i, n):\n",
    "            if (i == k):\n",
    "                lower[i][i] = 1 # Diagonal as 1\n",
    "            else:\n",
    "\n",
    "                # Summation of L(k, j) * U(j, i)\n",
    "                sum = 0\n",
    "                for j in range(i):\n",
    "                    sum += (lower[k][j] * upper[j][i])\n",
    "\n",
    "                # Evaluating L(k, i)\n",
    "                lower[k][i] = int((mat[k][i] - sum) /\n",
    "                                upper[i][i])\n",
    "\n",
    "    # setw is for displaying nicely\n",
    "    print(\"Lower Triangular\\t\\tUpper Triangular\")\n",
    "\n",
    "    # Displaying the result :\n",
    "    for i in range(n):\n",
    "\n",
    "        # Lower\n",
    "        for j in range(n):\n",
    "            print(lower[i][j], end=\"\\t\")\n",
    "        print(\"\", end=\"\\t\")\n",
    "\n",
    "        # Upper\n",
    "        for j in range(n):\n",
    "            print(upper[i][j], end=\"\\t\")\n",
    "        print(\"\")\n",
    "\n",
    "\n",
    "# Driver code\n",
    "mat = [[4, 12, -16],\n",
    "     [12, 37, -43],\n",
    "     [-16, -43, 98]]\n",
    "\n",
    "luDecomposition(mat, 3)"
   ]
  },
  {
   "cell_type": "code",
   "execution_count": null,
   "metadata": {},
   "outputs": [],
   "source": [
    "def Cholesky_Decomposition(matrix):\n",
    "    \n",
    "    matrix = matrix.mat\n",
    "    n = matrix.shape[0]\n",
    "\n",
    "    lower = [[0 for x in range(n + 1)]\n",
    "                for y in range(n + 1)]\n",
    "\n",
    "    for i in range(n):\n",
    "        for j in range(i + 1):\n",
    "            sum1 = 0\n",
    "\n",
    "            if (j == i):\n",
    "                for k in range(j):\n",
    "                    sum1 += lower[j][k]**2\n",
    "                lower[j][j] = (matrix[j][j] - sum1)**0.5\n",
    "            else:\n",
    "                for k in range(j):\n",
    "                    sum1 += (lower[i][k] *lower[j][k])\n",
    "                if(lower[j][j] > 0):\n",
    "                    lower[i][j] = (matrix[i][j] - sum1) / lower[j][j]\n",
    "    return Matrix(lower, \"L\"), Matrix(lower, \"U\").T()\n",
    "\n",
    "matrix = Matrix(\n",
    "    [[4, 12, -16],\n",
    "    [12, 37, -43],\n",
    "    [-16, -43, 98]], \"matrix\")\n",
    "    \n",
    "\n",
    "print(Cholesky_Decomposition(matrix))"
   ]
  },
  {
   "cell_type": "code",
   "execution_count": null,
   "metadata": {},
   "outputs": [],
   "source": [
    "n = 5\n",
    "\n",
    "def gets():\n",
    "    global n\n",
    "    n += 1\n",
    "    print(n)\n",
    "\n",
    "gets()\n",
    "print(n)"
   ]
  }
 ],
 "metadata": {
  "kernelspec": {
   "display_name": "Python 3.9.13 64-bit (windows store)",
   "language": "python",
   "name": "python3"
  },
  "language_info": {
   "codemirror_mode": {
    "name": "ipython",
    "version": 3
   },
   "file_extension": ".py",
   "mimetype": "text/x-python",
   "name": "python",
   "nbconvert_exporter": "python",
   "pygments_lexer": "ipython3",
   "version": "3.9.13"
  },
  "orig_nbformat": 4,
  "vscode": {
   "interpreter": {
    "hash": "95b59b4b0e72d3e94105c3ab4f1a1e6e746e4c2a7c235241251baf92fb36381f"
   }
  }
 },
 "nbformat": 4,
 "nbformat_minor": 2
}
