{
 "cells": [
  {
   "cell_type": "code",
   "execution_count": 1,
   "metadata": {},
   "outputs": [],
   "source": [
    "import numpy as np\n",
    "from numpy import linalg as LA"
   ]
  },
  {
   "cell_type": "code",
   "execution_count": 2,
   "metadata": {},
   "outputs": [],
   "source": [
    "def SVD(A):\n",
    "    e_val, e_vec = LA.eig(A.T@A)\n",
    "    V = e_vec\n",
    "    S = np.sqrt(e_val)\n",
    "    U = A@(e_vec/S)\n",
    "    return U, S, V.T"
   ]
  },
  {
   "cell_type": "code",
   "execution_count": 3,
   "metadata": {},
   "outputs": [],
   "source": [
    "A = np.array(\n",
    "    [[1, 1],\n",
    "    [0, 1],\n",
    "    [-1, 1]]\n",
    ")\n",
    "\n",
    "U_, S_, V_ = SVD(A)"
   ]
  },
  {
   "cell_type": "code",
   "execution_count": 4,
   "metadata": {},
   "outputs": [
    {
     "name": "stdout",
     "output_type": "stream",
     "text": [
      "U_ = array([[ 0.70710678,  0.57735027],\n",
      "       [ 0.        ,  0.57735027],\n",
      "       [-0.70710678,  0.57735027]])\n",
      "S_ = array([1.41421356, 1.73205081])\n",
      "V_ = array([[1., 0.],\n",
      "       [0., 1.]])\n"
     ]
    }
   ],
   "source": [
    "print(f\"{U_ = }\")\n",
    "print(f\"{S_ = }\")\n",
    "print(f\"{V_ = }\")"
   ]
  },
  {
   "cell_type": "code",
   "execution_count": 5,
   "metadata": {},
   "outputs": [
    {
     "data": {
      "text/plain": [
       "array([[ True,  True],\n",
       "       [ True,  True],\n",
       "       [ True,  True]])"
      ]
     },
     "execution_count": 5,
     "metadata": {},
     "output_type": "execute_result"
    }
   ],
   "source": [
    "S_ = np.diag(S_)\n",
    "U_[:, :2]@S_@V_ == A"
   ]
  }
 ],
 "metadata": {
  "kernelspec": {
   "display_name": "Python 3.9.13 64-bit (microsoft store)",
   "language": "python",
   "name": "python3"
  },
  "language_info": {
   "codemirror_mode": {
    "name": "ipython",
    "version": 3
   },
   "file_extension": ".py",
   "mimetype": "text/x-python",
   "name": "python",
   "nbconvert_exporter": "python",
   "pygments_lexer": "ipython3",
   "version": "3.9.13"
  },
  "orig_nbformat": 4,
  "vscode": {
   "interpreter": {
    "hash": "95b59b4b0e72d3e94105c3ab4f1a1e6e746e4c2a7c235241251baf92fb36381f"
   }
  }
 },
 "nbformat": 4,
 "nbformat_minor": 2
}
