{
 "cells": [
  {
   "cell_type": "code",
   "execution_count": 1,
   "metadata": {},
   "outputs": [],
   "source": [
    "from library.basic_arithmatic import *\n",
    "from library.myrandom import Random\n",
    "from library.matrix import Matrix, randmat"
   ]
  },
  {
   "cell_type": "markdown",
   "metadata": {},
   "source": [
    "4x - y + z = 7\n",
    "\n",
    "-2x + y + 5z = 15\n",
    "\n",
    "4x - 8y + z = -21"
   ]
  },
  {
   "cell_type": "code",
   "execution_count": 2,
   "metadata": {},
   "outputs": [],
   "source": [
    "# A = Matrix(\n",
    "#     [\n",
    "#         [3, 2, 2]\n",
    "#         [2, 3, 1],\n",
    "#         [1, 1, 1],\n",
    "#     ], name = \"A\"\n",
    "# )\n",
    "\n",
    "A = Matrix(\n",
    "    [\n",
    "        [4, -1, 1],\n",
    "        [4, -8, 1],\n",
    "        [-2, 1, 5],\n",
    "    ], name = \"A\"\n",
    ")\n",
    "\n",
    "# B = Matrix(\n",
    "#     [\n",
    "#         [13],\n",
    "#         [6],\n",
    "#         [15]\n",
    "#     ], name = \"B\"\n",
    "# )\n",
    "\n",
    "B = Matrix(\n",
    "    [\n",
    "        [7],\n",
    "        [-21],\n",
    "        [15],\n",
    "    ], name = \"B\"\n",
    ")"
   ]
  },
  {
   "cell_type": "code",
   "execution_count": 3,
   "metadata": {},
   "outputs": [],
   "source": [
    "precision = 7\n",
    "\n",
    "A = Matrix(\n",
    "    [\n",
    "        [4, -1, 0, -1, 0, 0],\n",
    "        [-1, 4, -1, 0, -1, 0],\n",
    "        [0, -1, 4, 0, 0, -1],\n",
    "        [-1, 0, 0, 4, -1, 0],\n",
    "        [0, -1, 0, -1, 4, -1],\n",
    "        [0, 0, -1, 0, -1, 4],\n",
    "    ], \"A\", precision\n",
    ")\n",
    "\n",
    "B = Matrix(\n",
    "    [\n",
    "        [2],\n",
    "        [1],\n",
    "        [2],\n",
    "        [2],\n",
    "        [1],\n",
    "        [2]\n",
    "\t], \"B\", precision\n",
    ")"
   ]
  },
  {
   "cell_type": "code",
   "execution_count": 4,
   "metadata": {},
   "outputs": [
    {
     "name": "stdout",
     "output_type": "stream",
     "text": [
      "A = |4       -1      0       -1      0       0      |\n",
      "    |-1      4       -1      0       -1      0      |\n",
      "    |0       -1      4       0       0       -1     |\n",
      "    |-1      0       0       4       -1      0      |\n",
      "    |0       -1      0       -1      4       -1     |\n",
      "    |0       0       -1      0       -1      4      |\n",
      "\n"
     ]
    }
   ],
   "source": [
    "print(A)"
   ]
  },
  {
   "cell_type": "code",
   "execution_count": 5,
   "metadata": {},
   "outputs": [],
   "source": [
    "def solve(A, B, x):\n",
    "    name = x.name\n",
    "    precision = x.precision\n",
    "    shape = A.shape\n",
    "    A, B, x = A.mat, B.mat, x.mat\n",
    "    x_new = []\n",
    "    for i in range(len(A)):\n",
    "        x_new.append([(B[i][0] - sum([A[i][j] * x[j][0] for j in range(shape[0]) if i != j])) / A[i][i]])\n",
    "    return Matrix(x_new, name, precision)"
   ]
  },
  {
   "cell_type": "code",
   "execution_count": 6,
   "metadata": {},
   "outputs": [
    {
     "ename": "NameError",
     "evalue": "name 'Random' is not defined",
     "output_type": "error",
     "traceback": [
      "\u001b[1;31m---------------------------------------------------------------------------\u001b[0m",
      "\u001b[1;31mNameError\u001b[0m                                 Traceback (most recent call last)",
      "Cell \u001b[1;32mIn [6], line 1\u001b[0m\n\u001b[1;32m----> 1\u001b[0m x \u001b[38;5;241m=\u001b[39m \u001b[43mrandmat\u001b[49m\u001b[43m(\u001b[49m\u001b[43m(\u001b[49m\u001b[43mA\u001b[49m\u001b[38;5;241;43m.\u001b[39;49m\u001b[43mshape\u001b[49m\u001b[43m[\u001b[49m\u001b[38;5;241;43m0\u001b[39;49m\u001b[43m]\u001b[49m\u001b[43m,\u001b[49m\u001b[43m \u001b[49m\u001b[38;5;241;43m1\u001b[39;49m\u001b[43m)\u001b[49m\u001b[43m,\u001b[49m\u001b[43m \u001b[49m\u001b[38;5;241;43m0.1\u001b[39;49m\u001b[43m,\u001b[49m\u001b[43m  \u001b[49m\u001b[38;5;124;43m\"\u001b[39;49m\u001b[38;5;124;43mx\u001b[39;49m\u001b[38;5;124;43m\"\u001b[39;49m\u001b[43m,\u001b[49m\u001b[43m \u001b[49m\u001b[43mprecision\u001b[49m\u001b[43m)\u001b[49m\n\u001b[0;32m      2\u001b[0m \u001b[38;5;28mprint\u001b[39m(x)\n\u001b[0;32m      3\u001b[0m e \u001b[38;5;241m=\u001b[39m \u001b[38;5;241m1e-6\u001b[39m\n",
      "File \u001b[1;32mc:\\Users\\amukh\\OneDrive\\Desktop\\P346\\working\\library\\matrix.py:389\u001b[0m, in \u001b[0;36mrandmat\u001b[1;34m(shape, seed, name, precision)\u001b[0m\n\u001b[0;32m    388\u001b[0m \u001b[39mdef\u001b[39;00m \u001b[39mrandmat\u001b[39m(shape, seed \u001b[39m=\u001b[39m \u001b[39m0.15\u001b[39m, name\u001b[39m=\u001b[39m\u001b[39mNone\u001b[39;00m, precision\u001b[39m=\u001b[39m\u001b[39m3\u001b[39m):\n\u001b[1;32m--> 389\u001b[0m     r \u001b[39m=\u001b[39m Random(seed)\n\u001b[0;32m    390\u001b[0m     \u001b[39mreturn\u001b[39;00m Matrix([[r\u001b[39m.\u001b[39mLCG() \u001b[39mfor\u001b[39;00m j \u001b[39min\u001b[39;00m \u001b[39mrange\u001b[39m(shape[\u001b[39m1\u001b[39m])] \u001b[39mfor\u001b[39;00m i \u001b[39min\u001b[39;00m \u001b[39mrange\u001b[39m(shape[\u001b[39m0\u001b[39m])], name, precision)\n",
      "\u001b[1;31mNameError\u001b[0m: name 'Random' is not defined"
     ]
    }
   ],
   "source": [
    "x = randmat((A.shape[0], 1), 0.1,  \"x\", precision)\n",
    "print(x)\n",
    "e = 1e-6\n",
    "i = -1\n",
    "while True:\n",
    "    i += 1\n",
    "    print(i, end = \" \")\n",
    "    x_old = x.mat\n",
    "    x = solve(A, B, x)\n",
    "    if sum([abs(x.mat[i][0]-x_old[i][0]) for i in range(len(x.mat))]) < e or i > 200:\n",
    "        break\n",
    "print(f\"\\n{i}\")\n",
    "print(x)"
   ]
  },
  {
   "cell_type": "code",
   "execution_count": null,
   "metadata": {},
   "outputs": [],
   "source": [
    "# sol = [0, 0, 0, 0]\n",
    "# for k in range(1000):\n",
    "#     for i in range(4):\n",
    "#         temp_sum1 = sum(A[i][j]*sol[j] for j in range(i))\n",
    "#         temp_sum2 = sum(A[i][j]*sol[j] for j in range(i+1,4))\n",
    "#         sol[i] = (1/A[i][i])*(B[i]-temp_sum1 - temp_sum2)\n",
    "    \n",
    "# print(sol)"
   ]
  }
 ],
 "metadata": {
  "kernelspec": {
   "display_name": "Python 3.9.13 64-bit (windows store)",
   "language": "python",
   "name": "python3"
  },
  "language_info": {
   "codemirror_mode": {
    "name": "ipython",
    "version": 3
   },
   "file_extension": ".py",
   "mimetype": "text/x-python",
   "name": "python",
   "nbconvert_exporter": "python",
   "pygments_lexer": "ipython3",
   "version": "3.9.13"
  },
  "orig_nbformat": 4,
  "vscode": {
   "interpreter": {
    "hash": "95b59b4b0e72d3e94105c3ab4f1a1e6e746e4c2a7c235241251baf92fb36381f"
   }
  }
 },
 "nbformat": 4,
 "nbformat_minor": 2
}
