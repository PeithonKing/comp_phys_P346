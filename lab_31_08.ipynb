{
 "cells": [
  {
   "cell_type": "code",
   "execution_count": 1,
   "metadata": {},
   "outputs": [],
   "source": [
    "from library.basic_arithmatic import *"
   ]
  },
  {
   "cell_type": "markdown",
   "metadata": {},
   "source": [
    "4x - y + z = 7\n",
    "\n",
    "-2x + y + 5z = 15\n",
    "\n",
    "4x - 8y + z = -21"
   ]
  },
  {
   "cell_type": "code",
   "execution_count": 2,
   "metadata": {},
   "outputs": [],
   "source": [
    "# A = Matrix(\n",
    "#     [\n",
    "#         [3, 2, 2]\n",
    "#         [2, 3, 1],\n",
    "#         [1, 1, 1],\n",
    "#     ], name = \"A\"\n",
    "# )\n",
    "\n",
    "A = Matrix(\n",
    "    [\n",
    "        [4, -1, 1],\n",
    "        [4, -8, 1],\n",
    "        [-2, 1, 5],\n",
    "    ], name = \"A\"\n",
    ")\n",
    "\n",
    "# B = Matrix(\n",
    "#     [\n",
    "#         [13],\n",
    "#         [6],\n",
    "#         [15]\n",
    "#     ], name = \"B\"\n",
    "# )\n",
    "\n",
    "B = Matrix(\n",
    "    [\n",
    "        [7],\n",
    "        [-21],\n",
    "        [15],\n",
    "    ], name = \"B\"\n",
    ")"
   ]
  },
  {
   "cell_type": "code",
   "execution_count": 3,
   "metadata": {},
   "outputs": [
    {
     "name": "stdout",
     "output_type": "stream",
     "text": [
      "A = |4       -1      1      |\n",
      "    |4       -8      1      |\n",
      "    |-2      1       5      |\n",
      "\n"
     ]
    }
   ],
   "source": [
    "print(A)"
   ]
  },
  {
   "cell_type": "code",
   "execution_count": 4,
   "metadata": {},
   "outputs": [],
   "source": [
    "def solve(A, B, x):\n",
    "    name = x.name\n",
    "    precision = x.precision\n",
    "    A, B, x = A.mat, B.mat, x.mat\n",
    "    x_new = []\n",
    "    for i in range(len(A)):\n",
    "        x_new.append([(B[i][0] - sum([A[i][j] * x[j][0] for j in range(len(A)) if i != j])) / A[i][i]])\n",
    "    return Matrix(x_new, name, precision)"
   ]
  },
  {
   "cell_type": "code",
   "execution_count": 9,
   "metadata": {},
   "outputs": [
    {
     "name": "stdout",
     "output_type": "stream",
     "text": [
      "10\n",
      "x = |1.99998|\n",
      "    |3.99999|\n",
      "    |3.00001|\n",
      "\n"
     ]
    }
   ],
   "source": [
    "x = Matrix(\n",
    "    [[0], [0], [0]], \"x\", 5\n",
    ")\n",
    "e = 1e-4\n",
    "i = -1\n",
    "while True:\n",
    "    i += 1\n",
    "    x_old = x.mat\n",
    "    x = solve(A, B, x)\n",
    "    if sum([abs(x.mat[i][0]-x_old[i][0]) for i in range(len(x.mat))]) < e or i > 200:\n",
    "        break\n",
    "print(i)\n",
    "print(x)"
   ]
  },
  {
   "cell_type": "code",
   "execution_count": 6,
   "metadata": {},
   "outputs": [],
   "source": [
    "# sol = [0, 0, 0, 0]\n",
    "# for k in range(1000):\n",
    "#     for i in range(4):\n",
    "#         temp_sum1 = sum(A[i][j]*sol[j] for j in range(i))\n",
    "#         temp_sum2 = sum(A[i][j]*sol[j] for j in range(i+1,4))\n",
    "#         sol[i] = (1/A[i][i])*(B[i]-temp_sum1 - temp_sum2)\n",
    "    \n",
    "# print(sol)"
   ]
  }
 ],
 "metadata": {
  "kernelspec": {
   "display_name": "Python 3.9.13 64-bit (windows store)",
   "language": "python",
   "name": "python3"
  },
  "language_info": {
   "codemirror_mode": {
    "name": "ipython",
    "version": 3
   },
   "file_extension": ".py",
   "mimetype": "text/x-python",
   "name": "python",
   "nbconvert_exporter": "python",
   "pygments_lexer": "ipython3",
   "version": "3.9.13"
  },
  "orig_nbformat": 4,
  "vscode": {
   "interpreter": {
    "hash": "95b59b4b0e72d3e94105c3ab4f1a1e6e746e4c2a7c235241251baf92fb36381f"
   }
  }
 },
 "nbformat": 4,
 "nbformat_minor": 2
}
