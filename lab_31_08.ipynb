{
 "cells": [
  {
   "cell_type": "code",
   "execution_count": 1,
   "metadata": {},
   "outputs": [],
   "source": [
    "from library.basic_arithmatic import *\n",
    "from library.myrandom import Random\n",
    "from library.matrix import Matrix, randmat"
   ]
  },
  {
   "cell_type": "markdown",
   "metadata": {},
   "source": [
    "4x - y + z = 7\n",
    "\n",
    "-2x + y + 5z = 15\n",
    "\n",
    "4x - 8y + z = -21"
   ]
  },
  {
   "cell_type": "code",
   "execution_count": 2,
   "metadata": {},
   "outputs": [],
   "source": [
    "# A = Matrix(\n",
    "#     [\n",
    "#         [3, 2, 2]\n",
    "#         [2, 3, 1],\n",
    "#         [1, 1, 1],\n",
    "#     ], name = \"A\"\n",
    "# )\n",
    "\n",
    "A = Matrix(\n",
    "    [\n",
    "        [4, -1, 1],\n",
    "        [4, -8, 1],\n",
    "        [-2, 1, 5],\n",
    "    ], name = \"A\"\n",
    ")\n",
    "\n",
    "# B = Matrix(\n",
    "#     [\n",
    "#         [13],\n",
    "#         [6],\n",
    "#         [15]\n",
    "#     ], name = \"B\"\n",
    "# )\n",
    "\n",
    "B = Matrix(\n",
    "    [\n",
    "        [7],\n",
    "        [-21],\n",
    "        [15],\n",
    "    ], name = \"B\"\n",
    ")"
   ]
  },
  {
   "cell_type": "code",
   "execution_count": 3,
   "metadata": {},
   "outputs": [],
   "source": [
    "precision = 7\n",
    "\n",
    "A = Matrix(\n",
    "    [\n",
    "        [4, -1, 0, -1, 0, 0],\n",
    "        [-1, 4, -1, 0, -1, 0],\n",
    "        [0, -1, 4, 0, 0, -1],\n",
    "        [-1, 0, 0, 4, -1, 0],\n",
    "        [0, -1, 0, -1, 4, -1],\n",
    "        [0, 0, -1, 0, -1, 4],\n",
    "    ], \"A\", precision\n",
    ")\n",
    "\n",
    "B = Matrix(\n",
    "    [\n",
    "        [2],\n",
    "        [1],\n",
    "        [2],\n",
    "        [2],\n",
    "        [1],\n",
    "        [2]\n",
    "\t], \"B\", precision\n",
    ")"
   ]
  },
  {
   "cell_type": "code",
   "execution_count": 4,
   "metadata": {},
   "outputs": [
    {
     "name": "stdout",
     "output_type": "stream",
     "text": [
      "A = |4   -1  0   -1  0   0   \b\b\b|\n",
      "    |-1  4   -1  0   -1  0   \b\b\b|\n",
      "    |0   -1  4   0   0   -1  \b\b|\n",
      "    |-1  0   0   4   -1  0   \b\b\b|\n",
      "    |0   -1  0   -1  4   -1  \b\b|\n",
      "    |0   0   -1  0   -1  4   \b\b\b|\n",
      "\n"
     ]
    }
   ],
   "source": [
    "print(A)"
   ]
  },
  {
   "cell_type": "code",
   "execution_count": 5,
   "metadata": {},
   "outputs": [],
   "source": [
    "def solve(A, B, x):\n",
    "    name = x.name\n",
    "    precision = x.precision\n",
    "    shape = A.shape\n",
    "    A, B, x = A.mat, B.mat, x.mat\n",
    "    x_new = []\n",
    "    for i in range(len(A)):\n",
    "        x_new.append([(B[i][0] - sum([A[i][j] * x[j][0] for j in range(shape[0]) if i != j])) / A[i][i]])\n",
    "    return Matrix(x_new, name, precision)"
   ]
  },
  {
   "cell_type": "code",
   "execution_count": 6,
   "metadata": {},
   "outputs": [
    {
     "name": "stdout",
     "output_type": "stream",
     "text": [
      "x = |0.0380096  \b\b|\n",
      "    |0.4963531  \b\b|\n",
      "    |0.6589202  \b\b|\n",
      "    |0.5193634  \b\b|\n",
      "    |0.6357879  \b\b|\n",
      "    |0.0916900  \b\b|\n",
      "\n",
      "0 1 2 3 4 5 6 7 8 9 10 11 12 13 14 15 16 17 18 19 20 21 22 23 24 25 26 27 28 \n",
      "28\n",
      "x = |0.9999997  \b\b|\n",
      "    |0.9999997  \b\b|\n",
      "    |0.9999997  \b\b|\n",
      "    |0.9999998  \b\b|\n",
      "    |0.9999996  \b\b|\n",
      "    |0.9999998  \b\b|\n",
      "\n"
     ]
    }
   ],
   "source": [
    "x = randmat((A.shape[0], 1), 0.1,  \"x\", precision)\n",
    "print(x)\n",
    "e = 1e-6\n",
    "i = -1\n",
    "while True:\n",
    "    i += 1\n",
    "    print(i, end = \" \")\n",
    "    x_old = x.mat\n",
    "    x = solve(A, B, x)\n",
    "    if sum([abs(x.mat[i][0]-x_old[i][0]) for i in range(len(x.mat))]) < e or i > 200:\n",
    "        break\n",
    "print(f\"\\n{i}\")\n",
    "print(x)"
   ]
  }
 ],
 "metadata": {
  "kernelspec": {
   "display_name": "Python 3 (ipykernel)",
   "language": "python",
   "name": "python3"
  },
  "language_info": {
   "codemirror_mode": {
    "name": "ipython",
    "version": 3
   },
   "file_extension": ".py",
   "mimetype": "text/x-python",
   "name": "python",
   "nbconvert_exporter": "python",
   "pygments_lexer": "ipython3",
   "version": "3.9.13"
  },
  "vscode": {
   "interpreter": {
    "hash": "95b59b4b0e72d3e94105c3ab4f1a1e6e746e4c2a7c235241251baf92fb36381f"
   }
  }
 },
 "nbformat": 4,
 "nbformat_minor": 2
}
