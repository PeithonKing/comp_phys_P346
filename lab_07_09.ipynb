{
 "cells": [
  {
   "cell_type": "code",
   "execution_count": 1,
   "metadata": {},
   "outputs": [],
   "source": [
    "from library.random import LCG\n",
    "import math"
   ]
  },
  {
   "cell_type": "code",
   "execution_count": 2,
   "metadata": {},
   "outputs": [],
   "source": [
    "# x - 2 cos(x) = 0\n",
    "# cos(x) - x**3 = 0\n",
    "# 3x + sin(x) - e**x = 0\n",
    "# x*e**x - 2 = 0"
   ]
  },
  {
   "cell_type": "code",
   "execution_count": 3,
   "metadata": {},
   "outputs": [],
   "source": [
    "def func1(x):\n",
    "    return x - 2*math.cos(x)\n",
    "\n",
    "def func2(x):\n",
    "    return math.cos(x) - x**3\n",
    "\n",
    "def func3(x):\n",
    "    return 3*x + math.sin(x) - math.e**x\n",
    "\n",
    "def func4(x):\n",
    "    return x*math.e**x - 2\n",
    "\n",
    "def func5(x):\n",
    "    return x**4 - 4*x**3 - x**2 + 10*x\n",
    "\n",
    "\n",
    "def func1_d(x):\n",
    "    return 1 + 2*math.sin(x)\n",
    "\n",
    "def func2_d(x):\n",
    "    return -3*x**2 - math.sin(x)\n",
    "\n",
    "def func3_d(x):\n",
    "    return 3 - math.e**x + math.cos(x)\n",
    "\n",
    "def func4_d(x):\n",
    "    return math.e**x + x*math.e**x\n",
    "\n",
    "def func5_d(x):\n",
    "    return 4*x**3 - 12*x**2 - 2*x + 10"
   ]
  },
  {
   "cell_type": "code",
   "execution_count": 4,
   "metadata": {},
   "outputs": [],
   "source": [
    "def get_brackets(f, guess = None):\n",
    "    if not guess:\n",
    "        guess = [LCG(0.1), LCG(0.2)]\n",
    "    a, b = guess\n",
    "    if f(a)*f(b) > 0:\n",
    "        return [a, b]\n",
    "    if abs(f(a)) > abs(f(b)):\n",
    "        b += 0.1*(b-a)\n",
    "    elif abs(f(b)) > abs(f(a)):\n",
    "        a += 0.1*(b-a)\n",
    "    else:\n",
    "        a, b = [LCG(a), LCG(b)]\n",
    "    return get_brackets(f, [a, b])"
   ]
  },
  {
   "cell_type": "code",
   "execution_count": 5,
   "metadata": {},
   "outputs": [],
   "source": [
    "def solve_bisection(f, guess = None, epsilon = 1e-4, delta=1e-4):\n",
    "    if not guess:\n",
    "        a, b = get_brackets(f, guess)\n",
    "    else:\n",
    "        a, b = guess\n",
    "    c = (a+b)/2\n",
    "    if f(a)*f(c) > 0:\n",
    "        a = c\n",
    "    elif f(b)*f(c) > 0:\n",
    "        b = c\n",
    "    else:\n",
    "        raise ValueError(\"No root in interval\")\n",
    "    # print(a, b)\n",
    "    return solve_bisection(f, [a, b]) if (abs(a-b) > epsilon or abs(f(a))>delta or abs(f(b))>delta) else (a+b)/2"
   ]
  },
  {
   "cell_type": "code",
   "execution_count": 6,
   "metadata": {},
   "outputs": [],
   "source": [
    "i = 0\n",
    "def solve_regula_falsi(f, guess = None, epsilon = 1e-2, delta=1e-2):\n",
    "    if not guess:\n",
    "        a, b = get_brackets(f, guess)\n",
    "    else:\n",
    "        a, b = guess\n",
    "    c = a + (b-a)*abs(f(a))/(abs(f(a))+abs(f(b)))\n",
    "    # print(\"\\nc =\", c)\n",
    "    if f(a)*f(c) > 0:\n",
    "        a = c\n",
    "    else:\n",
    "        b = c\n",
    "    return solve_regula_falsi(f, [a, b]) if (abs(f(a))>delta or abs(f(b))>delta) else [a, b][abs(f(a))>abs(f(b))]"
   ]
  },
  {
   "cell_type": "code",
   "execution_count": 7,
   "metadata": {},
   "outputs": [],
   "source": [
    "# solve_bisection(func5, [-1.3, 3.5])"
   ]
  },
  {
   "cell_type": "code",
   "execution_count": 8,
   "metadata": {},
   "outputs": [
    {
     "data": {
      "text/plain": [
       "3.4494897427831788"
      ]
     },
     "execution_count": 8,
     "metadata": {},
     "output_type": "execute_result"
    }
   ],
   "source": [
    "solve_regula_falsi(func5, [-1.3, 3.5])"
   ]
  },
  {
   "cell_type": "code",
   "execution_count": 9,
   "metadata": {},
   "outputs": [],
   "source": [
    "def solve_newton_raphson(f, f_d, guess = None, epsilon = 1e-4, delta=1e-4):\n",
    "    if not guess:\n",
    "        guess = LCG(0.1)\n",
    "    guess = guess - f(guess)/f_d(guess)\n",
    "    print(guess)\n",
    "    return solve_newton_raphson(f, f_d, guess) if (abs(f(guess))>delta) else guess"
   ]
  },
  {
   "cell_type": "code",
   "execution_count": 10,
   "metadata": {},
   "outputs": [
    {
     "name": "stdout",
     "output_type": "stream",
     "text": [
      "1.4596324742632636\n",
      "1.045340243940801\n",
      "1.0299109104062278\n",
      "1.0298665296958827\n"
     ]
    },
    {
     "data": {
      "text/plain": [
       "1.0298665296958827"
      ]
     },
     "execution_count": 10,
     "metadata": {},
     "output_type": "execute_result"
    }
   ],
   "source": [
    "solve_newton_raphson(func1, func1_d, 0.2)"
   ]
  }
 ],
 "metadata": {
  "kernelspec": {
   "display_name": "Python 3 (ipykernel)",
   "language": "python",
   "name": "python3"
  },
  "language_info": {
   "codemirror_mode": {
    "name": "ipython",
    "version": 3
   },
   "file_extension": ".py",
   "mimetype": "text/x-python",
   "name": "python",
   "nbconvert_exporter": "python",
   "pygments_lexer": "ipython3",
   "version": "3.9.13"
  },
  "vscode": {
   "interpreter": {
    "hash": "95b59b4b0e72d3e94105c3ab4f1a1e6e746e4c2a7c235241251baf92fb36381f"
   }
  }
 },
 "nbformat": 4,
 "nbformat_minor": 2
}
