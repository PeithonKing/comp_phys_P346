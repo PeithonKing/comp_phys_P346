{
 "cells": [
  {
   "cell_type": "code",
   "execution_count": 1,
   "metadata": {},
   "outputs": [],
   "source": [
    "from library.myrandom import Random\n",
    "from library.nonlinear_equations import solve_bisection, solve_regula_falsi, solve_newton_raphson\n",
    "import math\n",
    "from latexify import with_latex"
   ]
  },
  {
   "cell_type": "code",
   "execution_count": 2,
   "metadata": {},
   "outputs": [],
   "source": [
    "# x - 2 cos(x) = 0\n",
    "# cos(x) - x**3 = 0\n",
    "# 3x + sin(x) - e**x = 0\n",
    "# x*e**x - 2 = 0"
   ]
  },
  {
   "cell_type": "code",
   "execution_count": 3,
   "metadata": {},
   "outputs": [],
   "source": [
    "@with_latex\n",
    "def func1(x): return x - 2*math.cos(x)\n",
    "@with_latex\n",
    "def func2(x): return math.cos(x) - x**3\n",
    "@with_latex\n",
    "def func3(x): return 3*x + math.sin(x) - math.e**x\n",
    "@with_latex\n",
    "def func4(x): return x*math.e**x - 2\n",
    "@with_latex\n",
    "def func5(x): return x**4 - 4*x**3 - x**2 + 10*x\n",
    "\n",
    "@with_latex\n",
    "def func1_d(x): return 1 + 2*math.sin(x)\n",
    "@with_latex\n",
    "def func2_d(x): return -3*x**2 - math.sin(x)\n",
    "@with_latex\n",
    "def func3_d(x): return 3 - math.e**x + math.cos(x)\n",
    "@with_latex\n",
    "def func4_d(x): return math.e**x + x*math.e**x\n",
    "@with_latex\n",
    "def func5_d(x): return 4*x**3 - 12*x**2 - 2*x + 10"
   ]
  },
  {
   "cell_type": "code",
   "execution_count": 4,
   "metadata": {},
   "outputs": [
    {
     "data": {
      "text/plain": [
       "'1.0298'"
      ]
     },
     "execution_count": 4,
     "metadata": {},
     "output_type": "execute_result"
    }
   ],
   "source": [
    "solve_newton_raphson(func1, f_d=func1_d, guess = 0.2)"
   ]
  },
  {
   "cell_type": "code",
   "execution_count": 5,
   "metadata": {},
   "outputs": [
    {
     "data": {
      "text/plain": [
       "'1.0298'"
      ]
     },
     "execution_count": 5,
     "metadata": {},
     "output_type": "execute_result"
    }
   ],
   "source": [
    "solve_bisection(func1)"
   ]
  },
  {
   "cell_type": "code",
   "execution_count": 6,
   "metadata": {},
   "outputs": [
    {
     "data": {
      "text/plain": [
       "'1.0298'"
      ]
     },
     "execution_count": 6,
     "metadata": {},
     "output_type": "execute_result"
    }
   ],
   "source": [
    "solve_regula_falsi(func1)"
   ]
  }
 ],
 "metadata": {
  "kernelspec": {
   "display_name": "Python 3 (ipykernel)",
   "language": "python",
   "name": "python3"
  },
  "language_info": {
   "codemirror_mode": {
    "name": "ipython",
    "version": 3
   },
   "file_extension": ".py",
   "mimetype": "text/x-python",
   "name": "python",
   "nbconvert_exporter": "python",
   "pygments_lexer": "ipython3",
   "version": "3.9.13"
  },
  "vscode": {
   "interpreter": {
    "hash": "95b59b4b0e72d3e94105c3ab4f1a1e6e746e4c2a7c235241251baf92fb36381f"
   }
  }
 },
 "nbformat": 4,
 "nbformat_minor": 2
}
