{
 "cells": [
  {
   "cell_type": "code",
   "execution_count": 1,
   "metadata": {},
   "outputs": [],
   "source": [
    "from math import sin\n",
    "def f(x, y):\n",
    "    return y - x**2 + 1"
   ]
  },
  {
   "cell_type": "code",
   "execution_count": 2,
   "metadata": {},
   "outputs": [],
   "source": [
    "def runge_kutta_4(f, x, y, h, n):\n",
    "    \"\"\"Runge-Kutta 4th order method for solving ODEs.\n",
    "\n",
    "    Args:\n",
    "        f (function): Function to be integrated.\n",
    "        x (float): Initial x value.\n",
    "        y (float): Initial y value.\n",
    "        h (float): Step size.\n",
    "        n (int): Number of steps.\n",
    "\n",
    "    Returns:\n",
    "        float: Approximate solution to the ODE.\n",
    "    \"\"\"\n",
    "    for i in range(n):\n",
    "        k1 = h * f(x, y)\n",
    "        k2 = h * f(x + h/2, y + k1/2)\n",
    "        k3 = h * f(x + h/2, y + k2/2)\n",
    "        k4 = h * f(x + h, y + k3)\n",
    "        y += (k1 + 2*k2 + 2*k3 + k4) / 6\n",
    "        x += h\n",
    "    return y"
   ]
  },
  {
   "cell_type": "code",
   "execution_count": 3,
   "metadata": {},
   "outputs": [],
   "source": [
    "def runge_kutta_2(f, x, y, h, n):\n",
    "    \"\"\"Runge-Kutta 2nd order method for solving ODEs.\n",
    "\n",
    "    Args:\n",
    "        f (function): Function to be integrated.\n",
    "        x (float): Initial x value.\n",
    "        y (float): Initial y value.\n",
    "        h (float): Step size.\n",
    "        n (int): Number of steps.\n",
    "\n",
    "    Returns:\n",
    "        float: Approximate solution to the ODE.\n",
    "    \"\"\"\n",
    "    for i in range(n):\n",
    "        k1 = h * f(x, y)\n",
    "        k2 = h * f(x + h, y + k1)\n",
    "        y += (k1 + k2) / 2\n",
    "        x += h\n",
    "    return y"
   ]
  },
  {
   "cell_type": "code",
   "execution_count": 4,
   "metadata": {},
   "outputs": [],
   "source": [
    "def forward__euler(f, x, y, h, n):\n",
    "    \"\"\"Forward Euler method for solving ODEs.\n",
    "\n",
    "    Args:\n",
    "        f (function): Function to be integrated.\n",
    "        x (float): Initial x value.\n",
    "        y (float): Initial y value.\n",
    "        h (float): Step size.\n",
    "        n (int): Number of steps.\n",
    "\n",
    "    Returns:\n",
    "        float: Approximate solution to the ODE.\n",
    "    \"\"\"\n",
    "    for i in range(n):\n",
    "        y += h * f(x, y)\n",
    "        x += h\n",
    "    return y"
   ]
  },
  {
   "cell_type": "code",
   "execution_count": 5,
   "metadata": {},
   "outputs": [],
   "source": [
    "def backward__euler(f, x, y, h, n):\n",
    "    \"\"\"Backward Euler method for solving ODEs.\n",
    "\n",
    "    Args:\n",
    "        f (function): Function to be integrated.\n",
    "        x (float): Initial x value.\n",
    "        y (float): Initial y value.\n",
    "        h (float): Step size.\n",
    "        n (int): Number of steps.\n",
    "\n",
    "    Returns:\n",
    "        float: Approximate solution to the ODE.\n",
    "    \"\"\"\n",
    "    for i in range(n):\n",
    "        y = y / (1 - h * f(x, y))\n",
    "        x += h\n",
    "    return y"
   ]
  },
  {
   "cell_type": "code",
   "execution_count": 6,
   "metadata": {},
   "outputs": [],
   "source": [
    "def predictor__corrector(f, x, y, h, n):\n",
    "    \"\"\"Predictor-Corrector method for solving ODEs.\n",
    "\n",
    "    Args:\n",
    "        f (function): Function to be integrated.\n",
    "        x (float): Initial x value.\n",
    "        y (float): Initial y value.\n",
    "        h (float): Step size.\n",
    "        n (int): Number of steps.\n",
    "\n",
    "    Returns:\n",
    "        float: Approximate solution to the ODE.\n",
    "    \"\"\"\n",
    "    for i in range(n):\n",
    "        y += h * f(x, y)\n",
    "        y = y / (1 - h * f(x, y))\n",
    "        x += h\n",
    "    return y"
   ]
  },
  {
   "cell_type": "code",
   "execution_count": 17,
   "metadata": {},
   "outputs": [
    {
     "data": {
      "text/plain": [
       "0.65"
      ]
     },
     "execution_count": 17,
     "metadata": {},
     "output_type": "execute_result"
    }
   ],
   "source": [
    "forward__euler(f, 0, 0.5, 0.1, 1)"
   ]
  }
 ],
 "metadata": {
  "kernelspec": {
   "display_name": "Python 3.9.13 64-bit (microsoft store)",
   "language": "python",
   "name": "python3"
  },
  "language_info": {
   "codemirror_mode": {
    "name": "ipython",
    "version": 3
   },
   "file_extension": ".py",
   "mimetype": "text/x-python",
   "name": "python",
   "nbconvert_exporter": "python",
   "pygments_lexer": "ipython3",
   "version": "3.9.13"
  },
  "orig_nbformat": 4,
  "vscode": {
   "interpreter": {
    "hash": "95b59b4b0e72d3e94105c3ab4f1a1e6e746e4c2a7c235241251baf92fb36381f"
   }
  }
 },
 "nbformat": 4,
 "nbformat_minor": 2
}
