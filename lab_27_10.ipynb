{
 "cells": [
  {
   "cell_type": "code",
   "execution_count": 1,
   "metadata": {},
   "outputs": [],
   "source": [
    "import numpy as np\n",
    "import matplotlib.pyplot as plt\n",
    "from library.diffeq import forward_euler, backward_euler, predictor_corrector, rk2, rk4"
   ]
  },
  {
   "cell_type": "code",
   "execution_count": null,
   "metadata": {},
   "outputs": [],
   "source": [
    "# Input parameter set 1\n",
    "def func(x, y): return y - x**2 + 1\n",
    "ans_func = lambda a: a**2 + 2*a + 1\n",
    "x0, y0 = -1, 0\n",
    "x_get = 1\n",
    "h = 0.5\n",
    "\n",
    "# # Input parameter set 2\n",
    "# def func(x, y): return 2*np.sin(x) - y\n",
    "# ans_func = lambda a: np.sin(a) - np.cos(a)\n",
    "# x0, y0 = np.pi/4, 0\n",
    "# x_get = 10\n",
    "# h = 0.5"
   ]
  },
  {
   "cell_type": "code",
   "execution_count": null,
   "metadata": {},
   "outputs": [],
   "source": [
    "xs, ys, y_get = forward_euler(func, x_get, x0, y0, h)\n",
    "a = np.linspace(x0, x_get, 100)\n",
    "plt.plot(a, ans_func(a), \"r\", label='Analytical')\n",
    "plt.plot(xs, ys, \"b\", label='Forward Euler')\n",
    "plt.legend()"
   ]
  },
  {
   "cell_type": "code",
   "execution_count": null,
   "metadata": {},
   "outputs": [],
   "source": [
    "xs, ys, y_get = backward_euler(func, x_get, x0, y0, h)\n",
    "a = np.linspace(x0, x_get, 100)\n",
    "plt.plot(a, ans_func(a), \"r\", label='Analytical')\n",
    "plt.plot(xs, ys, \"b\", label='Backward Euler')\n",
    "plt.legend()"
   ]
  },
  {
   "cell_type": "code",
   "execution_count": null,
   "metadata": {},
   "outputs": [],
   "source": [
    "xs, ys, y_get = predictor_corrector(func, x_get, x0, y0, h)\n",
    "a = np.linspace(x0, x_get, 100)\n",
    "plt.plot(a, ans_func(a), \"r\", label='Analytical')\n",
    "plt.plot(xs, ys, \"b\", label='Backward Euler')\n",
    "plt.legend()"
   ]
  },
  {
   "cell_type": "code",
   "execution_count": null,
   "metadata": {},
   "outputs": [],
   "source": [
    "xs, ys, y_get = rk2(func, x_get, x0, y0, h)\n",
    "a = np.linspace(x0, x_get, 100)\n",
    "plt.plot(a, ans_func(a), \"r\", label='Analytical')\n",
    "plt.plot(xs, ys, \"b\", label='Backward Euler')\n",
    "plt.legend()"
   ]
  },
  {
   "cell_type": "code",
   "execution_count": null,
   "metadata": {},
   "outputs": [],
   "source": [
    "xs, ys, y_get = rk4(func, x_get, x0, y0, h)\n",
    "a = np.linspace(x0, x_get, 100)\n",
    "plt.plot(a, ans_func(a), \"r\", label='Analytical')\n",
    "plt.plot(xs, ys, \"b\", label='Backward Euler')\n",
    "plt.legend()"
   ]
  },
  {
   "cell_type": "code",
   "execution_count": null,
   "metadata": {},
   "outputs": [],
   "source": [
    "# lorentz attractor\n",
    "sigma = 10\n",
    "rho = 28\n",
    "beta = 8/3\n",
    "f1 = lambda x, y, z: sigma*(y - x)\n",
    "f2 = lambda x, y, z: x*(rho - z) - y\n",
    "f3 = lambda x, y, z: x*y - beta*z"
   ]
  }
 ],
 "metadata": {
  "kernelspec": {
   "display_name": "Python 3.9.13 64-bit (microsoft store)",
   "language": "python",
   "name": "python3"
  },
  "language_info": {
   "codemirror_mode": {
    "name": "ipython",
    "version": 3
   },
   "file_extension": ".py",
   "mimetype": "text/x-python",
   "name": "python",
   "nbconvert_exporter": "python",
   "pygments_lexer": "ipython3",
   "version": "3.9.13"
  },
  "orig_nbformat": 4,
  "vscode": {
   "interpreter": {
    "hash": "95b59b4b0e72d3e94105c3ab4f1a1e6e746e4c2a7c235241251baf92fb36381f"
   }
  }
 },
 "nbformat": 4,
 "nbformat_minor": 2
}
