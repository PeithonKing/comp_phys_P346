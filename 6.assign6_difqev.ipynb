{
 "cells": [
  {
   "cell_type": "markdown",
   "metadata": {},
   "source": [
    "# Q1: "
   ]
  },
  {
   "cell_type": "code",
   "execution_count": null,
   "metadata": {},
   "outputs": [],
   "source": []
  },
  {
   "cell_type": "markdown",
   "metadata": {},
   "source": [
    "# Q4: Dominant Eigen Value and Eigen Vector of the matrix:\n",
    "\n",
    "$$\n",
    "\\begin{pmatrix}\n",
    "2 & 1 & 2 \\\\\n",
    "2 & 2 & -2 \\\\\n",
    "3 & 1 & 1\n",
    "\\end{pmatrix}\n",
    "$$"
   ]
  },
  {
   "cell_type": "code",
   "execution_count": 1,
   "metadata": {},
   "outputs": [],
   "source": [
    "from library.matrix import Matrix\n",
    "from library.eigen import get_eigen"
   ]
  },
  {
   "cell_type": "code",
   "execution_count": 2,
   "metadata": {},
   "outputs": [
    {
     "name": "stdout",
     "output_type": "stream",
     "text": [
      "Number of iterations: 9\n",
      "Eigenvalue: 3.999\n",
      "e-vector = |0.707|\n",
      "           |0.000|\n",
      "           |0.707|\n",
      "\n"
     ]
    }
   ],
   "source": [
    "A = Matrix(\n",
    "    [\n",
    "        [2, 1, 2],\n",
    "        [2, 2, -2],\n",
    "        [3, 1, 1]\n",
    "    ], name=\"A\"\n",
    ")\n",
    "\n",
    "val, vec, i = get_eigen(A, epsilon=1e-3, seed=0.1)\n",
    "print(f\"Number of iterations: {i}\")\n",
    "print(f\"Eigenvalue: {val}\")\n",
    "print(vec)"
   ]
  }
 ],
 "metadata": {
  "kernelspec": {
   "display_name": "Python 3.9.13 64-bit (microsoft store)",
   "language": "python",
   "name": "python3"
  },
  "language_info": {
   "codemirror_mode": {
    "name": "ipython",
    "version": 3
   },
   "file_extension": ".py",
   "mimetype": "text/x-python",
   "name": "python",
   "nbconvert_exporter": "python",
   "pygments_lexer": "ipython3",
   "version": "3.9.13"
  },
  "orig_nbformat": 4,
  "vscode": {
   "interpreter": {
    "hash": "95b59b4b0e72d3e94105c3ab4f1a1e6e746e4c2a7c235241251baf92fb36381f"
   }
  }
 },
 "nbformat": 4,
 "nbformat_minor": 2
}
