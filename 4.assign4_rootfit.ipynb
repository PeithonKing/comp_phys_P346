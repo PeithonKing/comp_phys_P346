{
 "cells": [
  {
   "cell_type": "markdown",
   "metadata": {},
   "source": [
    "# Q1"
   ]
  },
  {
   "cell_type": "code",
   "execution_count": 1,
   "metadata": {},
   "outputs": [],
   "source": [
    "from library.nonlinear_equations import solve_regula_falsi, solve_bisection, solve_newton_raphson, laguerre_solve\n",
    "\n",
    "from math import log, cos, sin\n",
    "def f(x): return log(x/2) - sin(5*x/2)"
   ]
  },
  {
   "cell_type": "code",
   "execution_count": 2,
   "metadata": {},
   "outputs": [
    {
     "name": "stdout",
     "output_type": "stream",
     "text": [
      "Solution by bisection method: 1.401929\n"
     ]
    }
   ],
   "source": [
    "ans = solve_bisection(f, guess=[1.5, 2.5], delta=1e-6, verbose = False)\n",
    "print(f\"Solution by bisection method: {ans}\")"
   ]
  },
  {
   "cell_type": "code",
   "execution_count": 3,
   "metadata": {},
   "outputs": [
    {
     "name": "stdout",
     "output_type": "stream",
     "text": [
      "Solution by regula falsi method: 1.401929\n"
     ]
    }
   ],
   "source": [
    "ans = solve_regula_falsi(f, guess=[1.5, 2.5], delta=1e-6, verbose = False)\n",
    "print(f\"Solution by regula falsi method: {ans}\")"
   ]
  },
  {
   "cell_type": "markdown",
   "metadata": {},
   "source": [
    "## Summary\n",
    "\n",
    " - I have got the following data from the above 2 functions. If we put `verbose=True` as an argument, they print the statistics in every iteration. But for presenting purpose, I ran the cell with `verbose=True`, copied the data into this table and changed `verbose` back to `False`.\n",
    " - In some cells in bisection, we can see, the value does not change for some iteratons. This is because, I am always printing the smaller value. For those iterations, the larger value was reducing to some value which was still larger the other. Thus the smaller value remained the smaller one over those iterations.\n",
    " - For Bisection and Regula Falsi, we have two pointers (a and b) while listing in this table, for each of a and b, I have listed the value if f(value) is smaller. i.e: `print(a if abs(f(a))<abs(f(b)) else b)`\n",
    "\n",
    "| Step |  Bisection  | Regula Falsi |\n",
    "|:----:|:-----------:|:------------:|\n",
    "|   1  |  1.311000   |   1.311000   |\n",
    "|   2  |  1.311000   |   1.423389   |\n",
    "|   3  |  1.447125   |   1.402678   |\n",
    "|   4  |  1.379062   |   1.401954   |\n",
    "|   5  |  1.413093   |   1.401930   |\n",
    "|   6  |  1.396078   |   1.401929   |\n",
    "|   7  |  1.404585   |       -      |\n",
    "|   8  |  1.400332   |       -      |\n",
    "|   9  |  1.402458   |       -      |\n",
    "|  10  |  1.402458   |       -      |\n",
    "|  11  |  1.401927   |       -      |\n",
    "|  12  |  1.401927   |       -      |\n",
    "|  13  |  1.401927   |       -      |\n",
    "|  14  |  1.401927   |       -      |\n",
    "|  15  |  1.401927   |       -      |\n",
    "|  16  |  1.401927   |       -      |\n",
    "|  17  |  1.401927   |       -      |\n",
    "|  18  |  1.401931   |       -      |\n",
    "|  19  |  1.401929   |       -      |\n",
    "|  20  |  1.401930   |       -      |\n",
    "|  21  |  1.401929   |       -      |"
   ]
  },
  {
   "cell_type": "markdown",
   "metadata": {},
   "source": [
    "# Q2"
   ]
  },
  {
   "cell_type": "code",
   "execution_count": 4,
   "metadata": {},
   "outputs": [],
   "source": [
    "from library.nonlinear_equations import get_brackets\n",
    "\n",
    "def f(x): return -(cos(x) + x)\n",
    "def fd(x): return sin(x) - 1"
   ]
  },
  {
   "cell_type": "code",
   "execution_count": 5,
   "metadata": {},
   "outputs": [
    {
     "name": "stdout",
     "output_type": "stream",
     "text": [
      "Solution by bisection method: -0.739085\n"
     ]
    }
   ],
   "source": [
    "ans = solve_bisection(f, guess=None, delta=1e-6, verbose = False)\n",
    "print(f\"Solution by bisection method: {ans}\")"
   ]
  },
  {
   "cell_type": "code",
   "execution_count": 6,
   "metadata": {},
   "outputs": [
    {
     "name": "stdout",
     "output_type": "stream",
     "text": [
      "Solution by regula falsi method: -0.739085\n"
     ]
    }
   ],
   "source": [
    "ans = solve_regula_falsi(f, guess=None, delta=1e-6, verbose = False)\n",
    "print(f\"Solution by regula falsi method: {ans}\")"
   ]
  },
  {
   "cell_type": "code",
   "execution_count": 7,
   "metadata": {},
   "outputs": [
    {
     "name": "stdout",
     "output_type": "stream",
     "text": [
      "Solution by newton rhapson method: -0.739085\n"
     ]
    }
   ],
   "source": [
    "ans = solve_newton_raphson(f, fd, guess=None, delta=1e-6, verbose = False)\n",
    "print(f\"Solution by newton rhapson method: {ans}\")"
   ]
  },
  {
   "cell_type": "markdown",
   "metadata": {},
   "source": [
    "## Summary:\n",
    "\n",
    "\n",
    "| Step |  Bisection  | Regula Falsi | Newton Rhapson |\n",
    "|:----:|:-----------:|:------------:|:--------------:|\n",
    "|   1  |  -0.036468  |   -0.814114  |   -16.053801   |\n",
    "|   2  |  -1.182327  |   -0.723117  |   9.656049     |\n",
    "|   3  |  -0.609397  |   -0.738828  |   2.592457     |\n",
    "|   4  |  -0.609397  |   -0.739081  |   -1.046239    |\n",
    "|   5  |  -0.752630  |   -0.739085  |   -0.753880    |\n",
    "|   6  |  -0.752630  |       -      |   -0.739132    |\n",
    "|   7  |  -0.752630  |       -      |   -0.739085    |\n",
    "|   8  |  -0.734726  |       -      |       -        |\n",
    "|   9  |  -0.734726  |       -      |       -        |\n",
    "|  10  |  -0.739202  |       -      |       -        |\n",
    "|  11  |  -0.739202  |       -      |       -        |\n",
    "|  12  |  -0.739202  |       -      |       -        |\n",
    "|  13  |  -0.739202  |       -      |       -        |\n",
    "|  14  |  -0.739202  |       -      |       -        |\n",
    "|  15  |  -0.739062  |       -      |       -        |\n",
    "|  16  |  -0.739062  |       -      |       -        |\n",
    "|  17  |  -0.739097  |       -      |       -        |\n",
    "|  18  |  -0.739079  |       -      |       -        |\n",
    "|  19  |  -0.739088  |       -      |       -        |\n",
    "|  20  |  -0.739084  |       -      |       -        |\n",
    "|  21  |  -0.739084  |       -      |       -        |\n",
    "|  22  |  -0.739085  |       -      |       -        |"
   ]
  },
  {
   "cell_type": "markdown",
   "metadata": {},
   "source": [
    "# Q3:"
   ]
  },
  {
   "cell_type": "code",
   "execution_count": 8,
   "metadata": {},
   "outputs": [
    {
     "name": "stdout",
     "output_type": "stream",
     "text": [
      "a = |1.000000  |\n",
      "    |-0.999999|\n",
      "    |1.999999  |\n",
      "    |-2.000000|\n",
      "\n"
     ]
    }
   ],
   "source": [
    "coeff = [1, 0, -5, 0, 4]  # x^4 - 5x^2 + 4\n",
    "roots = laguerre_solve(coeff, epsilon=1e-6)\n",
    "print(roots)"
   ]
  },
  {
   "cell_type": "markdown",
   "metadata": {},
   "source": [
    "# Q4:"
   ]
  },
  {
   "cell_type": "code",
   "execution_count": 9,
   "metadata": {},
   "outputs": [],
   "source": [
    "from library.fitting import polynomial_fit\n",
    "from library.matrix import Matrix"
   ]
  },
  {
   "cell_type": "code",
   "execution_count": 10,
   "metadata": {},
   "outputs": [],
   "source": [
    "x, y = [], []\n",
    "with open(\"data/assign4fit.txt\") as f:\n",
    "    points = f.readlines()\n",
    "    for point in points:\n",
    "        xs, ys = point.split(\"\\t\")\n",
    "        x.append([float(xs)])\n",
    "        y.append([float(ys)])\n",
    "    x = Matrix(x, \"x\", 2)\n",
    "    y = Matrix(y, \"y\", 3)"
   ]
  },
  {
   "cell_type": "code",
   "execution_count": 11,
   "metadata": {},
   "outputs": [
    {
     "name": "stdout",
     "output_type": "stream",
     "text": [
      "a0 = 0.5746586674194764\n",
      "a1 = 4.725861442143591\n",
      "a2 = -11.128217777647283\n",
      "a3 = 7.668677622912027\n"
     ]
    }
   ],
   "source": [
    "a = polynomial_fit(x, y, 4)\n",
    "for i in range(len(a)):\n",
    "    print(f\"a{i} = {a.mat[i][0]}\")"
   ]
  },
  {
   "cell_type": "code",
   "execution_count": 12,
   "metadata": {},
   "outputs": [
    {
     "data": {
      "text/plain": [
       "[<matplotlib.lines.Line2D at 0x17c3616daf0>]"
      ]
     },
     "execution_count": 12,
     "metadata": {},
     "output_type": "execute_result"
    },
    {
     "data": {
      "image/png": "[encoded data removed]",
      "text/plain": [
       "<Figure size 640x480 with 1 Axes>"
      ]
     },
     "metadata": {},
     "output_type": "display_data"
    }
   ],
   "source": [
    "from library.nonlinear_equations import P\n",
    "from library.matrix import linspace\n",
    "import matplotlib.pyplot as plt\n",
    "\n",
    "plot_x = linspace(-0.05, 1, 100)\n",
    "plot_y = [P(i, a.T().mat[0][::-1]) for i in  plot_x]\n",
    "\n",
    "plt.scatter(x.mat, y.mat, c=\"g\")\n",
    "plt.plot(plot_x, plot_y, \"r\")"
   ]
  }
 ],
 "metadata": {
  "kernelspec": {
   "display_name": "Python 3.9.13 64-bit (microsoft store)",
   "language": "python",
   "name": "python3"
  },
  "language_info": {
   "codemirror_mode": {
    "name": "ipython",
    "version": 3
   },
   "file_extension": ".py",
   "mimetype": "text/x-python",
   "name": "python",
   "nbconvert_exporter": "python",
   "pygments_lexer": "ipython3",
   "version": "3.9.13"
  },
  "orig_nbformat": 4,
  "vscode": {
   "interpreter": {
    "hash": "95b59b4b0e72d3e94105c3ab4f1a1e6e746e4c2a7c235241251baf92fb36381f"
   }
  }
 },
 "nbformat": 4,
 "nbformat_minor": 2
}
