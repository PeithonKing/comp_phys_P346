{
 "cells": [
  {
   "cell_type": "markdown",
   "metadata": {},
   "source": [
    "# Q1"
   ]
  },
  {
   "cell_type": "code",
   "execution_count": 1,
   "metadata": {},
   "outputs": [],
   "source": [
    "from library.nonlinear_equations import solve_regula_falsi, solve_bisection, solve_newton_raphson, laguerre_solve\n",
    "\n",
    "from math import log, cos, sin\n",
    "def f(x): return log(x/2) - sin(5*x/2)"
   ]
  },
  {
   "cell_type": "code",
   "execution_count": 2,
   "metadata": {},
   "outputs": [
    {
     "name": "stdout",
     "output_type": "stream",
     "text": [
      "step=1\t  a=1.855500\tf(a)=0.922296\tb=1.311000\tf(b)=-0.286867\n",
      "step=2\t  a=1.583250\tf(a)=0.495108\tb=1.311000\tf(b)=-0.286867\n",
      "step=3\t  a=1.447125\tf(a)=0.134854\tb=1.311000\tf(b)=-0.286867\n",
      "step=4\t  a=1.447125\tf(a)=0.134854\tb=1.379062\tf(b)=-0.070435\n",
      "step=5\t  a=1.413093\tf(a)=0.033878\tb=1.379062\tf(b)=-0.070435\n",
      "step=6\t  a=1.413093\tf(a)=0.033878\tb=1.396078\tf(b)=-0.017895\n",
      "step=7\t  a=1.404585\tf(a)=0.008091\tb=1.396078\tf(b)=-0.017895\n",
      "step=8\t  a=1.404585\tf(a)=0.008091\tb=1.400332\tf(b)=-0.004877\n",
      "step=9\t  a=1.402458\tf(a)=0.001613\tb=1.400332\tf(b)=-0.004877\n",
      "step=10\t  a=1.402458\tf(a)=0.001613\tb=1.401395\tf(b)=-0.001630\n",
      "step=11\t  a=1.402458\tf(a)=0.001613\tb=1.401927\tf(b)=-0.000008\n",
      "step=12\t  a=1.402193\tf(a)=0.000802\tb=1.401927\tf(b)=-0.000008\n",
      "step=13\t  a=1.402060\tf(a)=0.000397\tb=1.401927\tf(b)=-0.000008\n",
      "step=14\t  a=1.401993\tf(a)=0.000194\tb=1.401927\tf(b)=-0.000008\n",
      "step=15\t  a=1.401960\tf(a)=0.000093\tb=1.401927\tf(b)=-0.000008\n",
      "step=16\t  a=1.401943\tf(a)=0.000042\tb=1.401927\tf(b)=-0.000008\n",
      "step=17\t  a=1.401935\tf(a)=0.000017\tb=1.401927\tf(b)=-0.000008\n",
      "step=18\t  a=1.401931\tf(a)=0.000004\tb=1.401927\tf(b)=-0.000008\n",
      "step=19\t  a=1.401931\tf(a)=0.000004\tb=1.401929\tf(b)=-0.000001\n",
      "step=20\t  a=1.401930\tf(a)=0.000001\tb=1.401929\tf(b)=-0.000001\n",
      "step=21\t  a=1.401930\tf(a)=0.000001\tb=1.401929\tf(b)=-0.000000\n",
      "\n",
      "Solution by bisection method: 1.401929\n"
     ]
    }
   ],
   "source": [
    "ans = solve_bisection(f, guess=[1.5, 2.5], delta=1e-6, verbose = True)\n",
    "print(f\"\\nSolution by bisection method: {ans}\")"
   ]
  },
  {
   "cell_type": "code",
   "execution_count": 3,
   "metadata": {},
   "outputs": [
    {
     "name": "stdout",
     "output_type": "stream",
     "text": [
      "step=1\t  a=1.728308\tf(a)=0.778288\tb=1.311000\tf(b)=-0.286867\n",
      "step=2\t  a=1.423389\tf(a)=0.064804\tb=1.311000\tf(b)=-0.286867\n",
      "step=3\t  a=1.402678\tf(a)=0.002283\tb=1.311000\tf(b)=-0.286867\n",
      "step=4\t  a=1.401954\tf(a)=0.000075\tb=1.311000\tf(b)=-0.286867\n",
      "step=5\t  a=1.401930\tf(a)=0.000002\tb=1.311000\tf(b)=-0.286867\n",
      "step=6\t  a=1.401929\tf(a)=0.000000\tb=1.311000\tf(b)=-0.286867\n",
      "\n",
      "Solution by regula falsi method: 1.401929\n"
     ]
    }
   ],
   "source": [
    "ans = solve_regula_falsi(f, guess=[1.5, 2.5], delta=1e-6, verbose = True)\n",
    "print(f\"\\nSolution by regula falsi method: {ans}\")"
   ]
  },
  {
   "cell_type": "markdown",
   "metadata": {},
   "source": [
    "# Q2"
   ]
  },
  {
   "cell_type": "code",
   "execution_count": 4,
   "metadata": {},
   "outputs": [],
   "source": [
    "from library.nonlinear_equations import get_brackets\n",
    "\n",
    "def f(x): return -(cos(x) + x)\n",
    "def fd(x): return sin(x) - 1"
   ]
  },
  {
   "cell_type": "code",
   "execution_count": 5,
   "metadata": {},
   "outputs": [
    {
     "name": "stdout",
     "output_type": "stream",
     "text": [
      "step=1\t  a=-0.036468\tf(a)=-0.962866\tb=-2.328186\tf(b)=3.015213\n",
      "step=2\t  a=-0.036468\tf(a)=-0.962866\tb=-1.182327\tf(b)=0.803555\n",
      "step=3\t  a=-0.609397\tf(a)=-0.210594\tb=-1.182327\tf(b)=0.803555\n",
      "step=4\t  a=-0.609397\tf(a)=-0.210594\tb=-0.895862\tf(b)=0.271016\n",
      "step=5\t  a=-0.609397\tf(a)=-0.210594\tb=-0.752630\tf(b)=0.022736\n",
      "step=6\t  a=-0.681014\tf(a)=-0.095920\tb=-0.752630\tf(b)=0.022736\n",
      "step=7\t  a=-0.716822\tf(a)=-0.037075\tb=-0.752630\tf(b)=0.022736\n",
      "step=8\t  a=-0.734726\tf(a)=-0.007288\tb=-0.752630\tf(b)=0.022736\n",
      "step=9\t  a=-0.734726\tf(a)=-0.007288\tb=-0.743678\tf(b)=0.007694\n",
      "step=10\t  a=-0.734726\tf(a)=-0.007288\tb=-0.739202\tf(b)=0.000195\n",
      "step=11\t  a=-0.736964\tf(a)=-0.003547\tb=-0.739202\tf(b)=0.000195\n",
      "step=12\t  a=-0.738083\tf(a)=-0.001676\tb=-0.739202\tf(b)=0.000195\n",
      "step=13\t  a=-0.738642\tf(a)=-0.000740\tb=-0.739202\tf(b)=0.000195\n",
      "step=14\t  a=-0.738922\tf(a)=-0.000272\tb=-0.739202\tf(b)=0.000195\n",
      "step=15\t  a=-0.739062\tf(a)=-0.000038\tb=-0.739202\tf(b)=0.000195\n",
      "step=16\t  a=-0.739062\tf(a)=-0.000038\tb=-0.739132\tf(b)=0.000078\n",
      "step=17\t  a=-0.739062\tf(a)=-0.000038\tb=-0.739097\tf(b)=0.000020\n",
      "step=18\t  a=-0.739079\tf(a)=-0.000008\tb=-0.739097\tf(b)=0.000020\n",
      "step=19\t  a=-0.739079\tf(a)=-0.000008\tb=-0.739088\tf(b)=0.000005\n",
      "step=20\t  a=-0.739084\tf(a)=-0.000001\tb=-0.739088\tf(b)=0.000005\n",
      "step=21\t  a=-0.739084\tf(a)=-0.000001\tb=-0.739086\tf(b)=0.000002\n",
      "step=22\t  a=-0.739084\tf(a)=-0.000001\tb=-0.739085\tf(b)=0.000000\n",
      "\n",
      "Solution by bisection method: -0.739085\n"
     ]
    }
   ],
   "source": [
    "ans = solve_bisection(f, guess=None, delta=1e-6, verbose = True)\n",
    "print(f\"\\nSolution by bisection method: {ans}\")"
   ]
  },
  {
   "cell_type": "code",
   "execution_count": 6,
   "metadata": {},
   "outputs": [
    {
     "name": "stdout",
     "output_type": "stream",
     "text": [
      "step=1\t  a=-0.036468\tf(a)=-0.962866\tb=-0.814114\tf(b)=0.127601\n",
      "step=2\t  a=-0.723117\tf(a)=-0.026628\tb=-0.814114\tf(b)=0.127601\n",
      "step=3\t  a=-0.738828\tf(a)=-0.000429\tb=-0.814114\tf(b)=0.127601\n",
      "step=4\t  a=-0.739081\tf(a)=-0.000006\tb=-0.814114\tf(b)=0.127601\n",
      "step=5\t  a=-0.739085\tf(a)=-0.000000\tb=-0.814114\tf(b)=0.127601\n",
      "\n",
      "Solution by regula falsi method: -0.739085\n"
     ]
    }
   ],
   "source": [
    "ans = solve_regula_falsi(f, guess=None, delta=1e-6, verbose = True)\n",
    "print(f\"\\nSolution by regula falsi method: {ans}\")"
   ]
  },
  {
   "cell_type": "code",
   "execution_count": 7,
   "metadata": {},
   "outputs": [
    {
     "name": "stdout",
     "output_type": "stream",
     "text": [
      "step=1\t  x=-16.053801\tf(x)=16.994592\n",
      "step=2\t  x=9.656049\tf(x)=-8.682673\n",
      "step=3\t  x=2.592457\tf(x)=-1.739481\n",
      "step=4\t  x=-1.046239\tf(x)=0.545409\n",
      "step=5\t  x=-0.753880\tf(x)=0.024841\n",
      "step=6\t  x=-0.739132\tf(x)=0.000079\n",
      "step=7\t  x=-0.739085\tf(x)=0.000000\n",
      "\n",
      "Solution by newton rhapson method: -0.739085\n"
     ]
    }
   ],
   "source": [
    "ans = solve_newton_raphson(f, fd, guess=None, delta=1e-6, verbose = True)\n",
    "print(f\"\\nSolution by newton rhapson method: {ans}\")"
   ]
  },
  {
   "cell_type": "markdown",
   "metadata": {},
   "source": [
    "# Q3:"
   ]
  },
  {
   "cell_type": "code",
   "execution_count": 8,
   "metadata": {},
   "outputs": [
    {
     "data": {
      "text/plain": [
       "[1.0, -0.999999, 1.999999, -2.0]"
      ]
     },
     "execution_count": 8,
     "metadata": {},
     "output_type": "execute_result"
    }
   ],
   "source": [
    "coeff = [1, 0, -5, 0, 4]  # x^4 - 5x^2 + 4\n",
    "laguerre_solve(coeff, epsilon=1e-6)"
   ]
  },
  {
   "cell_type": "markdown",
   "metadata": {},
   "source": [
    "# Q4:"
   ]
  },
  {
   "cell_type": "code",
   "execution_count": 12,
   "metadata": {},
   "outputs": [],
   "source": [
    "from library.fitting import polynomial_fit\n",
    "from library.matrix import Matrix"
   ]
  },
  {
   "cell_type": "code",
   "execution_count": 16,
   "metadata": {},
   "outputs": [],
   "source": [
    "x, y = [], []\n",
    "with open(\"data/assign4fit.txt\") as f:\n",
    "    points = f.readlines()\n",
    "    for point in points:\n",
    "        xs, ys = point.split(\"\\t\")\n",
    "        x.append([float(xs)])\n",
    "        y.append([float(ys)])\n",
    "    x = Matrix(x, \"x\", 2)\n",
    "    y = Matrix(y, \"y\", 3)"
   ]
  },
  {
   "cell_type": "code",
   "execution_count": 20,
   "metadata": {},
   "outputs": [
    {
     "name": "stdout",
     "output_type": "stream",
     "text": [
      "x = |0.574  |\n",
      "    |4.725  |\n",
      "    |-11.128|\n",
      "    |7.668  |\n",
      "\n"
     ]
    }
   ],
   "source": [
    "a = polynomial_fit(x, y, 4)\n",
    "print(a)"
   ]
  }
 ],
 "metadata": {
  "kernelspec": {
   "display_name": "Python 3.9.13 64-bit (microsoft store)",
   "language": "python",
   "name": "python3"
  },
  "language_info": {
   "codemirror_mode": {
    "name": "ipython",
    "version": 3
   },
   "file_extension": ".py",
   "mimetype": "text/x-python",
   "name": "python",
   "nbconvert_exporter": "python",
   "pygments_lexer": "ipython3",
   "version": "3.9.13"
  },
  "orig_nbformat": 4,
  "vscode": {
   "interpreter": {
    "hash": "95b59b4b0e72d3e94105c3ab4f1a1e6e746e4c2a7c235241251baf92fb36381f"
   }
  }
 },
 "nbformat": 4,
 "nbformat_minor": 2
}
