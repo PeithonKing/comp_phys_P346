{
 "cells": [
  {
   "cell_type": "markdown",
   "metadata": {},
   "source": [
    "# Gauss-Jordan Elimination\n",
    "\n",
    "$$\n",
    "y + z - 2w = -3, \\\\\n",
    "x + 2y -z = 2, \\\\\n",
    "2x + 4y + z -3w = -2, \\\\\n",
    "x - 4y -7z - w = -19, \\\\\n",
    "$$"
   ]
  },
  {
   "cell_type": "code",
   "execution_count": 6,
   "metadata": {},
   "outputs": [],
   "source": [
    "from library.matrix import Matrix\n",
    "\n",
    "A = Matrix([\n",
    "    [0, 1, 1, -2],\n",
    "    [1, 2, -1, 0],\n",
    "    [2, 4, 1, -3],\n",
    "    [1, -4, -7, -1]\n",
    "], \"A\", precision = 4)\n",
    "\n",
    "# A = Matrix([\n",
    "#     [0, 2, 5],\n",
    "#     [3, -1, 2],\n",
    "#     [1, -1, 3],\n",
    "# ], \"A\", precision = 4)\n",
    "\n",
    "B = Matrix([\n",
    "    [-3],\n",
    "    [2],\n",
    "    [-2],\n",
    "    [-19]\n",
    "], \"B\", precision = 4)\n",
    "\n",
    "# B = Matrix([\n",
    "#     [1],\n",
    "#     [-2],\n",
    "#     [3],\n",
    "# ], \"B\", precision = 4)\n",
    "\n",
    "# B = Matrix([\n",
    "#     [1],\n",
    "#     [0],\n",
    "#     [0]\n",
    "# ], \"B\", precision = 4)"
   ]
  },
  {
   "cell_type": "code",
   "execution_count": 7,
   "metadata": {},
   "outputs": [],
   "source": [
    "def gauss_jordan(A, B, verbose = False):\n",
    "    \"\"\"Perform Gauss-Jordan elimination on the augmented matrix [A|B]\n",
    "\n",
    "    Args:\n",
    "        A (Matrix): Coefficient matrix\n",
    "        B (Matrix): Intercept matrix\n",
    "        verbose (bool, optional): Whether to print the steps. Defaults to False.\n",
    "\n",
    "    Returns:\n",
    "        Matrix: The solution column matrix.\n",
    "    \"\"\"\n",
    "    A.augment(B)\n",
    "    for imp in range(A.shape[0]):\n",
    "        if verbose:\n",
    "            print(f\"\\nworking with row {imp}\")\n",
    "        if A.mat[imp][imp] == 0:\n",
    "            m = max(enumerate(A.col(imp).mat[imp:]), key=lambda x: abs(x[1][0]))[0]\n",
    "            A.swap_rows(imp, imp+m, verbose)\n",
    "\n",
    "        A.divide(imp, A.mat[imp][imp], verbose)\n",
    "\n",
    "        for i in range(A.shape[0]):\n",
    "            if imp != i:\n",
    "                A.subtract(i, imp, A.mat[i][imp], verbose)\n",
    "\n",
    "    ans = A.col(-1)\n",
    "    ans.name = \"Sol\"\n",
    "    return ans"
   ]
  },
  {
   "cell_type": "code",
   "execution_count": 8,
   "metadata": {},
   "outputs": [
    {
     "ename": "ValueError",
     "evalue": "Can't do Gauss-Jordan",
     "output_type": "error",
     "traceback": [
      "\u001b[1;31m---------------------------------------------------------------------------\u001b[0m",
      "\u001b[1;31mNameError\u001b[0m                                 Traceback (most recent call last)",
      "File \u001b[1;32m~\\OneDrive\\Desktop\\P346\\working\\library\\linear_equations.py:25\u001b[0m, in \u001b[0;36mgauss_jordan\u001b[1;34m(A, B, verbose)\u001b[0m\n\u001b[0;32m     24\u001b[0m \u001b[38;5;28;01mif\u001b[39;00m A\u001b[38;5;241m.\u001b[39mmat[imp][imp] \u001b[38;5;241m==\u001b[39m \u001b[38;5;241m0\u001b[39m:\n\u001b[1;32m---> 25\u001b[0m     \u001b[38;5;28;01mtry\u001b[39;00m: \u001b[43mA\u001b[49m\u001b[38;5;241;43m.\u001b[39;49m\u001b[43mpivot\u001b[49m\u001b[43m(\u001b[49m\u001b[43mimp\u001b[49m\u001b[43m)\u001b[49m\n\u001b[0;32m     26\u001b[0m     \u001b[38;5;28;01mexcept\u001b[39;00m: \u001b[38;5;28;01mraise\u001b[39;00m \u001b[38;5;167;01mValueError\u001b[39;00m(\u001b[38;5;124m\"\u001b[39m\u001b[38;5;124mCan\u001b[39m\u001b[38;5;124m'\u001b[39m\u001b[38;5;124mt do Gauss-Jordan\u001b[39m\u001b[38;5;124m\"\u001b[39m)\n",
      "File \u001b[1;32m~\\OneDrive\\Desktop\\P346\\working\\library\\matrix.py:135\u001b[0m, in \u001b[0;36mMatrix.pivot\u001b[1;34m(self, i)\u001b[0m\n\u001b[0;32m    134\u001b[0m m \u001b[38;5;241m=\u001b[39m \u001b[38;5;28mmax\u001b[39m(\u001b[38;5;28menumerate\u001b[39m(\u001b[38;5;28mself\u001b[39m[i:,i]\u001b[38;5;241m.\u001b[39mmat), key\u001b[38;5;241m=\u001b[39m\u001b[38;5;28;01mlambda\u001b[39;00m x: \u001b[38;5;28mabs\u001b[39m(x[\u001b[38;5;241m1\u001b[39m][\u001b[38;5;241m0\u001b[39m]))[\u001b[38;5;241m0\u001b[39m]\n\u001b[1;32m--> 135\u001b[0m \u001b[43mA\u001b[49m\u001b[38;5;241m.\u001b[39mswap_rows(i, i\u001b[38;5;241m+\u001b[39mm)\n",
      "\u001b[1;31mNameError\u001b[0m: name 'A' is not defined",
      "\nDuring handling of the above exception, another exception occurred:\n",
      "\u001b[1;31mValueError\u001b[0m                                Traceback (most recent call last)",
      "Cell \u001b[1;32mIn[8], line 1\u001b[0m\n\u001b[1;32m----> 1\u001b[0m \u001b[38;5;28mprint\u001b[39m(\u001b[43mgauss_jordan\u001b[49m\u001b[43m(\u001b[49m\u001b[43mA\u001b[49m\u001b[43m,\u001b[49m\u001b[43m \u001b[49m\u001b[43mB\u001b[49m\u001b[43m,\u001b[49m\u001b[43m \u001b[49m\u001b[38;5;28;43;01mFalse\u001b[39;49;00m\u001b[43m)\u001b[49m)\n",
      "File \u001b[1;32m~\\OneDrive\\Desktop\\P346\\working\\library\\linear_equations.py:26\u001b[0m, in \u001b[0;36mgauss_jordan\u001b[1;34m(A, B, verbose)\u001b[0m\n\u001b[0;32m     24\u001b[0m \u001b[38;5;28;01mif\u001b[39;00m A\u001b[38;5;241m.\u001b[39mmat[imp][imp] \u001b[38;5;241m==\u001b[39m \u001b[38;5;241m0\u001b[39m:\n\u001b[0;32m     25\u001b[0m     \u001b[38;5;28;01mtry\u001b[39;00m: A\u001b[38;5;241m.\u001b[39mpivot(imp)\n\u001b[1;32m---> 26\u001b[0m     \u001b[38;5;28;01mexcept\u001b[39;00m: \u001b[38;5;28;01mraise\u001b[39;00m \u001b[38;5;167;01mValueError\u001b[39;00m(\u001b[38;5;124m\"\u001b[39m\u001b[38;5;124mCan\u001b[39m\u001b[38;5;124m'\u001b[39m\u001b[38;5;124mt do Gauss-Jordan\u001b[39m\u001b[38;5;124m\"\u001b[39m)\n\u001b[0;32m     28\u001b[0m A[imp] \u001b[38;5;241m=\u001b[39m A[imp] \u001b[38;5;241m/\u001b[39m A\u001b[38;5;241m.\u001b[39mmat[imp][imp]\n\u001b[0;32m     30\u001b[0m \u001b[38;5;28;01mfor\u001b[39;00m i \u001b[38;5;129;01min\u001b[39;00m \u001b[38;5;28mrange\u001b[39m(A\u001b[38;5;241m.\u001b[39mshape[\u001b[38;5;241m0\u001b[39m]):\n",
      "\u001b[1;31mValueError\u001b[0m: Can't do Gauss-Jordan"
     ]
    }
   ],
   "source": [
    "print(gauss_jordan(A, B, False))"
   ]
  }
 ],
 "metadata": {
  "kernelspec": {
   "display_name": "Python 3 (ipykernel)",
   "language": "python",
   "name": "python3"
  },
  "language_info": {
   "codemirror_mode": {
    "name": "ipython",
    "version": 3
   },
   "file_extension": ".py",
   "mimetype": "text/x-python",
   "name": "python",
   "nbconvert_exporter": "python",
   "pygments_lexer": "ipython3",
   "version": "3.9.13"
  },
  "vscode": {
   "interpreter": {
    "hash": "95b59b4b0e72d3e94105c3ab4f1a1e6e746e4c2a7c235241251baf92fb36381f"
   }
  }
 },
 "nbformat": 4,
 "nbformat_minor": 2
}
