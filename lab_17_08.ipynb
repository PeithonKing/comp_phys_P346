{
 "cells": [
  {
   "cell_type": "markdown",
   "metadata": {},
   "source": [
    "# Gauss-Jordan Elimination\n",
    "\n",
    "$$\n",
    "y + z - 2w = -3, \\\\\n",
    "x + 2y -z = 2, \\\\\n",
    "2x + 4y + z -3w = -2, \\\\\n",
    "x - 4y -7z - w = -19, \\\\\n",
    "$$"
   ]
  },
  {
   "cell_type": "code",
   "execution_count": 7,
   "metadata": {},
   "outputs": [],
   "source": [
    "from library.basic_arithmatic import Matrix\n",
    "A = Matrix([\n",
    "    [0, 1, 1, -2],\n",
    "    [1, 2, -1, 0],\n",
    "    [2, 4, 1, -3],\n",
    "    [1, -4, -7, -1]\n",
    "], \"A\", precission = 4)\n",
    "\n",
    "B = Matrix([\n",
    "    [-3],\n",
    "    [2],\n",
    "    [-2],\n",
    "    [-19]\n",
    "], \"B\", precission = 4)"
   ]
  },
  {
   "cell_type": "code",
   "execution_count": 8,
   "metadata": {},
   "outputs": [
    {
     "name": "stdout",
     "output_type": "stream",
     "text": [
      "working with row 0\n",
      "Swapping rows 0 and 2\n",
      "R0 / 2\n",
      "R1 - 1*R0\n",
      "R2 - 0*R0\n",
      "R3 - 1*R0\n",
      "A = |1\t2\t0.5\t-1.5\t-1\t|\n",
      "    |0\t0\t-1.5\t1.5\t3\t|\n",
      "    |0\t1\t1\t-2\t-3\t|\n",
      "    |0\t-6\t-7.5\t0.5\t-18\t|\n",
      "\n",
      "working with row 1\n",
      "Swapping rows 1 and 3\n",
      "R1 / -6.0\n",
      "R0 - 2.0*R1\n",
      "R2 - 1.0*R1\n",
      "R3 - 0.0*R1\n",
      "A = |1\t0\t-2\t-1.3333\t-7\t|\n",
      "    |0\t1\t1.25\t-0.0833\t3\t|\n",
      "    |0\t0\t-0.25\t-1.9167\t-6\t|\n",
      "    |0\t0\t-1.5\t1.5\t3\t|\n",
      "\n",
      "working with row 2\n",
      "R2 / -0.25\n",
      "R0 - -2.0*R2\n",
      "R1 - 1.25*R2\n",
      "R3 - -1.5*R2\n",
      "A = |1\t0\t0\t14\t41\t|\n",
      "    |0\t1\t0\t-9.6667\t-27\t|\n",
      "    |0\t0\t1\t7.6667\t24\t|\n",
      "    |0\t0\t0\t13\t39\t|\n",
      "\n",
      "working with row 3\n",
      "R3 / 13.0\n",
      "R0 - 14.0*R3\n",
      "R1 - -9.6667*R3\n",
      "R2 - 7.6667*R3\n",
      "A = |1\t0\t0\t0\t-1\t|\n",
      "    |0\t1\t0\t0\t2.0\t|\n",
      "    |0\t0\t1\t0\t1\t|\n",
      "    |0\t0\t0\t1\t3\t|\n",
      "\n"
     ]
    }
   ],
   "source": [
    "A.augment(B)\n",
    "for imp in range(A.shape[0]):\n",
    "    print(f\"working with row {imp}\")\n",
    "    if A.mat[imp][imp] == 0:\n",
    "        m = max(enumerate(A.col(imp).mat[imp:]), key=lambda x: abs(x[1][0]))[0]\n",
    "        A.swap_rows(imp, imp+m)\n",
    "\n",
    "    A.divide(imp, A.mat[imp][imp])\n",
    "\n",
    "    for i in range(A.shape[0]):\n",
    "        if imp != i:\n",
    "            A.subtract(i, imp, A.mat[i][imp])\n",
    "    print(A)\n",
    "    # print(\"\\n\")"
   ]
  },
  {
   "cell_type": "code",
   "execution_count": 9,
   "metadata": {},
   "outputs": [
    {
     "name": "stdout",
     "output_type": "stream",
     "text": [
      "A[:,-1] = |-1\t|\n",
      "          |2\t|\n",
      "          |1\t|\n",
      "          |3\t|\n",
      "\n"
     ]
    }
   ],
   "source": [
    "print(A.col(-1))"
   ]
  }
 ],
 "metadata": {
  "kernelspec": {
   "display_name": "Python 3.9.13 64-bit",
   "language": "python",
   "name": "python3"
  },
  "language_info": {
   "codemirror_mode": {
    "name": "ipython",
    "version": 3
   },
   "file_extension": ".py",
   "mimetype": "text/x-python",
   "name": "python",
   "nbconvert_exporter": "python",
   "pygments_lexer": "ipython3",
   "version": "3.9.13"
  },
  "vscode": {
   "interpreter": {
    "hash": "8e284ee3255a07ad8bf76694974743c4c81cb57e7c969474d752d949b11d721e"
   }
  }
 },
 "nbformat": 4,
 "nbformat_minor": 2
}
