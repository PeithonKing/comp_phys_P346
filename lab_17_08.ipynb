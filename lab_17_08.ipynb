{
 "cells": [
  {
   "cell_type": "markdown",
   "metadata": {},
   "source": [
    "# Gauss-Jordan Elimination\n",
    "\n",
    "$$\n",
    "y + z - 2w = -3, \\\\\n",
    "x + 2y -z = 2, \\\\\n",
    "2x + 4y + z -3w = -2, \\\\\n",
    "x - 4y -7z - w = -19, \\\\\n",
    "$$"
   ]
  },
  {
   "cell_type": "code",
   "execution_count": 1,
   "metadata": {},
   "outputs": [],
   "source": [
    "from library.basic_arithmatic import Matrix\n",
    "A = Matrix([\n",
    "    [0, 1, 1, -2],\n",
    "    [1, 2, -1, 0],\n",
    "    [2, 4, 1, -3],\n",
    "    [1, -4, -7, -1]\n",
    "], \"A\", precission = 4)\n",
    "\n",
    "# A = Matrix([\n",
    "#     [0, 2, 5],\n",
    "#     [3, -1, 2],\n",
    "#     [1, -1, 3],\n",
    "# ], \"A\", precission = 4)\n",
    "\n",
    "B = Matrix([\n",
    "    [-3],\n",
    "    [2],\n",
    "    [-2],\n",
    "    [-19]\n",
    "], \"B\", precission = 4)\n",
    "\n",
    "# B = Matrix([\n",
    "#     [1],\n",
    "#     [-2],\n",
    "#     [3],\n",
    "# ], \"B\", precission = 4)\n",
    "\n",
    "# B = Matrix([\n",
    "#     [1],\n",
    "#     [0],\n",
    "#     [0]\n",
    "# ], \"B\", precission = 4)"
   ]
  },
  {
   "cell_type": "code",
   "execution_count": 2,
   "metadata": {},
   "outputs": [
    {
     "name": "stdout",
     "output_type": "stream",
     "text": [
      "working with row 0\n",
      "working with row 1\n",
      "working with row 2\n",
      "working with row 3\n"
     ]
    }
   ],
   "source": [
    "verbose = False\n",
    "A.augment(B)\n",
    "for imp in range(A.shape[0]):\n",
    "    print(f\"working with row {imp}\")\n",
    "    if A.mat[imp][imp] == 0:\n",
    "        m = max(enumerate(A.col(imp).mat[imp:]), key=lambda x: abs(x[1][0]))[0]\n",
    "        A.swap_rows(imp, imp+m, verbose)\n",
    "\n",
    "    A.divide(imp, A.mat[imp][imp], verbose)\n",
    "\n",
    "    for i in range(A.shape[0]):\n",
    "        if imp != i:\n",
    "            A.subtract(i, imp, A.mat[i][imp], verbose)"
   ]
  },
  {
   "cell_type": "code",
   "execution_count": 3,
   "metadata": {},
   "outputs": [
    {
     "name": "stdout",
     "output_type": "stream",
     "text": [
      "A[:,-1] = |-1\t|\n",
      "          |2\t|\n",
      "          |1\t|\n",
      "          |3\t|\n",
      "\n"
     ]
    }
   ],
   "source": [
    "print(A.col(-1))"
   ]
  }
 ],
 "metadata": {
  "kernelspec": {
   "display_name": "Python 3.9.13 64-bit",
   "language": "python",
   "name": "python3"
  },
  "language_info": {
   "codemirror_mode": {
    "name": "ipython",
    "version": 3
   },
   "file_extension": ".py",
   "mimetype": "text/x-python",
   "name": "python",
   "nbconvert_exporter": "python",
   "pygments_lexer": "ipython3",
   "version": "3.9.13"
  },
  "vscode": {
   "interpreter": {
    "hash": "8e284ee3255a07ad8bf76694974743c4c81cb57e7c969474d752d949b11d721e"
   }
  }
 },
 "nbformat": 4,
 "nbformat_minor": 2
}
