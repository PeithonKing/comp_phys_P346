{
 "cells": [
  {
   "cell_type": "code",
   "execution_count": null,
   "metadata": {},
   "outputs": [],
   "source": [
    "# Importing necessary libraries\n",
    "import matplotlib.pyplot as plt\n",
    "import numpy as np\n",
    "from library.DIY import *\n",
    "from tqdm import tqdm"
   ]
  },
  {
   "cell_type": "markdown",
   "metadata": {},
   "source": [
    "# Grayscale image reduction comparison"
   ]
  },
  {
   "cell_type": "code",
   "execution_count": null,
   "metadata": {},
   "outputs": [],
   "source": [
    "pic = \"monkey\"  # square\n",
    "# pic = \"lion\"  # rectangle\n",
    "\n",
    "print(\"creating image object\")\n",
    "img = GrayscaleImageSVD(f\"static/{pic}.jpg\")\n",
    "\n",
    "print(\"reducing image\")\n",
    "A = []\n",
    "comp = []\n",
    "errors = []\n",
    "terms = [1, 5, 10, 20, 50, 100, 200, 500]\n",
    "places = 2\n",
    "for n_terms in terms:\n",
    "    A2, ratio, error = img.reduce(terms = n_terms)\n",
    "    comp.append(round(ratio, places))\n",
    "    errors.append(round(error, places))\n",
    "    A.append(A2)\n",
    "\n",
    "fig = plt.figure(dpi = 500)\n",
    "gs = fig.add_gridspec(\n",
    "\t2,\n",
    "\t4,\n",
    "\twspace=0.05,\n",
    "\thspace=-0.3  # hspace=0.2 for lion and -0.3 for monkey\n",
    ")\n",
    "\n",
    "axs = gs.subplots(sharex=True, sharey=True)\n",
    "\n",
    "for i in range(8):\n",
    "    axs.flat[i].imshow(A[i], cmap='gray')\n",
    "    axs.flat[i].axis(\"off\")\n",
    "    axs.flat[i].set_title(f\"{terms[i]} terms, size = {comp[i]}%\\nof original image\", fontsize = 5)\n",
    "\n",
    "plt.savefig(f\"static/{pic}_evolution.png\", bbox_inches='tight')\n",
    "plt.show()"
   ]
  },
  {
   "cell_type": "markdown",
   "metadata": {},
   "source": [
    "# Color image reduction comparison"
   ]
  },
  {
   "cell_type": "code",
   "execution_count": null,
   "metadata": {},
   "outputs": [],
   "source": [
    "pic = \"crab\"\n",
    "\n",
    "print(\"creating image object\")\n",
    "img = ColourImageSVD(f\"static/{pic}.jpg\")\n",
    "\n",
    "print(\"reducing image\")\n",
    "A = []\n",
    "comp = []\n",
    "errors = []\n",
    "terms = [1, 5, 10, 20, 50, 100, 200, 500]\n",
    "places = 2\n",
    "for n_terms in terms:\n",
    "    A2, ratio, error = img.reduce(terms = n_terms)\n",
    "    comp.append(round(ratio, places))\n",
    "    errors.append(round(error, places))\n",
    "    A.append(A2)\n",
    "\n",
    "fig = plt.figure(dpi = 500)\n",
    "gs = fig.add_gridspec(2, 4, wspace=0.05, hspace=-0.55)\n",
    "axs = gs.subplots(sharex=True, sharey=True)\n",
    "\n",
    "for i in range(8):\n",
    "    axs.flat[i].imshow(A[i], cmap='gray')\n",
    "    axs.flat[i].axis(\"off\")\n",
    "    axs.flat[i].set_title(f\"{terms[i]} terms, size = {comp[i]}%\\nof original image\", fontsize = 5)\n",
    "\n",
    "plt.savefig(f\"static/{pic}_evolution.png\", bbox_inches='tight')\n",
    "plt.show()"
   ]
  },
  {
   "cell_type": "markdown",
   "metadata": {},
   "source": [
    "# Calculating Error"
   ]
  },
  {
   "cell_type": "code",
   "execution_count": null,
   "metadata": {},
   "outputs": [],
   "source": [
    "pic = \"monkey\"  # square\n",
    "# pic = \"lion\"  # rectangle\n",
    "\n",
    "print(\"creating image object\")\n",
    "img = GrayscaleImageSVD(f\"static/{pic}.jpg\")\n",
    "\n",
    "print(\"reducing image\")\n",
    "errors = []\n",
    "terms = np.arange(0, 600)\n",
    "for n_terms in tqdm(terms):\n",
    "    A2, ratio, error = img.reduce(terms = n_terms)\n",
    "    errors.append(error)"
   ]
  },
  {
   "cell_type": "code",
   "execution_count": null,
   "metadata": {},
   "outputs": [],
   "source": [
    "plt.plot(terms, errors)\n",
    "plt.xlabel(\"Number of terms\")\n",
    "plt.ylabel(r\"% RMS Error\")"
   ]
  },
  {
   "cell_type": "code",
   "execution_count": null,
   "metadata": {},
   "outputs": [],
   "source": [
    "pic = \"crab\"\n",
    "\n",
    "print(\"creating image object\")\n",
    "img = ColourImageSVD(f\"static/{pic}.jpg\")\n",
    "\n",
    "print(\"reducing image\")\n",
    "errors = []\n",
    "terms = np.arange(0, 630)\n",
    "for n_terms in tqdm(terms):\n",
    "    A2, ratio, error = img.reduce(terms = n_terms)\n",
    "    errors.append(error)"
   ]
  },
  {
   "cell_type": "code",
   "execution_count": null,
   "metadata": {},
   "outputs": [],
   "source": [
    "plt.plot(terms, errors)\n",
    "plt.xlabel(\"Number of terms\")\n",
    "plt.ylabel(r\"% RMS Error\")"
   ]
  }
 ],
 "metadata": {
  "kernelspec": {
   "display_name": "Python 3 (ipykernel)",
   "language": "python",
   "name": "python3"
  },
  "language_info": {
   "codemirror_mode": {
    "name": "ipython",
    "version": 3
   },
   "file_extension": ".py",
   "mimetype": "text/x-python",
   "name": "python",
   "nbconvert_exporter": "python",
   "pygments_lexer": "ipython3",
   "version": "3.9.13"
  },
  "vscode": {
   "interpreter": {
    "hash": "95b59b4b0e72d3e94105c3ab4f1a1e6e746e4c2a7c235241251baf92fb36381f"
   }
  }
 },
 "nbformat": 4,
 "nbformat_minor": 2
}
