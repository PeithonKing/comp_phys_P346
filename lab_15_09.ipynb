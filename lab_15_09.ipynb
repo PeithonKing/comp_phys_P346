{
 "cells": [
  {
   "cell_type": "markdown",
   "metadata": {},
   "source": [
    "# Interpolation\n",
    "\n",
    "### Data 1:\n",
    "```python\n",
    "x = [2, 3, 5, 8, 12]\n",
    "y = [10, 15, 25, 40, 60]\n",
    "```\n",
    "\n",
    "### Data 2:\n",
    "```python\n",
    "x = [0, 10, 20, 30]\n",
    "y = [-250, 0, 50, -100]\n",
    "```"
   ]
  },
  {
   "cell_type": "code",
   "execution_count": 3,
   "metadata": {},
   "outputs": [],
   "source": [
    "def multiply_poly(polynomials):\n",
    "    if len(polynomials) == 1:\n",
    "        return polynomials[0]\n",
    "    elif len(polynomials) == 2:\n",
    "        m = len(polynomials[0])\n",
    "        n = len(polynomials[1])\n",
    "        prod = [0] * (m + n - 1);\n",
    "        for i in range(m):\n",
    "            for j in range(n):\n",
    "                prod[i + j] += polynomials[0][i] * polynomials[1][j];\n",
    "        return prod\n",
    "    else:\n",
    "        return multiply_poly([polynomials[0], multiply_poly(polynomials[1:])])\n",
    "\n",
    "def divide_scalar(polynomial, scalar):\n",
    "    return [x / scalar for x in polynomial]"
   ]
  },
  {
   "cell_type": "code",
   "execution_count": 4,
   "metadata": {},
   "outputs": [
    {
     "data": {
      "text/plain": [
       "[-6000.0, 100.0, -5.454545454545454, 1.0]"
      ]
     },
     "execution_count": 4,
     "metadata": {},
     "output_type": "execute_result"
    }
   ],
   "source": [
    "a = [1, -10]\n",
    "b = [1, -20]\n",
    "c = [1, -30]\n",
    "[-6000/j for j in multiply([a, b, c])]"
   ]
  },
  {
   "cell_type": "code",
   "execution_count": null,
   "metadata": {},
   "outputs": [],
   "source": [
    "def product(polynomials, d):\n",
    "    a = polynomials[0]\n",
    "    for polynomial in polynomials:\n",
    "        a = a.multiply(polynomial)\n",
    "    polynomials.data[0]"
   ]
  },
  {
   "cell_type": "code",
   "execution_count": null,
   "metadata": {},
   "outputs": [],
   "source": [
    "sum()"
   ]
  }
 ],
 "metadata": {
  "kernelspec": {
   "display_name": "Python 3.9.13 64-bit (microsoft store)",
   "language": "python",
   "name": "python3"
  },
  "language_info": {
   "codemirror_mode": {
    "name": "ipython",
    "version": 3
   },
   "file_extension": ".py",
   "mimetype": "text/x-python",
   "name": "python",
   "nbconvert_exporter": "python",
   "pygments_lexer": "ipython3",
   "version": "3.9.13"
  },
  "orig_nbformat": 4,
  "vscode": {
   "interpreter": {
    "hash": "95b59b4b0e72d3e94105c3ab4f1a1e6e746e4c2a7c235241251baf92fb36381f"
   }
  }
 },
 "nbformat": 4,
 "nbformat_minor": 2
}
