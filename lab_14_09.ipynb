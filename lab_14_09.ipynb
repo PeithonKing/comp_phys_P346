{
 "cells": [
  {
   "cell_type": "code",
   "execution_count": 1,
   "metadata": {},
   "outputs": [],
   "source": [
    "# x**4 - x**3 - 7*x**2 + x + 6  # 3, -5/3, 1/2"
   ]
  },
  {
   "cell_type": "code",
   "execution_count": 2,
   "metadata": {},
   "outputs": [],
   "source": [
    "def P(x, coeff):\n",
    "    return sum([c*x**(len(coeff)-i-1) for i, c in enumerate(coeff)])"
   ]
  },
  {
   "cell_type": "code",
   "execution_count": 3,
   "metadata": {},
   "outputs": [],
   "source": [
    "def dP(x, coeff):\n",
    "    coeff.pop()\n",
    "    dcoeff = [coeff[i] * i for i in range(len(coeff))]\n",
    "    return P(x, dcoeff)"
   ]
  },
  {
   "cell_type": "code",
   "execution_count": 4,
   "metadata": {},
   "outputs": [],
   "source": [
    "def d2P(x, coeff):\n",
    "    coeff.pop()\n",
    "    dcoeff = [coeff[i] * i for i in range(len(coeff))]\n",
    "    dcoeff.pop()\n",
    "    d2coeff = [dcoeff[i] * i for i in range(len(dcoeff))]\n",
    "    return P(x, d2coeff)"
   ]
  },
  {
   "cell_type": "code",
   "execution_count": 5,
   "metadata": {},
   "outputs": [
    {
     "data": {
      "text/plain": [
       "372.8990999999999"
      ]
     },
     "execution_count": 5,
     "metadata": {},
     "output_type": "execute_result"
    }
   ],
   "source": [
    "P(5.1, [1, -1, -7, 1, 6])"
   ]
  },
  {
   "cell_type": "code",
   "execution_count": 6,
   "metadata": {},
   "outputs": [],
   "source": [
    "def deflation(coeff, a):  # coeff = [-1, 3, 0, -4]\n",
    "    l = [coeff[0]]\n",
    "    i = 1\n",
    "    for i in range(len(coeff)-1):\n",
    "        l.append(coeff[i+1] + a*l[-1])\n",
    "    return l[:-1]"
   ]
  },
  {
   "cell_type": "code",
   "execution_count": 7,
   "metadata": {},
   "outputs": [
    {
     "data": {
      "text/plain": [
       "[-1, 1, 2]"
      ]
     },
     "execution_count": 7,
     "metadata": {},
     "output_type": "execute_result"
    }
   ],
   "source": [
    "deflation([-1, 3, 0, -4], 2)"
   ]
  },
  {
   "cell_type": "code",
   "execution_count": 8,
   "metadata": {},
   "outputs": [],
   "source": [
    "def laguerre(coeff):\n",
    "    epsilon = 1e-6\n",
    "    b = 0.1\n",
    "    for n in range(1000):\n",
    "        if not P(b, coeff):\n",
    "            return b\n",
    "        print(P(b, coeff))\n",
    "        G = dP(b, coeff)/P(b, coeff)\n",
    "        H = G**2 - d2P(b, coeff)/P(b, coeff)\n",
    "        d1 = len(coeff)-1\n",
    "        d2 = (len(coeff)*H)-G**2\n",
    "        D = (d1*d2)**0.5\n",
    "        if G*D>0:\n",
    "            a = len(coeff)/(G+D)\n",
    "        else:\n",
    "            a = len(coeff)/(G-D)\n",
    "        if a < epsilon:\n",
    "            return b\n",
    "        b = b - a"
   ]
  },
  {
   "cell_type": "code",
   "execution_count": 9,
   "metadata": {},
   "outputs": [
    {
     "name": "stdout",
     "output_type": "stream",
     "text": [
      "6.0291\n",
      "-6.909582608587668\n",
      "1.0\n"
     ]
    },
    {
     "ename": "ZeroDivisionError",
     "evalue": "division by zero",
     "output_type": "error",
     "traceback": [
      "\u001b[1;31m---------------------------------------------------------------------------\u001b[0m",
      "\u001b[1;31mZeroDivisionError\u001b[0m                         Traceback (most recent call last)",
      "\u001b[1;32mc:\\Users\\amukh\\Desktop\\P346\\working\\lab_14_09.ipynb Cell 9\u001b[0m in \u001b[0;36m<cell line: 3>\u001b[1;34m()\u001b[0m\n\u001b[0;32m      <a href='vscode-notebook-cell:/c%3A/Users/amukh/Desktop/P346/working/lab_14_09.ipynb#W4sZmlsZQ%3D%3D?line=1'>2</a>\u001b[0m coeff \u001b[39m=\u001b[39m [\u001b[39m1\u001b[39m, \u001b[39m-\u001b[39m\u001b[39m1\u001b[39m, \u001b[39m-\u001b[39m\u001b[39m7\u001b[39m, \u001b[39m1\u001b[39m, \u001b[39m6\u001b[39m]\n\u001b[0;32m      <a href='vscode-notebook-cell:/c%3A/Users/amukh/Desktop/P346/working/lab_14_09.ipynb#W4sZmlsZQ%3D%3D?line=2'>3</a>\u001b[0m \u001b[39mfor\u001b[39;00m i \u001b[39min\u001b[39;00m \u001b[39mrange\u001b[39m(\u001b[39m4\u001b[39m):\n\u001b[1;32m----> <a href='vscode-notebook-cell:/c%3A/Users/amukh/Desktop/P346/working/lab_14_09.ipynb#W4sZmlsZQ%3D%3D?line=3'>4</a>\u001b[0m     roots\u001b[39m.\u001b[39mappend(laguerre(coeff))\n\u001b[0;32m      <a href='vscode-notebook-cell:/c%3A/Users/amukh/Desktop/P346/working/lab_14_09.ipynb#W4sZmlsZQ%3D%3D?line=4'>5</a>\u001b[0m     coeff \u001b[39m=\u001b[39m deflation(coeff, roots[\u001b[39m-\u001b[39m\u001b[39m1\u001b[39m])\n",
      "\u001b[1;32mc:\\Users\\amukh\\Desktop\\P346\\working\\lab_14_09.ipynb Cell 9\u001b[0m in \u001b[0;36mlaguerre\u001b[1;34m(coeff)\u001b[0m\n\u001b[0;32m      <a href='vscode-notebook-cell:/c%3A/Users/amukh/Desktop/P346/working/lab_14_09.ipynb#W4sZmlsZQ%3D%3D?line=5'>6</a>\u001b[0m     \u001b[39mreturn\u001b[39;00m b\n\u001b[0;32m      <a href='vscode-notebook-cell:/c%3A/Users/amukh/Desktop/P346/working/lab_14_09.ipynb#W4sZmlsZQ%3D%3D?line=6'>7</a>\u001b[0m \u001b[39mprint\u001b[39m(P(b, coeff))\n\u001b[1;32m----> <a href='vscode-notebook-cell:/c%3A/Users/amukh/Desktop/P346/working/lab_14_09.ipynb#W4sZmlsZQ%3D%3D?line=7'>8</a>\u001b[0m G \u001b[39m=\u001b[39m dP(b, coeff)\u001b[39m/\u001b[39;49mP(b, coeff)\n\u001b[0;32m      <a href='vscode-notebook-cell:/c%3A/Users/amukh/Desktop/P346/working/lab_14_09.ipynb#W4sZmlsZQ%3D%3D?line=8'>9</a>\u001b[0m H \u001b[39m=\u001b[39m G\u001b[39m*\u001b[39m\u001b[39m*\u001b[39m\u001b[39m2\u001b[39m \u001b[39m-\u001b[39m d2P(b, coeff)\u001b[39m/\u001b[39mP(b, coeff)\n\u001b[0;32m     <a href='vscode-notebook-cell:/c%3A/Users/amukh/Desktop/P346/working/lab_14_09.ipynb#W4sZmlsZQ%3D%3D?line=9'>10</a>\u001b[0m d1 \u001b[39m=\u001b[39m \u001b[39mlen\u001b[39m(coeff)\u001b[39m-\u001b[39m\u001b[39m1\u001b[39m\n",
      "\u001b[1;31mZeroDivisionError\u001b[0m: division by zero"
     ]
    }
   ],
   "source": [
    "roots = []\n",
    "coeff = [1, -1, -7, 1, 6]\n",
    "for i in range(4):\n",
    "    roots.append(laguerre(coeff))\n",
    "    coeff = deflation(coeff, roots[-1])"
   ]
  }
 ],
 "metadata": {
  "kernelspec": {
   "display_name": "Python 3.9.13 64-bit (microsoft store)",
   "language": "python",
   "name": "python3"
  },
  "language_info": {
   "codemirror_mode": {
    "name": "ipython",
    "version": 3
   },
   "file_extension": ".py",
   "mimetype": "text/x-python",
   "name": "python",
   "nbconvert_exporter": "python",
   "pygments_lexer": "ipython3",
   "version": "3.9.13"
  },
  "orig_nbformat": 4,
  "vscode": {
   "interpreter": {
    "hash": "95b59b4b0e72d3e94105c3ab4f1a1e6e746e4c2a7c235241251baf92fb36381f"
   }
  }
 },
 "nbformat": 4,
 "nbformat_minor": 2
}
