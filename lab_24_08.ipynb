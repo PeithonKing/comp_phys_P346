{
 "cells": [
  {
   "cell_type": "code",
   "execution_count": 1,
   "metadata": {},
   "outputs": [],
   "source": [
    "from library.basic_arithmatic import Matrix"
   ]
  },
  {
   "cell_type": "code",
   "execution_count": 2,
   "metadata": {},
   "outputs": [],
   "source": [
    "# x - y + 2z = 6\n",
    "# -x + 2y - z = -5\n",
    "# 2x - y + 3y = 9"
   ]
  },
  {
   "cell_type": "code",
   "execution_count": 3,
   "metadata": {},
   "outputs": [
    {
     "name": "stdout",
     "output_type": "stream",
     "text": [
      "A = |3       -1      2      |\n",
      "    |-1      2       -1     |\n",
      "    |2       -1      4      |\n",
      " \n",
      " B = |8      |\n",
      "    |-5     |\n",
      "    |11     |\n",
      "\n"
     ]
    }
   ],
   "source": [
    "# Taking input from a file\n",
    "file_path = \"input_files/lab_24_08/mat.txt\"\n",
    "with open(file_path) as f:\n",
    "    a = [x.strip() for x in f.read().split(\"\\n\\n\") if len(x)]\n",
    "    matrices = {a[_].split(\"\\n\")[0]: Matrix(\n",
    "            mat = [\n",
    "                [\n",
    "                    int(j) if int(float(j))==float(j)\n",
    "                    else float(j)\n",
    "                        for j in i.split(\"\\t\")\n",
    "                ] for i in a[_].split(\"\\n\")[1:]\n",
    "            ], name = a[_].split(\"\\n\")[0]\n",
    "        ) for _ in range(len(a))}\n",
    "\n",
    "A = matrices[\"A\"]\n",
    "B = matrices[\"B\"]\n",
    "print(A, \"\\n\", B)"
   ]
  },
  {
   "cell_type": "code",
   "execution_count": 4,
   "metadata": {},
   "outputs": [],
   "source": [
    "def forward_propagation(L, B):\n",
    "    L = L.mat\n",
    "    B = B.mat\n",
    "    y = []\n",
    "    for i in range(len(L)):\n",
    "        y.append([B[i][0]-sum([L[i][j]*y[j][0] for j in range(i)])])\n",
    "    return Matrix(y, \"y\")"
   ]
  },
  {
   "cell_type": "code",
   "execution_count": 5,
   "metadata": {},
   "outputs": [],
   "source": [
    "def backward_propagation(U, y):\n",
    "    U = U.mat\n",
    "    y = y.mat\n",
    "    x = []\n",
    "    for i in range(len(U)):\n",
    "        x.append(\n",
    "            [(y[i][0] - sum([U[i][j]*x[j][0] for j in range(i)]))/U[i][i]]\n",
    "        )\n",
    "    return Matrix(x, \"x\")"
   ]
  },
  {
   "cell_type": "code",
   "execution_count": 6,
   "metadata": {},
   "outputs": [
    {
     "name": "stdout",
     "output_type": "stream",
     "text": [
      "L = |1       0       0      |\n",
      "    |-0.577  1       0      |\n",
      "    |1.155   -0.258  1      |\n",
      "\n",
      "U = |1.732   -0.577  1.155  |\n",
      "    |0       1.291   -0.258 |\n",
      "    |0       0       1.612  |\n",
      "\n",
      "y = |8      |\n",
      "    |-0.381197846482993|\n",
      "    |1.663970832230068|\n",
      "\n",
      "x = |4.61880215351700|\n",
      "    |-0.295274582207752|\n",
      "    |1.031950902699204|\n",
      "\n"
     ]
    }
   ],
   "source": [
    "L, U = A.Cholesky_Decomposition()\n",
    "print(L)\n",
    "print(U)\n",
    "\n",
    "y = forward_propagation(L, B)\n",
    "x = backward_propagation(U, y)\n",
    "print(y)\n",
    "print(x)"
   ]
  },
  {
   "cell_type": "code",
   "execution_count": 7,
   "metadata": {},
   "outputs": [
    {
     "name": "stdout",
     "output_type": "stream",
     "text": [
      "x = |4.61880215351700|\n",
      "    |-0.295274582207752|\n",
      "    |1.031950902699204|\n",
      "\n"
     ]
    }
   ],
   "source": [
    "print(x)"
   ]
  },
  {
   "cell_type": "code",
   "execution_count": 8,
   "metadata": {},
   "outputs": [],
   "source": [
    "# MAX = 100\n",
    "\n",
    "\n",
    "# def luDecomposition(mat, n):\n",
    "\n",
    "#     lower = [[0 for x in range(n)]\n",
    "#             for y in range(n)]\n",
    "#     upper = [[0 for x in range(n)]\n",
    "#             for y in range(n)]\n",
    "\n",
    "#     # Decomposing matrix into Upper\n",
    "#     # and Lower triangular matrix\n",
    "#     for i in range(n):\n",
    "\n",
    "#         # Upper Triangular\n",
    "#         for k in range(i, n):\n",
    "\n",
    "#             # Summation of L(i, j) * U(j, k)\n",
    "#             sum = 0\n",
    "#             for j in range(i):\n",
    "#                 sum += (lower[i][j] * upper[j][k])\n",
    "\n",
    "#             # Evaluating U(i, k)\n",
    "#             upper[i][k] = mat[i][k] - sum\n",
    "\n",
    "#         # Lower Triangular\n",
    "#         for k in range(i, n):\n",
    "#             if (i == k):\n",
    "#                 lower[i][i] = 1 # Diagonal as 1\n",
    "#             else:\n",
    "\n",
    "#                 # Summation of L(k, j) * U(j, i)\n",
    "#                 sum = 0\n",
    "#                 for j in range(i):\n",
    "#                     sum += (lower[k][j] * upper[j][i])\n",
    "\n",
    "#                 # Evaluating L(k, i)\n",
    "#                 lower[k][i] = int((mat[k][i] - sum) /\n",
    "#                                 upper[i][i])\n",
    "\n",
    "#     # setw is for displaying nicely\n",
    "#     print(\"Lower Triangular\\t\\tUpper Triangular\")\n",
    "\n",
    "#     # Displaying the result :\n",
    "#     for i in range(n):\n",
    "\n",
    "#         # Lower\n",
    "#         for j in range(n):\n",
    "#             print(lower[i][j], end=\"\\t\")\n",
    "#         print(\"\", end=\"\\t\")\n",
    "\n",
    "#         # Upper\n",
    "#         for j in range(n):\n",
    "#             print(upper[i][j], end=\"\\t\")\n",
    "#         print(\"\")\n",
    "\n",
    "\n",
    "# # Driver code\n",
    "# mat = [[4, 12, -16],\n",
    "#      [12, 37, -43],\n",
    "#      [-16, -43, 98]]\n",
    "\n",
    "# luDecomposition(mat, 3)"
   ]
  },
  {
   "cell_type": "code",
   "execution_count": 9,
   "metadata": {},
   "outputs": [],
   "source": [
    "# def Cholesky_Decomposition(matrix):\n",
    "    \n",
    "#     matrix = matrix.mat\n",
    "#     n = matrix.shape[0]\n",
    "\n",
    "#     lower = [[0 for x in range(n + 1)]\n",
    "#                 for y in range(n + 1)]\n",
    "\n",
    "#     for i in range(n):\n",
    "#         for j in range(i + 1):\n",
    "#             sum1 = 0\n",
    "\n",
    "#             if (j == i):\n",
    "#                 for k in range(j):\n",
    "#                     sum1 += lower[j][k]**2\n",
    "#                 lower[j][j] = (matrix[j][j] - sum1)**0.5\n",
    "#             else:\n",
    "#                 for k in range(j):\n",
    "#                     sum1 += (lower[i][k] *lower[j][k])\n",
    "#                 if(lower[j][j] > 0):\n",
    "#                     lower[i][j] = (matrix[i][j] - sum1) / lower[j][j]\n",
    "#     return Matrix(lower, \"L\"), Matrix(lower, \"U\").T()\n",
    "\n",
    "# matrix = Matrix(\n",
    "#     [[4, 12, -16],\n",
    "#     [12, 37, -43],\n",
    "#     [-16, -43, 98]], \"matrix\")\n",
    "    \n",
    "\n",
    "# print(Cholesky_Decomposition(matrix))"
   ]
  },
  {
   "cell_type": "code",
   "execution_count": 10,
   "metadata": {},
   "outputs": [],
   "source": [
    "# n = 5\n",
    "\n",
    "# def gets():\n",
    "#     global n\n",
    "#     n += 1\n",
    "#     print(n)\n",
    "\n",
    "# gets()\n",
    "# print(n)"
   ]
  }
 ],
 "metadata": {
  "kernelspec": {
   "display_name": "Python 3.9.13 64-bit (windows store)",
   "language": "python",
   "name": "python3"
  },
  "language_info": {
   "codemirror_mode": {
    "name": "ipython",
    "version": 3
   },
   "file_extension": ".py",
   "mimetype": "text/x-python",
   "name": "python",
   "nbconvert_exporter": "python",
   "pygments_lexer": "ipython3",
   "version": "3.9.13"
  },
  "orig_nbformat": 4,
  "vscode": {
   "interpreter": {
    "hash": "95b59b4b0e72d3e94105c3ab4f1a1e6e746e4c2a7c235241251baf92fb36381f"
   }
  }
 },
 "nbformat": 4,
 "nbformat_minor": 2
}
