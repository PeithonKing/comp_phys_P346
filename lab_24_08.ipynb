{
 "cells": [
  {
   "cell_type": "code",
   "execution_count": 13,
   "metadata": {},
   "outputs": [],
   "source": [
    "from library.matrix import Matrix\n",
    "from library.linear_equations import forward_propagation, backward_propagation, Cholesky_Decomposition"
   ]
  },
  {
   "cell_type": "code",
   "execution_count": 14,
   "metadata": {},
   "outputs": [],
   "source": [
    "# x - y + 2z = 6\n",
    "# -x + 2y - z = -5\n",
    "# 2x - y + 3y = 9"
   ]
  },
  {
   "cell_type": "code",
   "execution_count": 15,
   "metadata": {},
   "outputs": [],
   "source": [
    "A = Matrix(\n",
    "    [\n",
    "        [1, -1, 2],\n",
    "        [-1, 2, -1],\n",
    "        [2, -1, 3],\n",
    "    ], \"A\", 3\n",
    ")\n",
    "\n",
    "B = Matrix(\n",
    "    [[6], [-5], [9]], \"B\", 3\n",
    ")"
   ]
  },
  {
   "cell_type": "code",
   "execution_count": 16,
   "metadata": {},
   "outputs": [],
   "source": [
    "def forward_propagation(L, B):\n",
    "    L = L.mat\n",
    "    B = B.mat\n",
    "    y = []\n",
    "    for i in range(len(L)):\n",
    "        y.append([B[i][0] - sum([L[i][j]*y[j][0] for j in range(i)])])\n",
    "    return Matrix(y, \"y\")"
   ]
  },
  {
   "cell_type": "code",
   "execution_count": 17,
   "metadata": {},
   "outputs": [],
   "source": [
    "def backward_propagation(U, y):\n",
    "    U = U.mat\n",
    "    y = y.mat\n",
    "    x = []\n",
    "    for i in range(len(U)):\n",
    "        x.append([(y[i][0] - sum([U[i][j]*x[j][0] for j in range(i)]))/U[i][i]])\n",
    "    return Matrix(x, \"x\")"
   ]
  },
  {
   "cell_type": "code",
   "execution_count": 18,
   "metadata": {},
   "outputs": [
    {
     "name": "stdout",
     "output_type": "stream",
     "text": [
      "L = |1       0       0      |\n",
      "    |-1      1       0      |\n",
      "    |2       1       1      |\n",
      "\n",
      "[[1.0, -1.0, 2.0], [0, 1.0, 1.0], [0, 0, (8.659560562354934e-17+1.4142135623730951j)]]\n",
      "y = |6      |\n",
      "    |1      |\n",
      "    |-4     |\n",
      "\n"
     ]
    },
    {
     "ename": "TypeError",
     "evalue": "can't mod complex numbers.",
     "output_type": "error",
     "traceback": [
      "\u001b[1;31m---------------------------------------------------------------------------\u001b[0m",
      "\u001b[1;31mTypeError\u001b[0m                                 Traceback (most recent call last)",
      "Cell \u001b[1;32mIn [18], line 8\u001b[0m\n\u001b[0;32m      6\u001b[0m x \u001b[38;5;241m=\u001b[39m backward_propagation(U, y)\n\u001b[0;32m      7\u001b[0m \u001b[38;5;28mprint\u001b[39m(y)\n\u001b[1;32m----> 8\u001b[0m \u001b[38;5;28;43mprint\u001b[39;49m\u001b[43m(\u001b[49m\u001b[43mx\u001b[49m\u001b[43m)\u001b[49m\n",
      "File \u001b[1;32mc:\\Users\\amukh\\OneDrive\\Desktop\\P346\\working\\library\\matrix.py:42\u001b[0m, in \u001b[0;36mMatrix.__str__\u001b[1;34m(self, precision)\u001b[0m\n\u001b[0;32m     40\u001b[0m \u001b[39mfor\u001b[39;00m row \u001b[39min\u001b[39;00m \u001b[39mself\u001b[39m\u001b[39m.\u001b[39mmat:\n\u001b[0;32m     41\u001b[0m     \u001b[39mfor\u001b[39;00m element \u001b[39min\u001b[39;00m row:\n\u001b[1;32m---> 42\u001b[0m         \u001b[39mif\u001b[39;00m element \u001b[39m%\u001b[39;49m \u001b[39m1\u001b[39;49m \u001b[39m==\u001b[39m \u001b[39m0\u001b[39m:\n\u001b[0;32m     43\u001b[0m             element \u001b[39m=\u001b[39m \u001b[39mint\u001b[39m(element)\n\u001b[0;32m     44\u001b[0m         j \u001b[39m=\u001b[39m \u001b[39mround\u001b[39m(element, precision)\n",
      "\u001b[1;31mTypeError\u001b[0m: can't mod complex numbers."
     ]
    }
   ],
   "source": [
    "L, U = Cholesky_Decomposition(A)\n",
    "print(L)\n",
    "print(U.mat)\n",
    "\n",
    "y = forward_propagation(L, B)\n",
    "x = backward_propagation(U, y)\n",
    "print(y)\n",
    "print(x)"
   ]
  },
  {
   "cell_type": "code",
   "execution_count": null,
   "metadata": {},
   "outputs": [],
   "source": [
    "print(x)"
   ]
  }
 ],
 "metadata": {
  "kernelspec": {
   "display_name": "Python 3.9.13 64-bit (windows store)",
   "language": "python",
   "name": "python3"
  },
  "language_info": {
   "codemirror_mode": {
    "name": "ipython",
    "version": 3
   },
   "file_extension": ".py",
   "mimetype": "text/x-python",
   "name": "python",
   "nbconvert_exporter": "python",
   "pygments_lexer": "ipython3",
   "version": "3.9.13"
  },
  "orig_nbformat": 4,
  "vscode": {
   "interpreter": {
    "hash": "95b59b4b0e72d3e94105c3ab4f1a1e6e746e4c2a7c235241251baf92fb36381f"
   }
  }
 },
 "nbformat": 4,
 "nbformat_minor": 2
}
