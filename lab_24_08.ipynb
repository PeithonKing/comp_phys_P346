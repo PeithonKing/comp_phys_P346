{
 "cells": [
  {
   "cell_type": "code",
   "execution_count": 1,
   "metadata": {},
   "outputs": [],
   "source": [
    "from library.matrix import Matrix\n",
    "from library.linear_equations import forward_propagation, backward_propagation, Cholesky_Decomposition"
   ]
  },
  {
   "cell_type": "code",
   "execution_count": 2,
   "metadata": {},
   "outputs": [],
   "source": [
    "# x - y + 2z = 6\n",
    "# -x + 2y - z = -5\n",
    "# 2x - y + 3y = 9"
   ]
  },
  {
   "cell_type": "code",
   "execution_count": 3,
   "metadata": {},
   "outputs": [],
   "source": [
    "A = Matrix(\n",
    "    [\n",
    "        [1, -1, 2],\n",
    "        [-1, 2, -1],\n",
    "        [2, -1, 3],\n",
    "    ], \"A\", 3\n",
    ")\n",
    "\n",
    "B = Matrix(\n",
    "    [[6], [-5], [9]], \"B\", 3\n",
    ")"
   ]
  },
  {
   "cell_type": "code",
   "execution_count": 4,
   "metadata": {},
   "outputs": [],
   "source": [
    "def forward_propagation(L, B):\n",
    "    L = L.mat\n",
    "    B = B.mat\n",
    "    y = []\n",
    "    for i in range(len(L)):\n",
    "        y.append([B[i][0] - sum([L[i][j]*y[j][0] for j in range(i)])])\n",
    "    return Matrix(y, \"y\")"
   ]
  },
  {
   "cell_type": "code",
   "execution_count": 5,
   "metadata": {},
   "outputs": [],
   "source": [
    "def backward_propagation(U, y):\n",
    "    U = U.mat\n",
    "    y = y.mat\n",
    "    x = []\n",
    "    for i in range(len(U)):\n",
    "        x.append([(y[i][0] - sum([U[i][j]*x[j][0] for j in range(i)]))/U[i][i]])\n",
    "    return Matrix(x, \"x\")"
   ]
  },
  {
   "cell_type": "code",
   "execution_count": 6,
   "metadata": {},
   "outputs": [
    {
     "ename": "TypeError",
     "evalue": "Value must be a matrix or a list/tuple of lists/tuples. FYI: <class 'complex'>",
     "output_type": "error",
     "traceback": [
      "\u001b[1;31m---------------------------------------------------------------------------\u001b[0m",
      "\u001b[1;31mTypeError\u001b[0m                                 Traceback (most recent call last)",
      "Cell \u001b[1;32mIn[6], line 1\u001b[0m\n\u001b[1;32m----> 1\u001b[0m L, U \u001b[38;5;241m=\u001b[39m \u001b[43mCholesky_Decomposition\u001b[49m\u001b[43m(\u001b[49m\u001b[43mA\u001b[49m\u001b[43m)\u001b[49m\n\u001b[0;32m      2\u001b[0m \u001b[38;5;28mprint\u001b[39m(L)\n\u001b[0;32m      3\u001b[0m \u001b[38;5;28mprint\u001b[39m(U\u001b[38;5;241m.\u001b[39mmat)\n",
      "File \u001b[1;32m~\\OneDrive\\Desktop\\P346\\working\\library\\linear_equations.py:189\u001b[0m, in \u001b[0;36mCholesky_Decomposition\u001b[1;34m(A)\u001b[0m\n\u001b[0;32m    187\u001b[0m \u001b[38;5;28;01mfor\u001b[39;00m j \u001b[38;5;129;01min\u001b[39;00m \u001b[38;5;28mrange\u001b[39m(A\u001b[38;5;241m.\u001b[39mshape[\u001b[38;5;241m1\u001b[39m]):\n\u001b[0;32m    188\u001b[0m     \u001b[38;5;28;01mif\u001b[39;00m i \u001b[38;5;241m==\u001b[39m j:\n\u001b[1;32m--> 189\u001b[0m         \u001b[43mL\u001b[49m\u001b[43m[\u001b[49m\u001b[43mi\u001b[49m\u001b[43m,\u001b[49m\u001b[43m \u001b[49m\u001b[43mi\u001b[49m\u001b[43m]\u001b[49m \u001b[38;5;241m=\u001b[39m (A[i, i] \u001b[38;5;241m-\u001b[39m L[i,:i] \u001b[38;5;241m@\u001b[39m L[i, :i]\u001b[38;5;241m.\u001b[39mT())\u001b[38;5;241m.\u001b[39mmat[\u001b[38;5;241m0\u001b[39m][\u001b[38;5;241m0\u001b[39m]\u001b[38;5;241m*\u001b[39m\u001b[38;5;241m*\u001b[39m\u001b[38;5;241m0.5\u001b[39m\n\u001b[0;32m    190\u001b[0m     \u001b[38;5;28;01melif\u001b[39;00m i \u001b[38;5;241m>\u001b[39m j:\n\u001b[0;32m    191\u001b[0m         L[i, j] \u001b[38;5;241m=\u001b[39m (A[i, j] \u001b[38;5;241m-\u001b[39m L[i,:i] \u001b[38;5;241m@\u001b[39m L[j, :i]\u001b[38;5;241m.\u001b[39mT()) \u001b[38;5;241m/\u001b[39m L\u001b[38;5;241m.\u001b[39mmat[j][j]\n",
      "File \u001b[1;32m~\\OneDrive\\Desktop\\P346\\working\\library\\matrix.py:428\u001b[0m, in \u001b[0;36mMatrix.__setitem__\u001b[1;34m(self, key, value)\u001b[0m\n\u001b[0;32m    426\u001b[0m         \u001b[38;5;28;01mreturn\u001b[39;00m\n\u001b[0;32m    427\u001b[0m     \u001b[38;5;28;01melse\u001b[39;00m:\n\u001b[1;32m--> 428\u001b[0m         \u001b[38;5;28;01mraise\u001b[39;00m \u001b[38;5;167;01mTypeError\u001b[39;00m(\n\u001b[0;32m    429\u001b[0m             \u001b[38;5;124mf\u001b[39m\u001b[38;5;124m\"\u001b[39m\u001b[38;5;124mValue must be a matrix or a list/tuple of lists/tuples. FYI: \u001b[39m\u001b[38;5;132;01m{\u001b[39;00m\u001b[38;5;28mtype\u001b[39m(value)\u001b[38;5;132;01m}\u001b[39;00m\u001b[38;5;124m\"\u001b[39m)\n\u001b[0;32m    430\u001b[0m \u001b[38;5;28;01mif\u001b[39;00m \u001b[38;5;28mself\u001b[39m\u001b[38;5;241m.\u001b[39m\u001b[38;5;21m__getitem__\u001b[39m(key)\u001b[38;5;241m.\u001b[39mshape \u001b[38;5;241m!=\u001b[39m value\u001b[38;5;241m.\u001b[39mshape:\n\u001b[0;32m    431\u001b[0m     \u001b[38;5;28mprint\u001b[39m(\u001b[38;5;28mself\u001b[39m\u001b[38;5;241m.\u001b[39m\u001b[38;5;21m__getitem__\u001b[39m(key)\u001b[38;5;241m.\u001b[39mshape, value\u001b[38;5;241m.\u001b[39mshape)\n",
      "\u001b[1;31mTypeError\u001b[0m: Value must be a matrix or a list/tuple of lists/tuples. FYI: <class 'complex'>"
     ]
    }
   ],
   "source": [
    "L, U = Cholesky_Decomposition(A)\n",
    "print(L)\n",
    "print(U.mat)\n",
    "\n",
    "y = forward_propagation(L, B)\n",
    "x = backward_propagation(U, y)\n",
    "print(y)\n",
    "print(x)"
   ]
  },
  {
   "cell_type": "code",
   "execution_count": null,
   "metadata": {},
   "outputs": [],
   "source": [
    "print(x)"
   ]
  }
 ],
 "metadata": {
  "kernelspec": {
   "display_name": "Python 3 (ipykernel)",
   "language": "python",
   "name": "python3"
  },
  "language_info": {
   "codemirror_mode": {
    "name": "ipython",
    "version": 3
   },
   "file_extension": ".py",
   "mimetype": "text/x-python",
   "name": "python",
   "nbconvert_exporter": "python",
   "pygments_lexer": "ipython3",
   "version": "3.9.13"
  },
  "vscode": {
   "interpreter": {
    "hash": "95b59b4b0e72d3e94105c3ab4f1a1e6e746e4c2a7c235241251baf92fb36381f"
   }
  }
 },
 "nbformat": 4,
 "nbformat_minor": 2
}
