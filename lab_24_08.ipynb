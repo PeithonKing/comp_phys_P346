{
 "cells": [
  {
   "cell_type": "code",
   "execution_count": 1,
   "metadata": {},
   "outputs": [],
   "source": [
    "from library.basic_arithmatic import Matrix"
   ]
  },
  {
   "cell_type": "code",
   "execution_count": 2,
   "metadata": {},
   "outputs": [],
   "source": [
    "# x - y + 2z = 6\n",
    "# -x + 2y - z = -5\n",
    "# 2x - y + 3y = 9"
   ]
  },
  {
   "cell_type": "code",
   "execution_count": 3,
   "metadata": {},
   "outputs": [
    {
     "name": "stdout",
     "output_type": "stream",
     "text": [
      "A = |3       -1      2      |\n",
      "    |-1      2       -1     |\n",
      "    |2       -1      4      |\n",
      " \n",
      " B = |8      |\n",
      "    |-5     |\n",
      "    |11     |\n",
      "\n"
     ]
    }
   ],
   "source": [
    "# Taking input from a file\n",
    "file_path = \"input_files/lab_24_08/mat.txt\"\n",
    "with open(file_path) as f:\n",
    "    a = [x.strip() for x in f.read().split(\"\\n\\n\") if len(x)]\n",
    "    matrices = {a[_].split(\"\\n\")[0]: Matrix(\n",
    "            mat = [\n",
    "                [\n",
    "                    int(j) if int(float(j))==float(j)\n",
    "                    else float(j)\n",
    "                        for j in i.split(\"\\t\")\n",
    "                ] for i in a[_].split(\"\\n\")[1:]\n",
    "            ], name = a[_].split(\"\\n\")[0]\n",
    "        ) for _ in range(len(a))}\n",
    "\n",
    "A = matrices[\"A\"]\n",
    "B = matrices[\"B\"]\n",
    "print(A, \"\\n\", B)"
   ]
  },
  {
   "cell_type": "code",
   "execution_count": 4,
   "metadata": {},
   "outputs": [],
   "source": [
    "def forward_propagation(L, B):\n",
    "    L = L.mat\n",
    "    B = B.mat\n",
    "    y = []\n",
    "    for i in range(len(L)):\n",
    "        y.append([B[i][0] - sum([L[i][j]*y[j][0] for j in range(i)])])\n",
    "    return Matrix(y, \"y\")"
   ]
  },
  {
   "cell_type": "code",
   "execution_count": 5,
   "metadata": {},
   "outputs": [],
   "source": [
    "def backward_propagation(U, y):\n",
    "    U = U.mat\n",
    "    y = y.mat\n",
    "    x = []\n",
    "    for i in range(len(U)):\n",
    "        x.append([(y[i][0] - sum([U[i][j]*x[j][0] for j in range(i)]))/U[i][i]])\n",
    "    return Matrix(x, \"x\")"
   ]
  },
  {
   "cell_type": "code",
   "execution_count": 6,
   "metadata": {},
   "outputs": [
    {
     "name": "stdout",
     "output_type": "stream",
     "text": [
      "L = |1       0       0      |\n",
      "    |-0.577  1       0      |\n",
      "    |1.155   -0.258  1      |\n",
      "\n",
      "U = |1.732   -0.577  1.155  |\n",
      "    |0       1.291   -0.258 |\n",
      "    |0       0       1.612  |\n",
      "\n",
      "y = |8      |\n",
      "    |-0.381197846482993|\n",
      "    |1.663970832230068|\n",
      "\n",
      "x = |4.61880215351700|\n",
      "    |-0.295274582207752|\n",
      "    |1.031950902699204|\n",
      "\n"
     ]
    }
   ],
   "source": [
    "L, U = A.Cholesky_Decomposition()\n",
    "print(L)\n",
    "print(U)\n",
    "\n",
    "y = forward_propagation(L, B)\n",
    "x = backward_propagation(U, y)\n",
    "print(y)\n",
    "print(x)"
   ]
  },
  {
   "cell_type": "code",
   "execution_count": 7,
   "metadata": {},
   "outputs": [
    {
     "name": "stdout",
     "output_type": "stream",
     "text": [
      "x = |4.61880215351700|\n",
      "    |-0.295274582207752|\n",
      "    |1.031950902699204|\n",
      "\n"
     ]
    }
   ],
   "source": [
    "print(x)"
   ]
  }
 ],
 "metadata": {
  "kernelspec": {
   "display_name": "Python 3.9.13 64-bit (windows store)",
   "language": "python",
   "name": "python3"
  },
  "language_info": {
   "codemirror_mode": {
    "name": "ipython",
    "version": 3
   },
   "file_extension": ".py",
   "mimetype": "text/x-python",
   "name": "python",
   "nbconvert_exporter": "python",
   "pygments_lexer": "ipython3",
   "version": "3.9.13"
  },
  "orig_nbformat": 4,
  "vscode": {
   "interpreter": {
    "hash": "95b59b4b0e72d3e94105c3ab4f1a1e6e746e4c2a7c235241251baf92fb36381f"
   }
  }
 },
 "nbformat": 4,
 "nbformat_minor": 2
}
