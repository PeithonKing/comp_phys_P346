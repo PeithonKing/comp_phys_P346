{
 "cells": [
  {
   "cell_type": "code",
   "execution_count": 1,
   "metadata": {},
   "outputs": [],
   "source": [
    "from library.matrix import Matrix, zeros\n",
    "from library.linear_equations import forward_propagation, backward_propagation, LU_Decomposition, make_diag_dominant, gauss_seidel"
   ]
  },
  {
   "cell_type": "code",
   "execution_count": 2,
   "metadata": {},
   "outputs": [],
   "source": [
    "precision = 3\n",
    "\n",
    "A = Matrix(\n",
    "    [\n",
    "        [1, 0, 2],\n",
    "        [3, 0, 2],\n",
    "        [-1, 1, 2]\n",
    "    ], \"A\", precision\n",
    ")\n",
    "\n",
    "# B = Matrix([[20], [15], [92], [51], [15]], \"B\", precision)\n",
    "\n",
    "# A, B = make_diag_dominant(A, B)"
   ]
  },
  {
   "cell_type": "code",
   "execution_count": 3,
   "metadata": {},
   "outputs": [
    {
     "ename": "ZeroDivisionError",
     "evalue": "float division by zero",
     "output_type": "error",
     "traceback": [
      "\u001b[1;31m---------------------------------------------------------------------------\u001b[0m",
      "\u001b[1;31mZeroDivisionError\u001b[0m                         Traceback (most recent call last)",
      "Cell \u001b[1;32mIn [3], line 1\u001b[0m\n\u001b[1;32m----> 1\u001b[0m L, U \u001b[39m=\u001b[39m LU_Decomposition(A)\n\u001b[0;32m      2\u001b[0m \u001b[39mprint\u001b[39m(L)\n\u001b[0;32m      3\u001b[0m \u001b[39mprint\u001b[39m(U)\n",
      "File \u001b[1;32mc:\\Users\\amukh\\OneDrive\\Desktop\\P346\\working\\library\\linear_equations.py:94\u001b[0m, in \u001b[0;36mLU_Decomposition\u001b[1;34m(A)\u001b[0m\n\u001b[0;32m     92\u001b[0m             LU[i, j] \u001b[39m=\u001b[39m LU[i, j] \u001b[39m/\u001b[39m LU[\u001b[39m0\u001b[39m, \u001b[39m0\u001b[39m]\n\u001b[0;32m     93\u001b[0m         \u001b[39melse\u001b[39;00m:\n\u001b[1;32m---> 94\u001b[0m             LU[i, j] \u001b[39m=\u001b[39m (LU[i, j] \u001b[39m-\u001b[39;49m LU[i, :j] \u001b[39m@\u001b[39;49m LU[:j, j]) \u001b[39m/\u001b[39;49m LU[j, j]\n\u001b[0;32m     95\u001b[0m     LU[i, i:] \u001b[39m=\u001b[39m LU[i, i:] \u001b[39m-\u001b[39m LU[i, :i] \u001b[39m@\u001b[39m LU[:i, i:]\n\u001b[0;32m     97\u001b[0m \u001b[39m# Was a single matrix till now, but while returning, I'm splitting it into L and U\u001b[39;00m\n",
      "File \u001b[1;32mc:\\Users\\amukh\\OneDrive\\Desktop\\P346\\working\\library\\matrix.py:297\u001b[0m, in \u001b[0;36mMatrix.__truediv__\u001b[1;34m(self, b)\u001b[0m\n\u001b[0;32m    295\u001b[0m \u001b[39mif\u001b[39;00m \u001b[39misinstance\u001b[39m(b, Matrix):\n\u001b[0;32m    296\u001b[0m     \u001b[39mif\u001b[39;00m b\u001b[39m.\u001b[39mshape \u001b[39m==\u001b[39m [\u001b[39m1\u001b[39m, \u001b[39m1\u001b[39m]:\n\u001b[1;32m--> 297\u001b[0m         \u001b[39mreturn\u001b[39;00m \u001b[39mself\u001b[39m \u001b[39m*\u001b[39m (\u001b[39m1\u001b[39;49m\u001b[39m/\u001b[39;49mb\u001b[39m.\u001b[39;49mmat[\u001b[39m0\u001b[39;49m][\u001b[39m0\u001b[39;49m])\n\u001b[0;32m    298\u001b[0m     \u001b[39melif\u001b[39;00m b\u001b[39m.\u001b[39mshape \u001b[39m==\u001b[39m \u001b[39mself\u001b[39m\u001b[39m.\u001b[39mshape:\n\u001b[0;32m    299\u001b[0m         \u001b[39mreturn\u001b[39;00m Matrix([[\u001b[39mself\u001b[39m\u001b[39m.\u001b[39mmat[i][j]\u001b[39m/\u001b[39mb\u001b[39m.\u001b[39mmat[i][j] \u001b[39mfor\u001b[39;00m j \u001b[39min\u001b[39;00m \u001b[39mrange\u001b[39m(\u001b[39mself\u001b[39m\u001b[39m.\u001b[39mshape[\u001b[39m1\u001b[39m])] \u001b[39mfor\u001b[39;00m i \u001b[39min\u001b[39;00m \u001b[39mrange\u001b[39m(\u001b[39mself\u001b[39m\u001b[39m.\u001b[39mshape[\u001b[39m0\u001b[39m])], \u001b[39mself\u001b[39m\u001b[39m.\u001b[39mname, \u001b[39mself\u001b[39m\u001b[39m.\u001b[39mprecision)\n",
      "\u001b[1;31mZeroDivisionError\u001b[0m: float division by zero"
     ]
    }
   ],
   "source": [
    "L, U = LU_Decomposition(A)\n",
    "print(L)\n",
    "print(U)"
   ]
  }
 ],
 "metadata": {
  "kernelspec": {
   "display_name": "Python 3.9.13 64-bit (microsoft store)",
   "language": "python",
   "name": "python3"
  },
  "language_info": {
   "codemirror_mode": {
    "name": "ipython",
    "version": 3
   },
   "file_extension": ".py",
   "mimetype": "text/x-python",
   "name": "python",
   "nbconvert_exporter": "python",
   "pygments_lexer": "ipython3",
   "version": "3.9.13"
  },
  "orig_nbformat": 4,
  "vscode": {
   "interpreter": {
    "hash": "95b59b4b0e72d3e94105c3ab4f1a1e6e746e4c2a7c235241251baf92fb36381f"
   }
  }
 },
 "nbformat": 4,
 "nbformat_minor": 2
}
