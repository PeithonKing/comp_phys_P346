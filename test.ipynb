{
 "cells": [
  {
   "cell_type": "code",
   "execution_count": 1,
   "metadata": {},
   "outputs": [],
   "source": [
    "from library.matrix import Matrix, zeros\n",
    "from library.linear_equations import forward_propagation, backward_propagation, LU_Decomposition\n",
    "from library.basic_functions import mysum"
   ]
  },
  {
   "cell_type": "code",
   "execution_count": 2,
   "metadata": {},
   "outputs": [
    {
     "name": "stdout",
     "output_type": "stream",
     "text": [
      "A = |4       -1      0       -1      0       0      |\n",
      "    |-1      4       -1      0       -1      0      |\n",
      "    |0       -1      4       0       0       -1     |\n",
      "    |-1      0       0       4       -1      0      |\n",
      "    |0       -1      0       -1      4       -1     |\n",
      "    |0       0       -1      0       -1      4      |\n",
      "\n"
     ]
    }
   ],
   "source": [
    "precision = 3\n",
    "\n",
    "A = Matrix(\n",
    "    [\n",
    "        [4, -1, 0, -1, 0, 0],\n",
    "        [-1, 4, -1, 0, -1, 0],\n",
    "        [0, -1, 4, 0, 0, -1],\n",
    "        [-1, 0, 0, 4, -1, 0],\n",
    "        [0, -1, 0, -1, 4, -1],\n",
    "        [0, 0, -1, 0, -1, 4],\n",
    "    ], \"A\", precision\n",
    ")\n",
    "\n",
    "F = Matrix(\n",
    "    [\n",
    "        [4, -1, 0, -1, 0, 0],\n",
    "        [-1, 4, -1, 0, -1, 0],\n",
    "        [0, -1, 4, 0, 0, -1],\n",
    "        [-1, 0, 0, 4, -1, 0],\n",
    "        [0, -1, 0, -1, 4, -1],\n",
    "        [0, 0, -1, 0, -1, 4],\n",
    "    ], \"A\", precision\n",
    ")\n",
    "\n",
    "B = Matrix(\n",
    "    [\n",
    "        [2],\n",
    "        [1],\n",
    "        [2],\n",
    "        [2],\n",
    "        [1],\n",
    "        [2]\n",
    "\t], \"B\", precision\n",
    ")\n",
    "\n",
    "print(A)"
   ]
  },
  {
   "cell_type": "code",
   "execution_count": 3,
   "metadata": {},
   "outputs": [
    {
     "name": "stdout",
     "output_type": "stream",
     "text": [
      "A[1,1] = |4      |\n",
      "\n"
     ]
    }
   ],
   "source": [
    "print(A[1, 1]-0.0)"
   ]
  },
  {
   "cell_type": "code",
   "execution_count": 4,
   "metadata": {},
   "outputs": [],
   "source": [
    "# def Cholesky_Decomposition(A):\n",
    "#         \"\"\"Returns the Cholesky decomposition of the matrix.\n",
    "\n",
    "#         Returns:\n",
    "#             Matrix: Lower Triangular matrix L such that A = LLᵀ. Diagonal elements of L will be changed to 1.\n",
    "#             Matrix: Upper Triangular matrix Lᵀ renamed as U. Here the diagonal elements are kept intact.\n",
    "#         \"\"\"\n",
    "#         if not A.is_symmetric():\n",
    "#             raise ValueError(\"Matrix is noasht symmetric. Cannot perform Cholesky decomposition.\")\n",
    "        \n",
    "#         L = zeros(A.shape, \"L\", A.precision)  # .mat\n",
    "#         A = A  # .mat\n",
    "#         for i in range(A.shape[0]):\n",
    "#             for j in range(A.shape[1]):\n",
    "#                 if j>i:\n",
    "#                     break\n",
    "#                 # print(i, j)\n",
    "#                 if i == j:\n",
    "#                     t = mysum([L[i, k]**2 for k in range(i)])\n",
    "#                     # print(t)\n",
    "#                     # print(\"F\")\n",
    "#                     x = (A[i, i] - t).mat[0][0]**0.5\n",
    "#                     # print(x)\n",
    "#                     # print(\"U\")\n",
    "#                     L[i, i] = x\n",
    "#                 elif i>j:\n",
    "#                     phuck = [(L[i, k]*L[j, k]).mat[0][0] for k in range(i)]\n",
    "#                     # print(\"phuck =\", phuck, mysum(phuck))\n",
    "#                     x = A[i, j] - mysum(phuck)\n",
    "#                     # print(\"x\", x, L.mat[j][j])\n",
    "#                     y = x / L.mat[j][j]\n",
    "#                     # print(\"y =\", y)\n",
    "#                     L[i, j] = y\n",
    "#                 # print(L)\n",
    "#                 # print(\"\\\\n\\\\n\\n\\n\")\n",
    "#         return L"
   ]
  },
  {
   "cell_type": "code",
   "execution_count": 5,
   "metadata": {},
   "outputs": [],
   "source": [
    "def Cholesky_Decomposition(A):\n",
    "        \"\"\"Returns the Cholesky decomposition of the matrix.\n",
    "\n",
    "        Returns:\n",
    "            Matrix: Lower Triangular matrix L such that A = LLᵀ. Diagonal elements of L will be changed to 1.\n",
    "            Matrix: Upper Triangular matrix Lᵀ renamed as U. Here the diagonal elements are kept intact.\n",
    "        \"\"\"\n",
    "        if not A.is_symmetric():\n",
    "            raise ValueError(\"Matrix is not symmetric. Cannot perform Cholesky decomposition.\")\n",
    "        \n",
    "        L = zeros(A.shape, \"L\", A.precision)\n",
    "        A = A\n",
    "        for i in range(A.shape[0]):\n",
    "            for j in range(A.shape[1]):\n",
    "                if j>i:\n",
    "                    break\n",
    "                if i == j:\n",
    "                    t = mysum([L[i, k]**2 for k in range(i)])\n",
    "                    x = (A[i, i] - t).mat[0][0]**0.5\n",
    "                    L[i, i] = x\n",
    "                elif i>j:\n",
    "                    phuck = [(L[i, k]*L[j, k]).mat[0][0] for k in range(i)]\n",
    "                    x = A[i, j] - mysum(phuck)\n",
    "                    y = x / L.mat[j][j]\n",
    "                    L[i, j] = y\n",
    "        print(\"done\")\n",
    "        U = L.T()\n",
    "        # for i in range(len(L)):\n",
    "        #     L[i,i] = 1\n",
    "        return L, U"
   ]
  },
  {
   "cell_type": "code",
   "execution_count": 6,
   "metadata": {},
   "outputs": [
    {
     "name": "stdout",
     "output_type": "stream",
     "text": [
      "done\n",
      "L = |2       0       0       0       0       0      |\n",
      "    |-0.5    1.936   0       0       0       0      |\n",
      "    |0       -0.516  1.932   0       0       0      |\n",
      "    |-0.5    -0.129  -0.035  1.932   0       0      |\n",
      "    |0       -0.516  -0.138  -0.555  1.846   0      |\n",
      "    |0       0       -0.518  -0.009  -0.583  1.842  |\n",
      "\n",
      "Lᵀ = |2       -0.5    0       -0.5    0       0      |\n",
      "     |0       1.936   -0.516  -0.129  -0.516  0      |\n",
      "     |0       0       1.932   -0.035  -0.138  -0.518 |\n",
      "     |0       0       0       1.932   -0.555  -0.009 |\n",
      "     |0       0       0       0       1.846   -0.583 |\n",
      "     |0       0       0       0       0       1.842  |\n",
      "\n"
     ]
    }
   ],
   "source": [
    "L, U = Cholesky_Decomposition(A)\n",
    "# L, U = LU_Decomposition(A)\n",
    "print(L)\n",
    "print(U)\n",
    "y = forward_propagation(L, B)\n",
    "x = backward_propagation(U, y)"
   ]
  },
  {
   "cell_type": "code",
   "execution_count": 7,
   "metadata": {},
   "outputs": [
    {
     "name": "stdout",
     "output_type": "stream",
     "text": [
      "L×Lᵀ = |4       -1      0       -1      0       0      |\n",
      "       |-1      4       -1.0    0.0     -1.0    0      |\n",
      "       |0       -1.0    4       0       0       -1     |\n",
      "       |-1      0.0     0       4       -1      0      |\n",
      "       |0       -1.0    0       -1      4       -1     |\n",
      "       |0       0       -1      0       -1      4      |\n",
      "\n"
     ]
    }
   ],
   "source": [
    "print(L@U)"
   ]
  },
  {
   "cell_type": "code",
   "execution_count": 8,
   "metadata": {},
   "outputs": [
    {
     "name": "stdout",
     "output_type": "stream",
     "text": [
      "True\n"
     ]
    }
   ],
   "source": [
    "print(L@U == F)"
   ]
  },
  {
   "cell_type": "code",
   "execution_count": 9,
   "metadata": {},
   "outputs": [],
   "source": [
    "# L.precision = 3\n",
    "# print(L)"
   ]
  },
  {
   "cell_type": "code",
   "execution_count": 10,
   "metadata": {},
   "outputs": [
    {
     "name": "stdout",
     "output_type": "stream",
     "text": [
      "x = |2.395  |\n",
      "    |2.852  |\n",
      "    |2.75   |\n",
      "    |2.729  |\n",
      "    |3.388  |\n",
      "    |3.322  |\n",
      "\n"
     ]
    }
   ],
   "source": [
    "print(x)"
   ]
  }
 ],
 "metadata": {
  "kernelspec": {
   "display_name": "Python 3.9.13 64-bit (microsoft store)",
   "language": "python",
   "name": "python3"
  },
  "language_info": {
   "codemirror_mode": {
    "name": "ipython",
    "version": 3
   },
   "file_extension": ".py",
   "mimetype": "text/x-python",
   "name": "python",
   "nbconvert_exporter": "python",
   "pygments_lexer": "ipython3",
   "version": "3.9.13"
  },
  "orig_nbformat": 4,
  "vscode": {
   "interpreter": {
    "hash": "95b59b4b0e72d3e94105c3ab4f1a1e6e746e4c2a7c235241251baf92fb36381f"
   }
  }
 },
 "nbformat": 4,
 "nbformat_minor": 2
}
