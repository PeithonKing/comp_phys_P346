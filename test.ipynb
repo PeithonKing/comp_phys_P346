{
 "cells": [
  {
   "cell_type": "code",
   "execution_count": 1,
   "metadata": {},
   "outputs": [],
   "source": [
    "from library.matrix import Matrix, zeros\n",
    "from library.linear_equations import forward_propagation, backward_propagation, LU_Decomposition, make_diag_dominant, gauss_seidel"
   ]
  },
  {
   "cell_type": "code",
   "execution_count": 2,
   "metadata": {},
   "outputs": [],
   "source": [
    "precision = 3\n",
    "\n",
    "A = Matrix(\n",
    "    [\n",
    "        [4, 0, 4, 10, 1],\n",
    "        [0, 4, 2, 0, 1],\n",
    "        [2, 5, 1, 3, 13],\n",
    "        [11, 3, 0, 1, 2],\n",
    "        [3, 2, 7, 1, 0],\n",
    "    ], \"A\", precision\n",
    ")\n",
    "\n",
    "B = Matrix([[20], [15], [92], [51], [15]], \"B\", precision)\n",
    "\n",
    "A, B = make_diag_dominant(A, B)"
   ]
  },
  {
   "cell_type": "code",
   "execution_count": 3,
   "metadata": {},
   "outputs": [
    {
     "name": "stdout",
     "output_type": "stream",
     "text": [
      "x = |2.979  |\n",
      "    |2.216  |\n",
      "    |0.211  |\n",
      "    |0.152  |\n",
      "    |5.715  |\n",
      "\n",
      "5\n"
     ]
    }
   ],
   "source": [
    "x, i = gauss_seidel(A, B, tol = 1e-6, seed=0.1, max_iter = 100)\n",
    "print(x)\n",
    "print(i)"
   ]
  }
 ],
 "metadata": {
  "kernelspec": {
   "display_name": "Python 3.9.13 64-bit (microsoft store)",
   "language": "python",
   "name": "python3"
  },
  "language_info": {
   "codemirror_mode": {
    "name": "ipython",
    "version": 3
   },
   "file_extension": ".py",
   "mimetype": "text/x-python",
   "name": "python",
   "nbconvert_exporter": "python",
   "pygments_lexer": "ipython3",
   "version": "3.9.13"
  },
  "orig_nbformat": 4,
  "vscode": {
   "interpreter": {
    "hash": "95b59b4b0e72d3e94105c3ab4f1a1e6e746e4c2a7c235241251baf92fb36381f"
   }
  }
 },
 "nbformat": 4,
 "nbformat_minor": 2
}
