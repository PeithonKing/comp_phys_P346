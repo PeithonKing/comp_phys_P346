{
 "cells": [
  {
   "cell_type": "code",
   "execution_count": 5,
   "metadata": {},
   "outputs": [],
   "source": [
    "import math"
   ]
  },
  {
   "cell_type": "code",
   "execution_count": 1,
   "metadata": {},
   "outputs": [],
   "source": [
    "def func(x):\n",
    "    # return 1/x\n",
    "    return x*math.cos(x)"
   ]
  },
  {
   "cell_type": "code",
   "execution_count": 3,
   "metadata": {},
   "outputs": [],
   "source": [
    "def midpoint_rule(func, a, b, n):\n",
    "\th = (b-a)/n\n",
    "\tx = a + h/2\n",
    "\ts = 0\n",
    "\tfor i in range(n):\n",
    "\t\ts += func(x)\n",
    "\t\tx += h\n",
    "\treturn s*h\n",
    "\n",
    "def trapezoid_rule(func, a, b, n):\n",
    "\th = (b-a)/n\n",
    "\tx = a\n",
    "\ts = 0\n",
    "\tfor i in range(n):\n",
    "\t\ts += func(x) + func(x+h)\n",
    "\t\tx += h\n",
    "\treturn s*h/2"
   ]
  },
  {
   "cell_type": "code",
   "execution_count": 16,
   "metadata": {},
   "outputs": [
    {
     "name": "stdout",
     "output_type": "stream",
     "text": [
      "0.69121989\n",
      "0.69266055\n",
      "0.6929305\n",
      "0.6930691\n"
     ]
    }
   ],
   "source": [
    "print(round(midpoint_rule(func, 1, 2, 4) - (0.5*math.pi-1), 8))\n",
    "print(round(midpoint_rule(func, 1, 2, 8) - (0.5*math.pi-1), 8))\n",
    "print(round(midpoint_rule(func, 1, 2, 12) - (0.5*math.pi-1), 8))\n",
    "print(round(midpoint_rule(func, 1, 2, 20) - (0.5*math.pi-1), 8))"
   ]
  },
  {
   "cell_type": "code",
   "execution_count": 19,
   "metadata": {},
   "outputs": [
    {
     "name": "stdout",
     "output_type": "stream",
     "text": [
      "0.69702381\n",
      "0.69412185\n",
      "0.69358083\n",
      "0.69330338\n"
     ]
    }
   ],
   "source": [
    "print(round(trapezoid_rule(func, 1, 2, 4), 8))\n",
    "print(round(trapezoid_rule(func, 1, 2, 8), 8))\n",
    "print(round(trapezoid_rule(func, 1, 2, 12), 8))\n",
    "print(round(trapezoid_rule(func, 1, 2, 20), 8))"
   ]
  },
  {
   "cell_type": "code",
   "execution_count": 17,
   "metadata": {},
   "outputs": [
    {
     "data": {
      "text/plain": [
       "0.6930690982255867"
      ]
     },
     "execution_count": 17,
     "metadata": {},
     "output_type": "execute_result"
    }
   ],
   "source": [
    "midpoint_rule(func, 1, 2, 20)"
   ]
  }
 ],
 "metadata": {
  "kernelspec": {
   "display_name": "Python 3.9.13 64-bit (microsoft store)",
   "language": "python",
   "name": "python3"
  },
  "language_info": {
   "codemirror_mode": {
    "name": "ipython",
    "version": 3
   },
   "file_extension": ".py",
   "mimetype": "text/x-python",
   "name": "python",
   "nbconvert_exporter": "python",
   "pygments_lexer": "ipython3",
   "version": "3.9.13"
  },
  "orig_nbformat": 4,
  "vscode": {
   "interpreter": {
    "hash": "95b59b4b0e72d3e94105c3ab4f1a1e6e746e4c2a7c235241251baf92fb36381f"
   }
  }
 },
 "nbformat": 4,
 "nbformat_minor": 2
}
