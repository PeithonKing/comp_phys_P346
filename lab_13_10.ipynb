{
 "cells": [
  {
   "cell_type": "code",
   "execution_count": 1,
   "metadata": {},
   "outputs": [],
   "source": [
    "import math\n",
    "from library.integration import midpoint_rule, trapezoidal_rule, simpson_rule\n",
    "\n",
    "def func(x): return x*math.cos(x)"
   ]
  },
  {
   "cell_type": "code",
   "execution_count": 2,
   "metadata": {},
   "outputs": [
    {
     "name": "stdout",
     "output_type": "stream",
     "text": [
      "0.02572837783978346\n",
      "0.021934704971198746\n",
      "0.021234434852192913\n",
      "0.02098950691583526\n"
     ]
    }
   ],
   "source": [
    "print(midpoint_rule(func, 1, 2, 4))\n",
    "print(midpoint_rule(func, 1, 2, 8))\n",
    "print(midpoint_rule(func, 1, 2, 12))\n",
    "print(midpoint_rule(func, 1, 2, 16))"
   ]
  },
  {
   "cell_type": "code",
   "execution_count": 3,
   "metadata": {},
   "outputs": [
    {
     "name": "stdout",
     "output_type": "stream",
     "text": [
      "0.01058312\n",
      "0.01815575\n",
      "0.0195555\n",
      "0.02027187\n"
     ]
    }
   ],
   "source": [
    "print(round(trapezoidal_rule(func, 1, 2, 4), 8))\n",
    "print(round(trapezoidal_rule(func, 1, 2, 8), 8))\n",
    "print(round(trapezoidal_rule(func, 1, 2, 12), 8))\n",
    "print(round(trapezoidal_rule(func, 1, 2, 20), 8))"
   ]
  }
 ],
 "metadata": {
  "kernelspec": {
   "display_name": "Python 3 (ipykernel)",
   "language": "python",
   "name": "python3"
  },
  "language_info": {
   "codemirror_mode": {
    "name": "ipython",
    "version": 3
   },
   "file_extension": ".py",
   "mimetype": "text/x-python",
   "name": "python",
   "nbconvert_exporter": "python",
   "pygments_lexer": "ipython3",
   "version": "3.9.13"
  },
  "vscode": {
   "interpreter": {
    "hash": "95b59b4b0e72d3e94105c3ab4f1a1e6e746e4c2a7c235241251baf92fb36381f"
   }
  }
 },
 "nbformat": 4,
 "nbformat_minor": 2
}
