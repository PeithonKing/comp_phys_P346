{
 "cells": [
  {
   "cell_type": "code",
   "execution_count": 1,
   "metadata": {},
   "outputs": [],
   "source": [
    "def pardif(Lx, Lt, Nx, Nt, func, x0, xL, t, a):\n",
    "\n",
    "    V = [[func((j+1)*0.1)] for j in range(Nx)]\n",
    "    n = int(t/(Lt/Nt))\n",
    "\n",
    "    for k in range(n):\n",
    "        for i in range(Nx):\n",
    "\n",
    "            if i == 0:\n",
    "                V[i][0] = V[i][0]*(1-2*a)+V[i+1][0]*a\n",
    "            elif i == Nx-1:\n",
    "                V[i][0] = V[i-1][0]*a+V[i][0]*(1-2*a)\n",
    "            else:\n",
    "                V[i][0] = V[i-1][0]*a+V[i][0]*(1-2*a)+V[i+1][0]*a\n",
    "\n",
    "    return V"
   ]
  },
  {
   "cell_type": "code",
   "execution_count": 2,
   "metadata": {},
   "outputs": [],
   "source": [
    "# import numpy as np\n",
    "# import matplotlib.pyplot as plt\n",
    "# import math \n",
    "# Lx = 2\n",
    "# Nx = 200\n",
    "# Lt = 4\n",
    "# Nt = 5000\n",
    "# V0 = np.zeros(Nx+1, float)\n",
    "# V1 = np.zeros(Nx+1, float)\n",
    "# hx = Lx/Nx\n",
    "# ht = Lt/Nt\n",
    "# alpha = ht/hx**2\n",
    "# if alpha>0.5:\n",
    "#     print(\"instability solution\")\n",
    "# for i in range(Nx+1):\n",
    "#     V0[i] = 20*abs(math.sin(math.pi*hx*i))\n",
    "#     # print(i, V0[i])\n",
    "# plt.plot(list(range(Nx+1)), V0)\n",
    "# plt.show()"
   ]
  }
 ],
 "metadata": {
  "kernelspec": {
   "display_name": "Python 3.9.13 64-bit (microsoft store)",
   "language": "python",
   "name": "python3"
  },
  "language_info": {
   "codemirror_mode": {
    "name": "ipython",
    "version": 3
   },
   "file_extension": ".py",
   "mimetype": "text/x-python",
   "name": "python",
   "nbconvert_exporter": "python",
   "pygments_lexer": "ipython3",
   "version": "3.9.13"
  },
  "orig_nbformat": 4,
  "vscode": {
   "interpreter": {
    "hash": "95b59b4b0e72d3e94105c3ab4f1a1e6e746e4c2a7c235241251baf92fb36381f"
   }
  }
 },
 "nbformat": 4,
 "nbformat_minor": 2
}
