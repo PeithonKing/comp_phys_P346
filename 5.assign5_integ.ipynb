{
 "cells": [
  {
   "cell_type": "code",
   "execution_count": null,
   "metadata": {},
   "outputs": [],
   "source": [
    "from library.matrix import truncate_p as truncate"
   ]
  },
  {
   "cell_type": "markdown",
   "metadata": {},
   "source": [
    "# Q1: Use Midpoint, Trapezoidal and Simpson numerical integration scheme to evaluate the integral:\n",
    "\n",
    "$$\\int_1^4 \\sqrt{1+\\frac{1}{x}}\\;dx$$"
   ]
  },
  {
   "cell_type": "code",
   "execution_count": 20,
   "metadata": {},
   "outputs": [],
   "source": [
    "from library.integration import simpson_rule, trapezoidal_rule, midpoint_rule, monte_carlo_integration\n",
    "def func(x):\n",
    "    return (1+1/x)**0.5"
   ]
  },
  {
   "cell_type": "code",
   "execution_count": 28,
   "metadata": {},
   "outputs": [
    {
     "name": "stdout",
     "output_type": "stream",
     "text": [
      "Midpoint Scheme (n=10): 3.618978893939812\n",
      "Midpoint Scheme (n=20): 3.6198800323016482\n",
      "Midpoint Scheme (n=30): 3.62004881243588\n"
     ]
    }
   ],
   "source": [
    "print(\"Midpoint Scheme (n=10):\", midpoint_rule(func, 1, 4, n=10))\n",
    "print(\"Midpoint Scheme (n=20):\", midpoint_rule(func, 1, 4, n=20))\n",
    "print(\"Midpoint Scheme (n=30):\", midpoint_rule(func, 1, 4, n=30))"
   ]
  },
  {
   "cell_type": "code",
   "execution_count": 27,
   "metadata": {},
   "outputs": [
    {
     "name": "stdout",
     "output_type": "stream",
     "text": [
      "Trapezoidal Scheme (n=10): 3.622608380359955\n",
      "Trapezoidal Scheme (n=20): 3.620793637149885\n",
      "Trapezoidal Scheme (n=30): 3.6204553882819273\n"
     ]
    }
   ],
   "source": [
    "print(\"Trapezoidal Scheme (n=10):\", trapezoidal_rule(func, 1, 4, n=10))\n",
    "print(\"Trapezoidal Scheme (n=20):\", trapezoidal_rule(func, 1, 4, n=20))\n",
    "print(\"Trapezoidal Scheme (n=30):\", trapezoidal_rule(func, 1, 4, n=30))"
   ]
  },
  {
   "cell_type": "code",
   "execution_count": 25,
   "metadata": {},
   "outputs": [
    {
     "name": "stdout",
     "output_type": "stream",
     "text": [
      "Simpson Scheme (n=10): 3.620188722746527\n",
      "Simpson Scheme (n=20): 3.62018456725106\n",
      "Simpson Scheme (n=30): 3.620184337717895\n"
     ]
    }
   ],
   "source": [
    "print(\"Simpson Scheme (n=10):\", simpson_rule(func, 1, 4, n=10))\n",
    "print(\"Simpson Scheme (n=20):\", simpson_rule(func, 1, 4, n=20))\n",
    "print(\"Simpson Scheme (n=30):\", simpson_rule(func, 1, 4, n=30))"
   ]
  },
  {
   "cell_type": "markdown",
   "metadata": {},
   "source": [
    "## Comparison of the three methods\n",
    "|Steps|Midpoint|Trapezoidal|Simpson|\n",
    "|:---:|:---:|:---:|:---:|\n",
    "|10|3.618978|3.622608|3.620188|\n",
    "|20|3.619880|3.620793|3.620184|\n",
    "|30|3.620048|3.620455|3.620184|"
   ]
  },
  {
   "cell_type": "markdown",
   "metadata": {},
   "source": [
    "# Q2: Monte Carlo Integration for the following integral:\n",
    "\n",
    "$$\\int_{-1}^1\\sin^2(x)\\;dx$$"
   ]
  },
  {
   "cell_type": "code",
   "execution_count": 29,
   "metadata": {},
   "outputs": [],
   "source": [
    "from math import sin\n",
    "def func2(x):\n",
    "    return sin(x)**2"
   ]
  },
  {
   "cell_type": "code",
   "execution_count": 37,
   "metadata": {},
   "outputs": [
    {
     "name": "stderr",
     "output_type": "stream",
     "text": [
      "100%|██████████| 5000000/5000000 [00:07<00:00, 697426.13it/s]\n"
     ]
    },
    {
     "data": {
      "text/plain": [
       "0.545402579349325"
      ]
     },
     "execution_count": 37,
     "metadata": {},
     "output_type": "execute_result"
    }
   ],
   "source": [
    "monte_carlo_integration(func2, -1, 1, n=5e6, seed=0.49, verbose = True)"
   ]
  },
  {
   "cell_type": "markdown",
   "metadata": {},
   "source": [
    "# Q3: A 2 meter long beam has a linear mass density $\\lambda(x) = x^2$,  where x is measured from one its ends. Find the center of mass of the beam numerically.\n",
    "\n",
    "I have solved this problem in two methods"
   ]
  },
  {
   "cell_type": "code",
   "execution_count": 1,
   "metadata": {},
   "outputs": [],
   "source": [
    "from library.matrix import truncate_p as truncate"
   ]
  },
  {
   "cell_type": "markdown",
   "metadata": {},
   "source": [
    "## A. Naive approach:\n",
    "Here I (as a human) have to calculate a lot of things and simplify it to a single expression. <br>\n",
    "This approach guarantees that the result is correct and deterministically reaches the answer. <br>\n",
    "But here, the computer does not do everything for us, we have to do a lot of calculations ourselves.\n",
    "\n",
    "The formula for the center of mass is:\n",
    "\n",
    "$$x_{COM} = \\frac{\\sum m_i x_i}{\\sum m_i} = \\frac{\\int_0^M x dm}{M}\\;\\;\\;\\;\\;[M = total\\;mass]$$\n",
    "\n",
    "now, mass density is given to be $\\lambda(x) = x^2$, so the center of mass will be at:\n",
    "\n",
    "$$x_{COM} = \\frac{\\int \\lambda x dx}{\\int xdx}$$\n",
    "\n",
    "Putting the value of $\\lambda(x)=x^2$ in the above equation, we get:\n",
    "\n",
    "$$x_{COM} = \\frac{\\int_0^2 x^3 dx}{\\int_0^2 x^2dx}$$\n",
    "\n"
   ]
  },
  {
   "cell_type": "code",
   "execution_count": 2,
   "metadata": {},
   "outputs": [
    {
     "name": "stdout",
     "output_type": "stream",
     "text": [
      "Center of mass is at x = 1.4999999999999998m\n"
     ]
    }
   ],
   "source": [
    "lower_limit = 0\n",
    "upper_limit = 2\n",
    "steps = 3\n",
    "a = simpson_rule(lambda x: x**3, lower_limit, upper_limit, steps)\n",
    "b = simpson_rule(lambda x: x**2, lower_limit, upper_limit, steps)\n",
    "x_COM = a/b\n",
    "print(f\"Center of mass is at x = {x_COM}m\")\n",
    "# value was supposed to come out to be x = 1.5m.\n",
    "# The small error can be avoided if we took more steps"
   ]
  },
  {
   "cell_type": "markdown",
   "metadata": {},
   "source": [
    "## B. More intuitive approach\n",
    "\n",
    "Lazy me wanted my computer to do all the work\n",
    "\n",
    "### Aim:\n",
    "&emsp;To find the center of mass of the beam with mass density $\\lambda(x) = x^2$.\n",
    "\n",
    "### Theory:\n",
    "&emsp;Let us use the fact that, if a body is pivoted at its center of mass, it will not rotate (net torque on it will be zero). So, we will try to find the net torque on the body if pivoted at a random position $a$. Then we will minimise the net torque (minimum value will be close to 0) by adjusting the $a$ to find the center of mass. This idea is inspired from the linear regression algorithm.\n",
    "\n",
    "### Method:\n",
    " - start at a random location on the beam (we have started with $a = 0$)\n",
    " - find torque on the beam if pivoted at that location (point $a$)\n",
    " - change the value of $a$ depending on the torque (if torque is positive, move a to the right, if negative, move a to the left. Also the distance by which we move $a$ is proportional (proportionality constant is $\\alpha$) to the torque)\n",
    " - with every step, we will reach a point where the torque will be lesser and lesser. Thus we will keep on taking smaller and smaller steps until we reach a point where the torque is almost zero. This point will be the center of mass of the beam. (**Note:** If we take a large value of $\\alpha$, the algorithm may not converge to the correct answer, rather it will diverge out. If we take a small value of $\\alpha$, the algorithm will take a lot of time to converge to the correct answer. So, we have to choose a value of $\\alpha$ such that the algorithm converges to the correct answer in a reasonable amount of time.)"
   ]
  },
  {
   "cell_type": "code",
   "execution_count": 38,
   "metadata": {},
   "outputs": [
    {
     "data": {
      "text/plain": [
       "-2.666666666666667"
      ]
     },
     "execution_count": 38,
     "metadata": {},
     "output_type": "execute_result"
    }
   ],
   "source": [
    "def get_torque(a):\n",
    "\tf_wrt_a = lambda x: (x-a)*x**2\n",
    "\ttorque_left = simpson_rule(f_wrt_a,  0,  a,  n=4)\n",
    "\ttorque_right = simpson_rule(f_wrt_a,  a,  2,  n=4)\n",
    "    # simpson rule acts so good here because the f_wrt_a is a tertiary function\n",
    "    # and simpson rule is based upon quadratic model... 2 and 3 are close numbers\n",
    "\treturn torque_left + torque_right\n",
    "\n",
    "# Testing the function:\n",
    "get_torque(2.5)"
   ]
  },
  {
   "cell_type": "code",
   "execution_count": 13,
   "metadata": {},
   "outputs": [
    {
     "name": "stdout",
     "output_type": "stream",
     "text": [
      "Step 1:\ta = 0, net_torque = 4.000000\n",
      "Step 2:\ta = 1.600000, net_torque = -0.266666\n",
      "Step 3:\ta = 1.493333, net_torque = 0.017777\n",
      "Step 4:\ta = 1.500444, net_torque = -0.001185\n",
      "Step 5:\ta = 1.499970, net_torque = 0.000079\n",
      "Step 6:\ta = 1.500001, net_torque = -0.000005\n",
      "Step 7:\ta = 1.499999, net_torque = 0.000000\n",
      "Center of mass is at x = 1.500000m (took 7 steps)\n"
     ]
    }
   ],
   "source": [
    "tollerance = 1e-6\n",
    "func = lambda x: x**2\n",
    "alpha = 0.4  # carefully chosen to reduce the number of steps\n",
    "\n",
    "net_torque = 1  # initiate at any value more than tollerance\n",
    "a = 0  # initiate at any point on the rod (0, 2)... although it doesn't matter\n",
    "steps = 0  # for counting the steps\n",
    "found = True  \n",
    "\n",
    "net_torques = []\n",
    "positions = []\n",
    "while abs(net_torque)>tollerance:\n",
    "    net_torque = get_torque(a)\n",
    "    net_torques.append(abs(net_torque))  # just keeping the records\n",
    "    positions.append(a)  # just keeping the records\n",
    "    print(f\"Step {steps+1}:\\ta = {truncate(a, 6, str)},\", end = \" \")\n",
    "    a += net_torque*alpha  # Updating a\n",
    "    print(f\"net_torque = {truncate(net_torque, 6, str)}\")\n",
    "    if len(net_torques)-1 and net_torques[-1] > net_torques[-2]:\n",
    "        print(\"The net_torque is increasing, the algorithm is diverging, decreasing the value of alpha might help!\")\n",
    "        found = False\n",
    "        break\n",
    "    steps += 1\n",
    "\n",
    "if found: print(f\"Center of mass is at x = {truncate(a, 6, str)}m (took {steps} steps)\")"
   ]
  },
  {
   "cell_type": "markdown",
   "metadata": {},
   "source": [
    "### Demonstration:\n",
    "\n",
    "&emsp; Dotted lines are only for directing your eyes to the point of interest. The magenta dotted line is the variation of absolute value of torque with $a$. The cyan dotted line denotes the change in $a$ with each iteration. **(points on the of the cyan line don't  mean anything)**\n",
    "\n",
    "&emsp; Although I am not backing my claim with mathematically rigorous proof, but from the graph we can see that the variation of torque with $a$ is a linear curve with slope $-\\frac{8}{3}$ and the curve intersects the x-axis at $a = 1.5$. So, the center of mass is at $a = 1.5$.\n",
    "\n",
    "#### Here are some graphs for different values of $\\alpha$:\n",
    "(To see the code to generate this graph, visit [here](https://gist.github.com/PeithonKing/dcf64c551cf265cf7ed20901beffe150))\n",
    "\n",
    "| alpha = 0.65 | alpha = 0.1 | alpha = 0.8 |\n",
    "|:---:|:---:|:---:|\n",
    "|![alpha = 0.65](https://github.com/PeithonKing/Some-Static-files/blob/main/ass5_1.png)|![alpha = 0.1](https://github.com/PeithonKing/Some-Static-files/blob/main/ass5_2.png)|![alpha = 0.8](https://github.com/PeithonKing/Some-Static-files/blob/main/ass5_3.png)|"
   ]
  }
 ],
 "metadata": {
  "kernelspec": {
   "display_name": "Python 3 (ipykernel)",
   "language": "python",
   "name": "python3"
  },
  "language_info": {
   "codemirror_mode": {
    "name": "ipython",
    "version": 3
   },
   "file_extension": ".py",
   "mimetype": "text/x-python",
   "name": "python",
   "nbconvert_exporter": "python",
   "pygments_lexer": "ipython3",
   "version": "3.9.13"
  },
  "vscode": {
   "interpreter": {
    "hash": "95b59b4b0e72d3e94105c3ab4f1a1e6e746e4c2a7c235241251baf92fb36381f"
   }
  }
 },
 "nbformat": 4,
 "nbformat_minor": 2
}
