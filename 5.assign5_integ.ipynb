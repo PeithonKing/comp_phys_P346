{
 "cells": [
  {
   "cell_type": "markdown",
   "metadata": {},
   "source": [
    "# Q3: A 2 meter long beam has a linear mass density $\\lambda(x) = x^2$,  where x is measured from one its ends. Find the center of mass of the beam numerically.\n",
    "\n",
    "I have solved this problem in two methods"
   ]
  },
  {
   "cell_type": "code",
   "execution_count": 1,
   "metadata": {},
   "outputs": [],
   "source": [
    "from library.integration import simpson_rule\n",
    "from library.matrix import truncate_p as truncate"
   ]
  },
  {
   "cell_type": "markdown",
   "metadata": {},
   "source": [
    "## A. Naive approach:\n",
    "Here I (as a human) have to calculate a lot of things and simplify it to a single expression. <br>\n",
    "This approach guarantees that the result is correct and deterministically reaches the answer. <br>\n",
    "But here, the computer does not do everything for us, we have to do a lot of calculations ourselves.\n",
    "\n",
    "The formula for the center of mass is:\n",
    "\n",
    "$$x_{COM} = \\frac{\\sum m_i x_i}{\\sum m_i} = \\frac{\\int_0^M x dm}{M}\\;\\;\\;\\;\\;[M = total\\;mass]$$\n",
    "\n",
    "now, mass density is given to be $\\lambda(x) = x^2$, so the center of mass will be at:\n",
    "\n",
    "$$x_{COM} = \\frac{\\int \\lambda x dx}{\\int xdx}$$\n",
    "\n",
    "Putting the value of $\\lambda(x)=x^2$ in the above equation, we get:\n",
    "\n",
    "$$x_{COM} = \\frac{\\int_0^2 x^3 dx}{\\int_0^2 x^2dx}$$\n",
    "\n"
   ]
  },
  {
   "cell_type": "code",
   "execution_count": 2,
   "metadata": {},
   "outputs": [
    {
     "name": "stdout",
     "output_type": "stream",
     "text": [
      "Center of mass is at x = 1.4999999999999998m\n"
     ]
    }
   ],
   "source": [
    "lower_limit = 0\n",
    "upper_limit = 2\n",
    "steps = 3\n",
    "a = simpson_rule(lambda x: x**3, lower_limit, upper_limit, steps)\n",
    "b = simpson_rule(lambda x: x**2, lower_limit, upper_limit, steps)\n",
    "x_COM = a/b\n",
    "print(f\"Center of mass is at x = {x_COM}m\")\n",
    "# value was supposed to come out to be x = 1.5m.\n",
    "# The small error can be avoided if we took more steps"
   ]
  },
  {
   "cell_type": "markdown",
   "metadata": {},
   "source": [
    "## B. More intuitive approach\n",
    "\n",
    "Lazy me wanted my computer to do all the work\n",
    "\n",
    "### Aim:\n",
    "&emsp;To find the center of mass of the beam with mass density $\\lambda(x) = x^2$.\n",
    "\n",
    "### Theory:\n",
    "&emsp;Let us use the fact that, if a body is pivoted at its center of mass, it will not rotate (net torque on it will be zero). So, we will try to find the net torque on the body if pivoted at a random position $a$. Then we will minimise the net torque (minimum value will be close to 0) to find the center of mass. This idea is inspired from the linear regression algorithm.\n",
    "\n",
    "### Method:\n",
    " - start at a random location on the beam (we have started with $a = 0$)\n",
    " - find torque on the beam if pivoted at that location (point $a$)\n",
    " - change the value of $a$ depending on the torque (if torque is positive, move a to the right, if negative, move a to the left. Also the distance by which we move $a$ is proportional (proportionality constant is $\\alpha$) to the torque)\n",
    " - with every step, we will reach a point where the torque will be lesser and lesser. Thus we will keep on taking smaller and smaller steps until we reach a point where the torque is almost zero. This point will be the center of mass of the beam. (**Note:** If we take a large value of $\\alpha$, the algorithm may not converge to the correct answer, rather it will diverge out. If we take a small value of $\\alpha$, the algorithm will take a lot of time to converge to the correct answer. So, we have to choose a value of $\\alpha$ such that the algorithm converges to the correct answer in a reasonable amount of time.)"
   ]
  },
  {
   "cell_type": "code",
   "execution_count": 3,
   "metadata": {},
   "outputs": [],
   "source": [
    "def get_torque(a):\n",
    "\tf_wrt_a = lambda x: (x-a)*x**2\n",
    "\ttorque_left = simpson_rule(f_wrt_a,  0,  a,  n=4)\n",
    "\ttorque_right = simpson_rule(f_wrt_a,  a,  2,  n=4)\n",
    "\treturn torque_left + torque_right"
   ]
  },
  {
   "cell_type": "code",
   "execution_count": 4,
   "metadata": {},
   "outputs": [
    {
     "data": {
      "text/plain": [
       "-2.666666666666667"
      ]
     },
     "execution_count": 4,
     "metadata": {},
     "output_type": "execute_result"
    }
   ],
   "source": [
    "get_torque(2.5)"
   ]
  },
  {
   "cell_type": "code",
   "execution_count": 38,
   "metadata": {},
   "outputs": [
    {
     "name": "stdout",
     "output_type": "stream",
     "text": [
      "Center of mass is at x = 1.499999m\n"
     ]
    }
   ],
   "source": [
    "tollerance = 1e-6\n",
    "func = lambda x: x**2\n",
    "alpha = 0.1  # we have carefully chosen this value such that:\n",
    "# the value of 'a' overshoots the center of mass with every leap.\n",
    "# This way it would be easier to visualise it. My main aim was\n",
    "# not to find the center of mass in the lowest number of steps.\n",
    "# to find the center of mass in the lowest possible steps, take\n",
    "# smaller values of a (maybe a = 0.1)\n",
    "\n",
    "net_torque = 1  # initiate at any value more than tollerance\n",
    "a = 0  # initiate at any point on the rod (0, 2)... although it doesn't matter\n",
    "steps = 0  # for counting the steps\n",
    "found = True  \n",
    "\n",
    "net_torques = []\n",
    "positions = []\n",
    "while abs(net_torque)>tollerance:\n",
    "    positions.append(a)  # just keeping the records\n",
    "    # print(f\"{steps}:\\ta = {a:.6f},\", end = \"\\t\")\n",
    "    f_wrt_a = lambda x: func(x)*(x-a)\n",
    "    torque_left  = simpson_rule(f_wrt_a,  0,  a,  n=2)\n",
    "    torque_right = simpson_rule(f_wrt_a,  a,  2,  n=2)\n",
    "    # simpson rule acts so good here because the f_wrt_a is a tertiary function\n",
    "    # and simpson rule is based upon quadratic model... 2 and 3 are close numbers\n",
    "    net_torque = torque_left + torque_right\n",
    "    net_torques.append(abs(net_torque))  # just keeping the records\n",
    "    a += net_torque*alpha  # alpha is a constant, it acts as the regulator, how fast a changes\n",
    "    steps += 1\n",
    "    # print(f\"net_torque = {net_torque:.6f}\")\n",
    "    if len(net_torques)-1 and net_torques[-1] > net_torques[-2]:\n",
    "        print(\"The net_torque is increasing, the algorithm is diverging, decreasing alpha might help!\")\n",
    "        found = False\n",
    "        break\n",
    "\n",
    "if found: print(f\"Center of mass is at x = {truncate(a, 6, str)}m\")"
   ]
  },
  {
   "cell_type": "markdown",
   "metadata": {},
   "source": [
    "### Demonstration:\n",
    "\n",
    "&emsp; Dotted lines are only for directing your eyes to the point of interest. The magenta dotted line is the variation of absolute value of torque with $a$. The cyan dotted line denotes the change in $a$ with each iteration. **(points on the of the cyan line don't  mean anything)**\n",
    "\n",
    "&emsp; Although I am not backing my claim with mathematically rigorous proof, but from the graph we can see that the variation of torque with $a$ is a linear curve with slope $-\\frac{8}{3}$ and the curve intersects the x-axis at $a = 1.5$. So, the center of mass is at $a = 1.5$.\n",
    "\n",
    "#### Here are some graphs for different values of $\\alpha$:\n",
    "(To see the code to generate this graph, visit [here](https://gist.github.com/PeithonKing/dcf64c551cf265cf7ed20901beffe150))\n",
    "![alpha = 0.65](static/ass5_1.png)\n",
    "![alpha = 0.1](static/ass5_2.png)\n",
    "![alpha = 0.8](static/ass5_3.png)"
   ]
  },
  {
   "cell_type": "code",
   "execution_count": null,
   "metadata": {},
   "outputs": [],
   "source": [
    "import matplotlib.pyplot as plt\n",
    "from library.matrix import linspace\n",
    "g1 = lambda x: abs(-(8/3)*x+4)\n",
    "\n",
    "# PLOTTING\n",
    "xs = linspace(0, 2.6, 100)\n",
    "plt.plot(xs, [g1(xs) for xs in xs], \"m--\")  # visual aid 1\n",
    "plt.plot(positions, net_torques, \"c--\")  # visual aid 2: line joining points\n",
    "plt.scatter(positions[1:-1], net_torques[1:-1], c=\"#000000\")  # points\n",
    "plt.scatter(positions[0], net_torques[0], c=\"g\")  \n",
    "plt.scatter(positions[-1], net_torques[-1], c=\"r\")\n",
    "\n",
    "# annotating points\n",
    "try:\n",
    "    plt.annotate(\"1, start\", (positions[0]+0.05, net_torques[0]))\n",
    "    for i in range(6):\n",
    "        offset = -0.1 if i%2 else 0.05\n",
    "        plt.annotate(f\"{i+2}\", (positions[i+1]+offset, net_torques[i+1]-0.1))\n",
    "    plt.annotate(\"and so on...\", (positions[7]+0.05, net_torques[7]-0.1))\n",
    "    plt.annotate(f\"{len(positions)}, end\", (positions[-1]+0.05, net_torques[-1]-0.1))\n",
    "except IndexError: pass\n",
    "\n",
    "# Legends and Labels\n",
    "plt.legend([\"visual aid 1\", \"visual aid 2\", \"points\"])\n",
    "plt.xlabel(\"positions\")\n",
    "plt.ylabel(\"absolute value of net torques\")\n",
    "plt.text(0.25, 1.5, f\"$\\\\alpha$ = {alpha}\", fontsize=12)\n",
    "if not found: plt.text(0.25, 1, f\"Didn't converge\", fontsize=12)"
   ]
  }
 ],
 "metadata": {
  "kernelspec": {
   "display_name": "Python 3.9.13 64-bit (microsoft store)",
   "language": "python",
   "name": "python3"
  },
  "language_info": {
   "codemirror_mode": {
    "name": "ipython",
    "version": 3
   },
   "file_extension": ".py",
   "mimetype": "text/x-python",
   "name": "python",
   "nbconvert_exporter": "python",
   "pygments_lexer": "ipython3",
   "version": "3.9.13"
  },
  "orig_nbformat": 4,
  "vscode": {
   "interpreter": {
    "hash": "95b59b4b0e72d3e94105c3ab4f1a1e6e746e4c2a7c235241251baf92fb36381f"
   }
  }
 },
 "nbformat": 4,
 "nbformat_minor": 2
}
