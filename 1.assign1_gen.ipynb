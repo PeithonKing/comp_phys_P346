{
 "cells": [
  {
   "cell_type": "markdown",
   "metadata": {},
   "source": [
    "# Q1: Calculate the sum of First N odd numbers and factorial of N"
   ]
  },
  {
   "cell_type": "markdown",
   "metadata": {},
   "source": [
    "## Sum of first N odd numbers"
   ]
  },
  {
   "cell_type": "code",
   "execution_count": null,
   "metadata": {},
   "outputs": [],
   "source": [
    "N = 15\n",
    "x = [2*i+1 for i in range(N)]\n",
    "print(f\"Sum of first {N} prime numbers\\n = {' + '.join(map(str, x))}\\n = {sum(x)}\")"
   ]
  },
  {
   "cell_type": "markdown",
   "metadata": {},
   "source": [
    "## Find factorial of n"
   ]
  },
  {
   "cell_type": "code",
   "execution_count": null,
   "metadata": {},
   "outputs": [],
   "source": [
    "N = 5\n",
    "fact = 1\n",
    "for i in range(N):\n",
    "    fact *= i+1\n",
    "print(f\"Factorial of {N}\\n = {' × '.join([str(i+1) for i in range(N)])}\\n = {fact}\")"
   ]
  },
  {
   "cell_type": "markdown",
   "metadata": {},
   "source": [
    "# Q2: Calculate the sum of N terms of an AP, GP and HP series for common difference 1.5 and common ratio 0.5"
   ]
  },
  {
   "cell_type": "markdown",
   "metadata": {},
   "source": [
    "## Sum of N terms of an AP series:\n",
    " - first term (a) = 1\n",
    " - common difference (d) = 1.5"
   ]
  },
  {
   "cell_type": "code",
   "execution_count": null,
   "metadata": {},
   "outputs": [],
   "source": [
    "N = 5\n",
    "d = 1.5\n",
    "a = 1\n",
    "x = [a + d * i for i in range(N)]\n",
    "# print(f\"Sum of AP for {N} terms\\n = {' + '.join(map(str, x))}\\n = {sum(x)}\")\n",
    "print(f\"Sum of AP for {N} terms\\n = {sum(x)}\")"
   ]
  },
  {
   "cell_type": "markdown",
   "metadata": {},
   "source": [
    "## Sum of N terms of a GP series:\n",
    " - first term (a) = 1\n",
    " - common ratio (r) = 0.5"
   ]
  },
  {
   "cell_type": "code",
   "execution_count": null,
   "metadata": {},
   "outputs": [],
   "source": [
    "N = 5\n",
    "r = 0.5\n",
    "a = 1\n",
    "x = [a*r**i for i in range(N)]\n",
    "# print(f\"Sum of GP for {N} terms\\n = {' + '.join(map(str, x))}\\n = {sum(x)}\")\n",
    "print(f\"Sum of GP for {N} terms\\n = {sum(x)}\")"
   ]
  },
  {
   "cell_type": "markdown",
   "metadata": {},
   "source": [
    "## Sum of N terms of an HP series:\n",
    " - first term (1/a) = 1\n",
    " - common ratio (d) = 1.5"
   ]
  },
  {
   "cell_type": "code",
   "execution_count": null,
   "metadata": {},
   "outputs": [],
   "source": [
    "N = 5\n",
    "r = 0.5\n",
    "a = 1\n",
    "x = [(a+r*i)**-1 for i in range(N)]\n",
    "# print(f\"Sum of HP for {N} terms\\n = {' + '.join(map(str, x))}\\n = {sum(x)}\")\n",
    "print(f\"Sum of HP for {N} terms\\n = {sum(x)}\")"
   ]
  },
  {
   "cell_type": "markdown",
   "metadata": {},
   "source": [
    "# Q3: Calculate the sum of the series given below accurate up to 4 place in decimal, where n = 1, 2, 3... Plot the sum versus n.\n",
    "\n",
    "$$\\sum_n {(-1)^{n-1} \\over {2^n}}$$"
   ]
  },
  {
   "cell_type": "code",
   "execution_count": null,
   "metadata": {},
   "outputs": [],
   "source": [
    "# Defining the required function\n",
    "def Q3term(n):\n",
    "    return ((-1)**(n-1))/2**n\n",
    "\n",
    "# Calculating the terms\n",
    "precission = 4\n",
    "x = [1]\n",
    "y = [Q3term(1)]\n",
    "while True:\n",
    "    b = Q3term(x[-1]+1)\n",
    "    if round(y[-1]+b, precission) == round(y[-1], precission):\n",
    "        break\n",
    "    else:\n",
    "        x.append(x[-1]+1)\n",
    "        y.append(y[-1]+b)\n",
    "print(f\"Value of the given expression precise upto 4 decimal places is {round(y[-1], precission)}...\")\n",
    "print(f\"We needed to consider {x[-1]} terms for achieving that precission.\")\n",
    "\n",
    "# Plot the graph\n",
    "import matplotlib.pyplot as plt\n",
    "plt.plot(x, y)"
   ]
  },
  {
   "cell_type": "markdown",
   "metadata": {},
   "source": [
    "# Q4: Consider the following matrices:\n",
    "\n",
    "$$\n",
    "A = \\begin{pmatrix}\n",
    "2 & -3 & 1.4\\\\\n",
    "2.5 & 1 & -2\\\\\n",
    "-0.8 & 0 & 3.1\\\\\n",
    "\\end{pmatrix},\n",
    "\n",
    "B = \\begin{pmatrix}\n",
    "0 & -1 & 1\\\\\n",
    "1.5 & 0.5 & -2\\\\\n",
    "3 & 0 & -2\\\\\n",
    "\\end{pmatrix},\n",
    "\n",
    "C = \\begin{pmatrix}\n",
    "-2\\\\\n",
    "0.5\\\\\n",
    "1.5\\\\\n",
    "\\end{pmatrix},\n",
    "\n",
    "D = \\begin{pmatrix}\n",
    "1\\\\\n",
    "0\\\\\n",
    "-1\\\\\n",
    "\\end{pmatrix}\n",
    "$$\n",
    "\n",
    "### Find AB, D • C and BC"
   ]
  },
  {
   "cell_type": "code",
   "execution_count": null,
   "metadata": {},
   "outputs": [],
   "source": [
    "from library.basic_arithmatic import Matrix\n",
    "\n",
    "A = Matrix([\n",
    "    [2, -3, 1.4],\n",
    "    [2.5 , 1, -2],\n",
    "    [-0.8, 0, 3.1]\n",
    "], name=\"A\", precission=4)\n",
    "\n",
    "B = Matrix([\n",
    "    [0, -1, 1],\n",
    "    [1.5, 0.5, -2],\n",
    "    [3, 0, -2]\n",
    "], name=\"B\", precission=4)\n",
    "\n",
    "C = Matrix([\n",
    "    [-2],\n",
    "    [0.5],\n",
    "    [1.5]\n",
    "], name=\"C\", precission=4)\n",
    "\n",
    "D = Matrix([\n",
    "    [1],\n",
    "    [0],\n",
    "    [-1]\n",
    "], name=\"D\", precission=4)\n",
    "\n",
    "\n",
    "# A = matrix([[2, -3, 1.4], [2.5 , 1, -2], [-0.8, 0, 3.1]], name=\"A\", precission=4)\n",
    "# B = matrix([[0, -1, 1], [1.5, 0.5, -2], [3, 0, -2]], name=\"B\", precission=4)\n",
    "# C = matrix([[-2], [0.5], [1.5]], name=\"C\", precission=4)\n",
    "# D = matrix([[1], [0], [-1]], name=\"D\", precission=4)"
   ]
  },
  {
   "cell_type": "code",
   "execution_count": null,
   "metadata": {},
   "outputs": [],
   "source": [
    "# AB\n",
    "print(A.matmul(B))"
   ]
  },
  {
   "cell_type": "code",
   "execution_count": null,
   "metadata": {},
   "outputs": [],
   "source": [
    "# D.C\n",
    "print(D.dot(C))"
   ]
  },
  {
   "cell_type": "code",
   "execution_count": null,
   "metadata": {},
   "outputs": [],
   "source": [
    "# BC\n",
    "print(B.matmul(C))"
   ]
  },
  {
   "cell_type": "markdown",
   "metadata": {},
   "source": [
    "# Q5: Define your own class/structure myComplex and calculate the sum, product and modulus of (3 - 2i) and (1 + 2i)"
   ]
  },
  {
   "cell_type": "code",
   "execution_count": 1,
   "metadata": {},
   "outputs": [],
   "source": [
    "from library.basic_arithmatic import Complex\n",
    "\n",
    "A = Complex(3, -2, \"A\", 4)\n",
    "B = Complex(1, 2, \"B\", 4)"
   ]
  },
  {
   "cell_type": "code",
   "execution_count": 2,
   "metadata": {},
   "outputs": [
    {
     "name": "stdout",
     "output_type": "stream",
     "text": [
      "A+B = 4\n"
     ]
    }
   ],
   "source": [
    "print(A.add(B))"
   ]
  },
  {
   "cell_type": "code",
   "execution_count": 3,
   "metadata": {},
   "outputs": [
    {
     "name": "stdout",
     "output_type": "stream",
     "text": [
      "A*B = 7 + 4i\n"
     ]
    }
   ],
   "source": [
    "print(A.multiply(B))"
   ]
  },
  {
   "cell_type": "code",
   "execution_count": 4,
   "metadata": {},
   "outputs": [
    {
     "name": "stdout",
     "output_type": "stream",
     "text": [
      "A = 3 + 3i\n"
     ]
    }
   ],
   "source": [
    "print(Complex(3, 3, \"A\", 4))"
   ]
  }
 ],
 "metadata": {
  "kernelspec": {
   "display_name": "Python 3.9.13 64-bit",
   "language": "python",
   "name": "python3"
  },
  "language_info": {
   "codemirror_mode": {
    "name": "ipython",
    "version": 3
   },
   "file_extension": ".py",
   "mimetype": "text/x-python",
   "name": "python",
   "nbconvert_exporter": "python",
   "pygments_lexer": "ipython3",
   "version": "3.9.13"
  },
  "vscode": {
   "interpreter": {
    "hash": "8e284ee3255a07ad8bf76694974743c4c81cb57e7c969474d752d949b11d721e"
   }
  }
 },
 "nbformat": 4,
 "nbformat_minor": 2
}
