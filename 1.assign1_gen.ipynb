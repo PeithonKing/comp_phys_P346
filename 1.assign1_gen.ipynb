{
 "cells": [
  {
   "cell_type": "markdown",
   "metadata": {},
   "source": [
    "# Q1: Calculate the sum of First N odd numbers and factorial of N"
   ]
  },
  {
   "cell_type": "markdown",
   "metadata": {},
   "source": [
    "## Sum of first N odd numbers"
   ]
  },
  {
   "cell_type": "code",
   "execution_count": 1,
   "metadata": {},
   "outputs": [
    {
     "name": "stdout",
     "output_type": "stream",
     "text": [
      "Sum of first 15 prime numbers\n",
      " = 1 + 3 + 5 + 7 + 9 + 11 + 13 + 15 + 17 + 19 + 21 + 23 + 25 + 27 + 29\n",
      " = 225\n"
     ]
    }
   ],
   "source": [
    "N = 15\n",
    "x = [2*i+1 for i in range(N)]\n",
    "print(f\"Sum of first {N} prime numbers\\n = {' + '.join(map(str, x))}\\n = {sum(x)}\")"
   ]
  },
  {
   "cell_type": "markdown",
   "metadata": {},
   "source": [
    "## Find factorial of n"
   ]
  },
  {
   "cell_type": "code",
   "execution_count": 2,
   "metadata": {},
   "outputs": [
    {
     "name": "stdout",
     "output_type": "stream",
     "text": [
      "Factorial of 5\n",
      " = 1 × 2 × 3 × 4 × 5\n",
      " = 120\n"
     ]
    }
   ],
   "source": [
    "N = 5\n",
    "fact = 1\n",
    "for i in range(N):\n",
    "    fact *= i+1\n",
    "print(f\"Factorial of {N}\\n = {' × '.join([str(i+1) for i in range(N)])}\\n = {fact}\")"
   ]
  },
  {
   "cell_type": "markdown",
   "metadata": {},
   "source": [
    "# Q2: Calculate the sum of N terms of an AP, GP and HP series for common difference 1.5 and common ratio 0.5"
   ]
  },
  {
   "cell_type": "markdown",
   "metadata": {},
   "source": [
    "## Sum of N terms of an AP series:\n",
    " - first term (a) = 1\n",
    " - common difference (d) = 1.5"
   ]
  },
  {
   "cell_type": "code",
   "execution_count": 3,
   "metadata": {},
   "outputs": [
    {
     "name": "stdout",
     "output_type": "stream",
     "text": [
      "Sum of AP for 5 terms\n",
      " = 1.0 + 2.5 + 4.0 + 5.5 + 7.0\n",
      " = 20.0\n"
     ]
    }
   ],
   "source": [
    "N = 5\n",
    "d = 1.5\n",
    "a = 1\n",
    "x = [a + d * i for i in range(N)]\n",
    "print(f\"Sum of AP for {N} terms\\n = {' + '.join(map(str, x))}\\n = {sum(x)}\")\n",
    "# print(f\"Sum of AP for {N} terms\\n = {sum(x)}\")"
   ]
  },
  {
   "cell_type": "markdown",
   "metadata": {},
   "source": [
    "## Sum of N terms of a GP series:\n",
    " - first term (a) = 1\n",
    " - common ratio (r) = 0.5"
   ]
  },
  {
   "cell_type": "code",
   "execution_count": 4,
   "metadata": {},
   "outputs": [
    {
     "name": "stdout",
     "output_type": "stream",
     "text": [
      "Sum of GP for 5 terms\n",
      " = 1.0 + 0.5 + 0.25 + 0.125 + 0.0625\n",
      " = 1.9375\n"
     ]
    }
   ],
   "source": [
    "N = 5\n",
    "r = 0.5\n",
    "a = 1\n",
    "x = [a*r**i for i in range(N)]\n",
    "print(f\"Sum of GP for {N} terms\\n = {' + '.join(map(str, x))}\\n = {sum(x)}\")\n",
    "# print(f\"Sum of GP for {N} terms\\n = {sum(x)}\")"
   ]
  },
  {
   "cell_type": "markdown",
   "metadata": {},
   "source": [
    "## Sum of N terms of an HP series:\n",
    " - first term (1/a) = 1\n",
    " - common ratio (d) = 1.5"
   ]
  },
  {
   "cell_type": "code",
   "execution_count": 5,
   "metadata": {},
   "outputs": [
    {
     "name": "stdout",
     "output_type": "stream",
     "text": [
      "Sum of HP for 5 terms\n",
      " = 1.0 + 0.6666666666666666 + 0.5 + 0.4 + 0.3333333333333333\n",
      " = 2.9\n"
     ]
    }
   ],
   "source": [
    "N = 5\n",
    "r = 0.5\n",
    "a = 1\n",
    "x = [(a+r*i)**-1 for i in range(N)]\n",
    "print(f\"Sum of HP for {N} terms\\n = {' + '.join(map(str, x))}\\n = {sum(x)}\")\n",
    "# print(f\"Sum of HP for {N} terms\\n = {sum(x)}\")"
   ]
  },
  {
   "cell_type": "markdown",
   "metadata": {},
   "source": [
    "# Q3: Calculate the sum of the series given below accurate up to 4 place in decimal, where n = 1, 2, 3... Plot the sum versus n.\n",
    "\n",
    "$$\\sum_n {(-1)^{n-1} \\over {2^n}}$$"
   ]
  },
  {
   "cell_type": "code",
   "execution_count": 1,
   "metadata": {},
   "outputs": [
    {
     "name": "stdout",
     "output_type": "stream",
     "text": [
      "Value of the given expression precise upto 4 decimal places is 0.333333...\n",
      "We needed to consider 20 terms for achieving that precision.\n"
     ]
    },
    {
     "data": {
      "text/plain": [
       "[<matplotlib.lines.Line2D at 0x2a825fcc160>]"
      ]
     },
     "execution_count": 1,
     "metadata": {},
     "output_type": "execute_result"
    },
    {
     "data": {
      "image/png": "[encoded data removed]",
      "text/plain": [
       "<Figure size 432x288 with 1 Axes>"
      ]
     },
     "metadata": {
      "needs_background": "light"
     },
     "output_type": "display_data"
    }
   ],
   "source": [
    "# Defining the required function\n",
    "def Q3term(n):\n",
    "    return ((-1)**(n-1))/2**n\n",
    "\n",
    "# Calculating the terms\n",
    "precision = 6\n",
    "x = [1]\n",
    "y = [Q3term(1)]\n",
    "while True:\n",
    "    b = Q3term(x[-1]+1)\n",
    "    if round(y[-1]+b, precision) == round(y[-1], precision):\n",
    "        break\n",
    "    else:\n",
    "        x.append(x[-1]+1)\n",
    "        y.append(y[-1]+b)\n",
    "print(f\"Value of the given expression precise upto 4 decimal places is {round(y[-1], precision)}...\")\n",
    "print(f\"We needed to consider {x[-1]} terms for achieving that precision.\")\n",
    "\n",
    "# Plot the graph\n",
    "import matplotlib.pyplot as plt\n",
    "plt.plot(x, y)"
   ]
  },
  {
   "cell_type": "markdown",
   "metadata": {},
   "source": [
    "# Q4: Consider the following matrices:\n",
    "\n",
    "$$\n",
    "A = \\begin{pmatrix}\n",
    "2 & -3 & 1.4\\\\\n",
    "2.5 & 1 & -2\\\\\n",
    "-0.8 & 0 & 3.1\\\\\n",
    "\\end{pmatrix},\n",
    "\n",
    "B = \\begin{pmatrix}\n",
    "0 & -1 & 1\\\\\n",
    "1.5 & 0.5 & -2\\\\\n",
    "3 & 0 & -2\\\\\n",
    "\\end{pmatrix},\n",
    "\n",
    "C = \\begin{pmatrix}\n",
    "-2\\\\\n",
    "0.5\\\\\n",
    "1.5\\\\\n",
    "\\end{pmatrix},\n",
    "\n",
    "D = \\begin{pmatrix}\n",
    "1\\\\\n",
    "0\\\\\n",
    "-1\\\\\n",
    "\\end{pmatrix}\n",
    "$$\n",
    "\n",
    "### Find AB, D • C and BC"
   ]
  },
  {
   "cell_type": "code",
   "execution_count": 7,
   "metadata": {},
   "outputs": [],
   "source": [
    "from library.basic_arithmatic import Matrix\n",
    "\n",
    "A = Matrix([\n",
    "    [2, -3, 1.4],\n",
    "    [2.5 , 1, -2],\n",
    "    [-0.8, 0, 3.1]\n",
    "], name=\"A\", precision=4)\n",
    "\n",
    "B = Matrix([\n",
    "    [0, -1, 1],\n",
    "    [1.5, 0.5, -2],\n",
    "    [3, 0, -2]\n",
    "], name=\"B\", precision=4)\n",
    "\n",
    "C = Matrix([\n",
    "    [-2],\n",
    "    [0.5],\n",
    "    [1.5]\n",
    "], name=\"C\", precision=4)\n",
    "\n",
    "D = Matrix([\n",
    "    [1],\n",
    "    [0],\n",
    "    [-1]\n",
    "], name=\"D\", precision=4)"
   ]
  },
  {
   "cell_type": "code",
   "execution_count": 8,
   "metadata": {},
   "outputs": [
    {
     "name": "stdout",
     "output_type": "stream",
     "text": [
      "A×B = |-0.3\t-3.5\t5.2\t|\n",
      "      |-4.5\t-2\t4.5\t|\n",
      "      |9.3\t0.8\t-7\t|\n",
      "\n"
     ]
    }
   ],
   "source": [
    "# AB\n",
    "print(A.matmul(B))"
   ]
  },
  {
   "cell_type": "code",
   "execution_count": 9,
   "metadata": {},
   "outputs": [
    {
     "name": "stdout",
     "output_type": "stream",
     "text": [
      "DC = -3.5\n"
     ]
    }
   ],
   "source": [
    "# D.C\n",
    "print(f\"DC = {D.dot(C)}\")"
   ]
  },
  {
   "cell_type": "code",
   "execution_count": 10,
   "metadata": {},
   "outputs": [
    {
     "name": "stdout",
     "output_type": "stream",
     "text": [
      "B×C = |1\t|\n",
      "      |-5.75\t|\n",
      "      |-9\t|\n",
      "\n"
     ]
    }
   ],
   "source": [
    "# BC\n",
    "print(B.matmul(C))"
   ]
  },
  {
   "cell_type": "markdown",
   "metadata": {},
   "source": [
    "# Q5: Define your own class/structure myComplex and calculate the sum, product and modulus of (3 - 2i) and (1 + 2i)"
   ]
  },
  {
   "cell_type": "code",
   "execution_count": 11,
   "metadata": {},
   "outputs": [],
   "source": [
    "from library.basic_arithmatic import Complex\n",
    "\n",
    "A = Complex(real = 3, imag = -2, name = \"A\")\n",
    "B = Complex(real = 1, imag =  2, name = \"B\")"
   ]
  },
  {
   "cell_type": "code",
   "execution_count": 12,
   "metadata": {},
   "outputs": [
    {
     "name": "stdout",
     "output_type": "stream",
     "text": [
      "A+B = 4\n"
     ]
    }
   ],
   "source": [
    "print(A.add(B))"
   ]
  },
  {
   "cell_type": "code",
   "execution_count": 13,
   "metadata": {},
   "outputs": [
    {
     "name": "stdout",
     "output_type": "stream",
     "text": [
      "A*B = 7 + 4i\n"
     ]
    }
   ],
   "source": [
    "print(A.multiply(B))"
   ]
  },
  {
   "cell_type": "code",
   "execution_count": 14,
   "metadata": {},
   "outputs": [
    {
     "name": "stdout",
     "output_type": "stream",
     "text": [
      "3.605551275463989\n",
      "2.23606797749979\n"
     ]
    }
   ],
   "source": [
    "print(A.mod())\n",
    "print(B.mod())"
   ]
  }
 ],
 "metadata": {
  "kernelspec": {
   "display_name": "Python 3.9.13 64-bit",
   "language": "python",
   "name": "python3"
  },
  "language_info": {
   "codemirror_mode": {
    "name": "ipython",
    "version": 3
   },
   "file_extension": ".py",
   "mimetype": "text/x-python",
   "name": "python",
   "nbconvert_exporter": "python",
   "pygments_lexer": "ipython3",
   "version": "3.9.13"
  },
  "vscode": {
   "interpreter": {
    "hash": "8e284ee3255a07ad8bf76694974743c4c81cb57e7c969474d752d949b11d721e"
   }
  }
 },
 "nbformat": 4,
 "nbformat_minor": 2
}
